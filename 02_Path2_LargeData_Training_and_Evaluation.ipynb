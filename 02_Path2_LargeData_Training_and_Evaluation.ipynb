{
  "nbformat": 4,
  "nbformat_minor": 0,
  "metadata": {
    "colab": {
      "provenance": [],
      "collapsed_sections": [
        "R21Jk8erCl5C",
        "nzHsfJi2_2d4",
        "vwJpK5X-jm78",
        "AJJAXtIFkUzq",
        "Kj1MWeruEmZn",
        "ssZkPMH6TO7H",
        "UCybV3oTTCDO",
        "SqzqjUqyTWD5",
        "c5vtr6wjJ1pz",
        "1G6V-ID2Jx-9",
        "ZqtHQUPLJ7Ar",
        "rh5WCdw6XEeC",
        "dC6-nXQMKeNm",
        "Sf_jsouHU__p",
        "lljqFY4QKiE1",
        "oiDeUtudVC1u",
        "ATxkunu5Y4pP",
        "GVxywNKUaDHw",
        "c81yjFH0be04",
        "kXicKwBoblK4",
        "mCPQ2gSbbynB",
        "UeRzqwy1cE9z",
        "_ouk3JFTildt",
        "NGaUXi9cgB-r",
        "5pZ2YbwiU06N",
        "0QBjAtO7kiyB",
        "JWqtV1SRk2U5",
        "B24mTpojlC-8",
        "VhI3cirsYbbc",
        "8uDodWTqoOU3",
        "kEOC5Xt_aGKl",
        "wlRkxZonpwtQ",
        "5sJy0toGs8zt",
        "zx9SpVvR6jh3",
        "9OPresDA6oIw",
        "qxfjNsO1v3_c",
        "p3ooGnEfwVv8"
      ]
    },
    "kernelspec": {
      "name": "python3",
      "display_name": "Python 3"
    },
    "language_info": {
      "name": "python"
    }
  },
  "cells": [
    {
      "cell_type": "markdown",
      "source": [
        "# Path 2 – Training on Large Dataset"
      ],
      "metadata": {
        "id": "-RC-nFR9CjQq"
      }
    },
    {
      "cell_type": "markdown",
      "source": [
        "# 1. Introduction"
      ],
      "metadata": {
        "id": "R21Jk8erCl5C"
      }
    },
    {
      "cell_type": "markdown",
      "source": [
        "This notebook presents the second modeling pipeline (Path 2) for spam detection, focusing on training machine learning models on a large-scale, real-world dataset. Unlike Path 1, which used a small, clean benchmark dataset, this pipeline aims to explore how models perform when trained on noisy, diverse, and more representative data.\n",
        "\n",
        "The main objective of this path is to evaluate whether access to more data — even if noisier — can improve model robustness and generalization performance compared to small clean datasets. This approach simulates real-life scenarios where annotated data is abundant but less curated.\n",
        "\n",
        "This notebook follows the same modular approach as Path 1, with key stages adapted for large-scale processing:\n",
        "\n",
        "Data Loading and Preprocessing: Load a large external dataset with mixed-quality messages and apply consistent text cleaning.\n",
        "\n",
        "Vectorization with TF-IDF: Generate high-dimensional sparse feature vectors using the same preprocessing and vectorization pipeline for comparability.\n",
        "\n",
        "Model Training: Train the same two classifiers — Naive Bayes and Linear SVM — on the larger dataset.\n",
        "\n",
        "Validation and Testing:\n",
        "\n",
        "Evaluate models on a hold-out validation set.\n",
        "\n",
        "Test generalization on the small clean dataset (used in Path 1) and the general dataset.\n",
        "\n",
        "Real-World Prediction: Use the trained models to classify realistic messages to assess practical utility.\n",
        "\n",
        "Result Summary and Comparison: Compare the models' performance in terms of accuracy and F1 score across all datasets.\n",
        "\n",
        "This path provides critical insights into the trade-off between data quality and quantity. By contrasting the results from Path 1 and Path 2, we can better understand whether increasing data volume helps compensate for noise, and which model type adapts best to such conditions.\n",
        "\n"
      ],
      "metadata": {
        "id": "YwcJeXjRhxGw"
      }
    },
    {
      "cell_type": "markdown",
      "source": [
        "# 2. Setup"
      ],
      "metadata": {
        "id": "LqvihG6ECsTJ"
      }
    },
    {
      "cell_type": "markdown",
      "source": [
        "## 2.1 Install & Import Required Libraries Load Libraries and Settings"
      ],
      "metadata": {
        "id": "nzHsfJi2_2d4"
      }
    },
    {
      "cell_type": "code",
      "source": [
        "import pandas as pd\n",
        "import re\n",
        "import string\n",
        "import matplotlib.pyplot as plt\n",
        "import joblib\n",
        "\n",
        "from sklearn.model_selection import train_test_split\n",
        "from sklearn.feature_extraction.text import TfidfVectorizer\n",
        "from sklearn.naive_bayes import MultinomialNB\n",
        "from sklearn.svm import LinearSVC\n",
        "from sklearn.metrics import accuracy_score, f1_score, confusion_matrix, classification_report\n",
        "\n",
        "import nltk\n",
        "from nltk.corpus import stopwords\n",
        "from nltk.stem import WordNetLemmatizer\n",
        "nltk.download(\"stopwords\")\n",
        "nltk.download(\"wordnet\")\n",
        "nltk.download(\"omw-1.4\")"
      ],
      "metadata": {
        "colab": {
          "base_uri": "https://localhost:8080/"
        },
        "id": "WrF6ekyBAI9S",
        "outputId": "61c33555-af5e-4fdf-ed21-f81f9243bf36"
      },
      "execution_count": 1,
      "outputs": [
        {
          "output_type": "stream",
          "name": "stderr",
          "text": [
            "[nltk_data] Downloading package stopwords to /root/nltk_data...\n",
            "[nltk_data]   Unzipping corpora/stopwords.zip.\n",
            "[nltk_data] Downloading package wordnet to /root/nltk_data...\n",
            "[nltk_data] Downloading package omw-1.4 to /root/nltk_data...\n"
          ]
        },
        {
          "output_type": "execute_result",
          "data": {
            "text/plain": [
              "True"
            ]
          },
          "metadata": {},
          "execution_count": 1
        }
      ]
    },
    {
      "cell_type": "markdown",
      "source": [
        "# 3. Load Datasets\n",
        "\n"
      ],
      "metadata": {
        "id": "ItsbKo8dCxw6"
      }
    },
    {
      "cell_type": "markdown",
      "source": [
        "## 3.1 Dataset 2 – Large Dataset (Path 2 Training)\n",
        "\n",
        "\n",
        "\n",
        "\n",
        "\n",
        "\n",
        "\n",
        " – Large Combined SMS Dataset (from Kaggle) (Path 2 Training)\n",
        "This dataset combines multiple SMS spam datasets and contains **about 10,000 messages**.  \n",
        "It was created by *Tinu10kumar* and is available on Kaggle:  \n",
        "[Kaggle Dataset Link](https://www.kaggle.com/datasets/tinu10kumar/sms-spam-dataset)  \n",
        "**Role in project:** Used for training (in Path 2) and evaluation (in Path 1)."
      ],
      "metadata": {
        "id": "vwJpK5X-jm78"
      }
    },
    {
      "cell_type": "code",
      "source": [
        "# Load Dataset 2 (Large Combined Dataset from Kaggle)\n",
        "df_large = pd.read_csv(\"combined_dataset.csv\")\n",
        "\n",
        "df_large.head()"
      ],
      "metadata": {
        "colab": {
          "base_uri": "https://localhost:8080/",
          "height": 0
        },
        "id": "KFhpMXh8kOoQ",
        "outputId": "7d126d88-1b96-4aee-aae9-ba0f21804569"
      },
      "execution_count": 2,
      "outputs": [
        {
          "output_type": "execute_result",
          "data": {
            "text/plain": [
              "  target                                               text\n",
              "0   spam  Congratulations! You've been selected for a lu...\n",
              "1   spam  URGENT: Your account has been compromised. Cli...\n",
              "2   spam  You've won a free iPhone! Claim your prize by ...\n",
              "3   spam  Act now and receive a 50% discount on all purc...\n",
              "4   spam  Important notice: Your subscription will expir..."
            ],
            "text/html": [
              "\n",
              "  <div id=\"df-907dbdec-74a6-4e5c-931f-95abf9b982d5\" class=\"colab-df-container\">\n",
              "    <div>\n",
              "<style scoped>\n",
              "    .dataframe tbody tr th:only-of-type {\n",
              "        vertical-align: middle;\n",
              "    }\n",
              "\n",
              "    .dataframe tbody tr th {\n",
              "        vertical-align: top;\n",
              "    }\n",
              "\n",
              "    .dataframe thead th {\n",
              "        text-align: right;\n",
              "    }\n",
              "</style>\n",
              "<table border=\"1\" class=\"dataframe\">\n",
              "  <thead>\n",
              "    <tr style=\"text-align: right;\">\n",
              "      <th></th>\n",
              "      <th>target</th>\n",
              "      <th>text</th>\n",
              "    </tr>\n",
              "  </thead>\n",
              "  <tbody>\n",
              "    <tr>\n",
              "      <th>0</th>\n",
              "      <td>spam</td>\n",
              "      <td>Congratulations! You've been selected for a lu...</td>\n",
              "    </tr>\n",
              "    <tr>\n",
              "      <th>1</th>\n",
              "      <td>spam</td>\n",
              "      <td>URGENT: Your account has been compromised. Cli...</td>\n",
              "    </tr>\n",
              "    <tr>\n",
              "      <th>2</th>\n",
              "      <td>spam</td>\n",
              "      <td>You've won a free iPhone! Claim your prize by ...</td>\n",
              "    </tr>\n",
              "    <tr>\n",
              "      <th>3</th>\n",
              "      <td>spam</td>\n",
              "      <td>Act now and receive a 50% discount on all purc...</td>\n",
              "    </tr>\n",
              "    <tr>\n",
              "      <th>4</th>\n",
              "      <td>spam</td>\n",
              "      <td>Important notice: Your subscription will expir...</td>\n",
              "    </tr>\n",
              "  </tbody>\n",
              "</table>\n",
              "</div>\n",
              "    <div class=\"colab-df-buttons\">\n",
              "\n",
              "  <div class=\"colab-df-container\">\n",
              "    <button class=\"colab-df-convert\" onclick=\"convertToInteractive('df-907dbdec-74a6-4e5c-931f-95abf9b982d5')\"\n",
              "            title=\"Convert this dataframe to an interactive table.\"\n",
              "            style=\"display:none;\">\n",
              "\n",
              "  <svg xmlns=\"http://www.w3.org/2000/svg\" height=\"24px\" viewBox=\"0 -960 960 960\">\n",
              "    <path d=\"M120-120v-720h720v720H120Zm60-500h600v-160H180v160Zm220 220h160v-160H400v160Zm0 220h160v-160H400v160ZM180-400h160v-160H180v160Zm440 0h160v-160H620v160ZM180-180h160v-160H180v160Zm440 0h160v-160H620v160Z\"/>\n",
              "  </svg>\n",
              "    </button>\n",
              "\n",
              "  <style>\n",
              "    .colab-df-container {\n",
              "      display:flex;\n",
              "      gap: 12px;\n",
              "    }\n",
              "\n",
              "    .colab-df-convert {\n",
              "      background-color: #E8F0FE;\n",
              "      border: none;\n",
              "      border-radius: 50%;\n",
              "      cursor: pointer;\n",
              "      display: none;\n",
              "      fill: #1967D2;\n",
              "      height: 32px;\n",
              "      padding: 0 0 0 0;\n",
              "      width: 32px;\n",
              "    }\n",
              "\n",
              "    .colab-df-convert:hover {\n",
              "      background-color: #E2EBFA;\n",
              "      box-shadow: 0px 1px 2px rgba(60, 64, 67, 0.3), 0px 1px 3px 1px rgba(60, 64, 67, 0.15);\n",
              "      fill: #174EA6;\n",
              "    }\n",
              "\n",
              "    .colab-df-buttons div {\n",
              "      margin-bottom: 4px;\n",
              "    }\n",
              "\n",
              "    [theme=dark] .colab-df-convert {\n",
              "      background-color: #3B4455;\n",
              "      fill: #D2E3FC;\n",
              "    }\n",
              "\n",
              "    [theme=dark] .colab-df-convert:hover {\n",
              "      background-color: #434B5C;\n",
              "      box-shadow: 0px 1px 3px 1px rgba(0, 0, 0, 0.15);\n",
              "      filter: drop-shadow(0px 1px 2px rgba(0, 0, 0, 0.3));\n",
              "      fill: #FFFFFF;\n",
              "    }\n",
              "  </style>\n",
              "\n",
              "    <script>\n",
              "      const buttonEl =\n",
              "        document.querySelector('#df-907dbdec-74a6-4e5c-931f-95abf9b982d5 button.colab-df-convert');\n",
              "      buttonEl.style.display =\n",
              "        google.colab.kernel.accessAllowed ? 'block' : 'none';\n",
              "\n",
              "      async function convertToInteractive(key) {\n",
              "        const element = document.querySelector('#df-907dbdec-74a6-4e5c-931f-95abf9b982d5');\n",
              "        const dataTable =\n",
              "          await google.colab.kernel.invokeFunction('convertToInteractive',\n",
              "                                                    [key], {});\n",
              "        if (!dataTable) return;\n",
              "\n",
              "        const docLinkHtml = 'Like what you see? Visit the ' +\n",
              "          '<a target=\"_blank\" href=https://colab.research.google.com/notebooks/data_table.ipynb>data table notebook</a>'\n",
              "          + ' to learn more about interactive tables.';\n",
              "        element.innerHTML = '';\n",
              "        dataTable['output_type'] = 'display_data';\n",
              "        await google.colab.output.renderOutput(dataTable, element);\n",
              "        const docLink = document.createElement('div');\n",
              "        docLink.innerHTML = docLinkHtml;\n",
              "        element.appendChild(docLink);\n",
              "      }\n",
              "    </script>\n",
              "  </div>\n",
              "\n",
              "\n",
              "    <div id=\"df-717c157f-6d66-4854-a428-95c09d205498\">\n",
              "      <button class=\"colab-df-quickchart\" onclick=\"quickchart('df-717c157f-6d66-4854-a428-95c09d205498')\"\n",
              "                title=\"Suggest charts\"\n",
              "                style=\"display:none;\">\n",
              "\n",
              "<svg xmlns=\"http://www.w3.org/2000/svg\" height=\"24px\"viewBox=\"0 0 24 24\"\n",
              "     width=\"24px\">\n",
              "    <g>\n",
              "        <path d=\"M19 3H5c-1.1 0-2 .9-2 2v14c0 1.1.9 2 2 2h14c1.1 0 2-.9 2-2V5c0-1.1-.9-2-2-2zM9 17H7v-7h2v7zm4 0h-2V7h2v10zm4 0h-2v-4h2v4z\"/>\n",
              "    </g>\n",
              "</svg>\n",
              "      </button>\n",
              "\n",
              "<style>\n",
              "  .colab-df-quickchart {\n",
              "      --bg-color: #E8F0FE;\n",
              "      --fill-color: #1967D2;\n",
              "      --hover-bg-color: #E2EBFA;\n",
              "      --hover-fill-color: #174EA6;\n",
              "      --disabled-fill-color: #AAA;\n",
              "      --disabled-bg-color: #DDD;\n",
              "  }\n",
              "\n",
              "  [theme=dark] .colab-df-quickchart {\n",
              "      --bg-color: #3B4455;\n",
              "      --fill-color: #D2E3FC;\n",
              "      --hover-bg-color: #434B5C;\n",
              "      --hover-fill-color: #FFFFFF;\n",
              "      --disabled-bg-color: #3B4455;\n",
              "      --disabled-fill-color: #666;\n",
              "  }\n",
              "\n",
              "  .colab-df-quickchart {\n",
              "    background-color: var(--bg-color);\n",
              "    border: none;\n",
              "    border-radius: 50%;\n",
              "    cursor: pointer;\n",
              "    display: none;\n",
              "    fill: var(--fill-color);\n",
              "    height: 32px;\n",
              "    padding: 0;\n",
              "    width: 32px;\n",
              "  }\n",
              "\n",
              "  .colab-df-quickchart:hover {\n",
              "    background-color: var(--hover-bg-color);\n",
              "    box-shadow: 0 1px 2px rgba(60, 64, 67, 0.3), 0 1px 3px 1px rgba(60, 64, 67, 0.15);\n",
              "    fill: var(--button-hover-fill-color);\n",
              "  }\n",
              "\n",
              "  .colab-df-quickchart-complete:disabled,\n",
              "  .colab-df-quickchart-complete:disabled:hover {\n",
              "    background-color: var(--disabled-bg-color);\n",
              "    fill: var(--disabled-fill-color);\n",
              "    box-shadow: none;\n",
              "  }\n",
              "\n",
              "  .colab-df-spinner {\n",
              "    border: 2px solid var(--fill-color);\n",
              "    border-color: transparent;\n",
              "    border-bottom-color: var(--fill-color);\n",
              "    animation:\n",
              "      spin 1s steps(1) infinite;\n",
              "  }\n",
              "\n",
              "  @keyframes spin {\n",
              "    0% {\n",
              "      border-color: transparent;\n",
              "      border-bottom-color: var(--fill-color);\n",
              "      border-left-color: var(--fill-color);\n",
              "    }\n",
              "    20% {\n",
              "      border-color: transparent;\n",
              "      border-left-color: var(--fill-color);\n",
              "      border-top-color: var(--fill-color);\n",
              "    }\n",
              "    30% {\n",
              "      border-color: transparent;\n",
              "      border-left-color: var(--fill-color);\n",
              "      border-top-color: var(--fill-color);\n",
              "      border-right-color: var(--fill-color);\n",
              "    }\n",
              "    40% {\n",
              "      border-color: transparent;\n",
              "      border-right-color: var(--fill-color);\n",
              "      border-top-color: var(--fill-color);\n",
              "    }\n",
              "    60% {\n",
              "      border-color: transparent;\n",
              "      border-right-color: var(--fill-color);\n",
              "    }\n",
              "    80% {\n",
              "      border-color: transparent;\n",
              "      border-right-color: var(--fill-color);\n",
              "      border-bottom-color: var(--fill-color);\n",
              "    }\n",
              "    90% {\n",
              "      border-color: transparent;\n",
              "      border-bottom-color: var(--fill-color);\n",
              "    }\n",
              "  }\n",
              "</style>\n",
              "\n",
              "      <script>\n",
              "        async function quickchart(key) {\n",
              "          const quickchartButtonEl =\n",
              "            document.querySelector('#' + key + ' button');\n",
              "          quickchartButtonEl.disabled = true;  // To prevent multiple clicks.\n",
              "          quickchartButtonEl.classList.add('colab-df-spinner');\n",
              "          try {\n",
              "            const charts = await google.colab.kernel.invokeFunction(\n",
              "                'suggestCharts', [key], {});\n",
              "          } catch (error) {\n",
              "            console.error('Error during call to suggestCharts:', error);\n",
              "          }\n",
              "          quickchartButtonEl.classList.remove('colab-df-spinner');\n",
              "          quickchartButtonEl.classList.add('colab-df-quickchart-complete');\n",
              "        }\n",
              "        (() => {\n",
              "          let quickchartButtonEl =\n",
              "            document.querySelector('#df-717c157f-6d66-4854-a428-95c09d205498 button');\n",
              "          quickchartButtonEl.style.display =\n",
              "            google.colab.kernel.accessAllowed ? 'block' : 'none';\n",
              "        })();\n",
              "      </script>\n",
              "    </div>\n",
              "\n",
              "    </div>\n",
              "  </div>\n"
            ],
            "application/vnd.google.colaboratory.intrinsic+json": {
              "type": "dataframe",
              "variable_name": "df_large",
              "summary": "{\n  \"name\": \"df_large\",\n  \"rows\": 10961,\n  \"fields\": [\n    {\n      \"column\": \"target\",\n      \"properties\": {\n        \"dtype\": \"category\",\n        \"num_unique_values\": 2,\n        \"samples\": [\n          \"ham\",\n          \"spam\"\n        ],\n        \"semantic_type\": \"\",\n        \"description\": \"\"\n      }\n    },\n    {\n      \"column\": \"text\",\n      \"properties\": {\n        \"dtype\": \"string\",\n        \"num_unique_values\": 10286,\n        \"samples\": [\n          \"SERIOUSLY. TELL HER THOSE EXACT WORDS RIGHT NOW.\",\n          \"Dhoni have luck to win some big title.so we will win:)\"\n        ],\n        \"semantic_type\": \"\",\n        \"description\": \"\"\n      }\n    }\n  ]\n}"
            }
          },
          "metadata": {},
          "execution_count": 2
        }
      ]
    },
    {
      "cell_type": "markdown",
      "source": [
        "## 3.2 Load Dataset 1 – Small Dataset\n",
        "This dataset contains 5,574 SMS messages labeled as spam or ham.\n",
        "It was used in the PyCon 2016 tutorial by justmarkham and is available on GitHub.\n",
        "\n",
        "**Role in project:** Used for evaluation in Path 2."
      ],
      "metadata": {
        "id": "AJJAXtIFkUzq"
      }
    },
    {
      "cell_type": "code",
      "source": [
        "# Load Dataset 1 (Small SMS Spam Dataset from GitHub)\n",
        "url_small = \"https://raw.githubusercontent.com/justmarkham/pycon-2016-tutorial/master/data/sms.tsv\"\n",
        "\n",
        "# Load with appropriate parameters\n",
        "df_small = pd.read_csv(\n",
        "    url_small,\n",
        "    sep=\"\\t\",\n",
        "    header=None,\n",
        "    names=[\"label\", \"message\"]\n",
        ")\n",
        "\n",
        "# Preview the first few rows\n",
        "df_small.head()\n"
      ],
      "metadata": {
        "colab": {
          "base_uri": "https://localhost:8080/",
          "height": 0
        },
        "id": "YXl_tHvrko9p",
        "outputId": "3765e619-8b49-4d83-970a-4810cef4ddcd"
      },
      "execution_count": 3,
      "outputs": [
        {
          "output_type": "execute_result",
          "data": {
            "text/plain": [
              "  label                                            message\n",
              "0   ham  Go until jurong point, crazy.. Available only ...\n",
              "1   ham                      Ok lar... Joking wif u oni...\n",
              "2  spam  Free entry in 2 a wkly comp to win FA Cup fina...\n",
              "3   ham  U dun say so early hor... U c already then say...\n",
              "4   ham  Nah I don't think he goes to usf, he lives aro..."
            ],
            "text/html": [
              "\n",
              "  <div id=\"df-92680a28-4c70-460d-b780-9b1a91cd3f28\" class=\"colab-df-container\">\n",
              "    <div>\n",
              "<style scoped>\n",
              "    .dataframe tbody tr th:only-of-type {\n",
              "        vertical-align: middle;\n",
              "    }\n",
              "\n",
              "    .dataframe tbody tr th {\n",
              "        vertical-align: top;\n",
              "    }\n",
              "\n",
              "    .dataframe thead th {\n",
              "        text-align: right;\n",
              "    }\n",
              "</style>\n",
              "<table border=\"1\" class=\"dataframe\">\n",
              "  <thead>\n",
              "    <tr style=\"text-align: right;\">\n",
              "      <th></th>\n",
              "      <th>label</th>\n",
              "      <th>message</th>\n",
              "    </tr>\n",
              "  </thead>\n",
              "  <tbody>\n",
              "    <tr>\n",
              "      <th>0</th>\n",
              "      <td>ham</td>\n",
              "      <td>Go until jurong point, crazy.. Available only ...</td>\n",
              "    </tr>\n",
              "    <tr>\n",
              "      <th>1</th>\n",
              "      <td>ham</td>\n",
              "      <td>Ok lar... Joking wif u oni...</td>\n",
              "    </tr>\n",
              "    <tr>\n",
              "      <th>2</th>\n",
              "      <td>spam</td>\n",
              "      <td>Free entry in 2 a wkly comp to win FA Cup fina...</td>\n",
              "    </tr>\n",
              "    <tr>\n",
              "      <th>3</th>\n",
              "      <td>ham</td>\n",
              "      <td>U dun say so early hor... U c already then say...</td>\n",
              "    </tr>\n",
              "    <tr>\n",
              "      <th>4</th>\n",
              "      <td>ham</td>\n",
              "      <td>Nah I don't think he goes to usf, he lives aro...</td>\n",
              "    </tr>\n",
              "  </tbody>\n",
              "</table>\n",
              "</div>\n",
              "    <div class=\"colab-df-buttons\">\n",
              "\n",
              "  <div class=\"colab-df-container\">\n",
              "    <button class=\"colab-df-convert\" onclick=\"convertToInteractive('df-92680a28-4c70-460d-b780-9b1a91cd3f28')\"\n",
              "            title=\"Convert this dataframe to an interactive table.\"\n",
              "            style=\"display:none;\">\n",
              "\n",
              "  <svg xmlns=\"http://www.w3.org/2000/svg\" height=\"24px\" viewBox=\"0 -960 960 960\">\n",
              "    <path d=\"M120-120v-720h720v720H120Zm60-500h600v-160H180v160Zm220 220h160v-160H400v160Zm0 220h160v-160H400v160ZM180-400h160v-160H180v160Zm440 0h160v-160H620v160ZM180-180h160v-160H180v160Zm440 0h160v-160H620v160Z\"/>\n",
              "  </svg>\n",
              "    </button>\n",
              "\n",
              "  <style>\n",
              "    .colab-df-container {\n",
              "      display:flex;\n",
              "      gap: 12px;\n",
              "    }\n",
              "\n",
              "    .colab-df-convert {\n",
              "      background-color: #E8F0FE;\n",
              "      border: none;\n",
              "      border-radius: 50%;\n",
              "      cursor: pointer;\n",
              "      display: none;\n",
              "      fill: #1967D2;\n",
              "      height: 32px;\n",
              "      padding: 0 0 0 0;\n",
              "      width: 32px;\n",
              "    }\n",
              "\n",
              "    .colab-df-convert:hover {\n",
              "      background-color: #E2EBFA;\n",
              "      box-shadow: 0px 1px 2px rgba(60, 64, 67, 0.3), 0px 1px 3px 1px rgba(60, 64, 67, 0.15);\n",
              "      fill: #174EA6;\n",
              "    }\n",
              "\n",
              "    .colab-df-buttons div {\n",
              "      margin-bottom: 4px;\n",
              "    }\n",
              "\n",
              "    [theme=dark] .colab-df-convert {\n",
              "      background-color: #3B4455;\n",
              "      fill: #D2E3FC;\n",
              "    }\n",
              "\n",
              "    [theme=dark] .colab-df-convert:hover {\n",
              "      background-color: #434B5C;\n",
              "      box-shadow: 0px 1px 3px 1px rgba(0, 0, 0, 0.15);\n",
              "      filter: drop-shadow(0px 1px 2px rgba(0, 0, 0, 0.3));\n",
              "      fill: #FFFFFF;\n",
              "    }\n",
              "  </style>\n",
              "\n",
              "    <script>\n",
              "      const buttonEl =\n",
              "        document.querySelector('#df-92680a28-4c70-460d-b780-9b1a91cd3f28 button.colab-df-convert');\n",
              "      buttonEl.style.display =\n",
              "        google.colab.kernel.accessAllowed ? 'block' : 'none';\n",
              "\n",
              "      async function convertToInteractive(key) {\n",
              "        const element = document.querySelector('#df-92680a28-4c70-460d-b780-9b1a91cd3f28');\n",
              "        const dataTable =\n",
              "          await google.colab.kernel.invokeFunction('convertToInteractive',\n",
              "                                                    [key], {});\n",
              "        if (!dataTable) return;\n",
              "\n",
              "        const docLinkHtml = 'Like what you see? Visit the ' +\n",
              "          '<a target=\"_blank\" href=https://colab.research.google.com/notebooks/data_table.ipynb>data table notebook</a>'\n",
              "          + ' to learn more about interactive tables.';\n",
              "        element.innerHTML = '';\n",
              "        dataTable['output_type'] = 'display_data';\n",
              "        await google.colab.output.renderOutput(dataTable, element);\n",
              "        const docLink = document.createElement('div');\n",
              "        docLink.innerHTML = docLinkHtml;\n",
              "        element.appendChild(docLink);\n",
              "      }\n",
              "    </script>\n",
              "  </div>\n",
              "\n",
              "\n",
              "    <div id=\"df-082915db-3efa-4a6d-af7b-22d0be6a5b0e\">\n",
              "      <button class=\"colab-df-quickchart\" onclick=\"quickchart('df-082915db-3efa-4a6d-af7b-22d0be6a5b0e')\"\n",
              "                title=\"Suggest charts\"\n",
              "                style=\"display:none;\">\n",
              "\n",
              "<svg xmlns=\"http://www.w3.org/2000/svg\" height=\"24px\"viewBox=\"0 0 24 24\"\n",
              "     width=\"24px\">\n",
              "    <g>\n",
              "        <path d=\"M19 3H5c-1.1 0-2 .9-2 2v14c0 1.1.9 2 2 2h14c1.1 0 2-.9 2-2V5c0-1.1-.9-2-2-2zM9 17H7v-7h2v7zm4 0h-2V7h2v10zm4 0h-2v-4h2v4z\"/>\n",
              "    </g>\n",
              "</svg>\n",
              "      </button>\n",
              "\n",
              "<style>\n",
              "  .colab-df-quickchart {\n",
              "      --bg-color: #E8F0FE;\n",
              "      --fill-color: #1967D2;\n",
              "      --hover-bg-color: #E2EBFA;\n",
              "      --hover-fill-color: #174EA6;\n",
              "      --disabled-fill-color: #AAA;\n",
              "      --disabled-bg-color: #DDD;\n",
              "  }\n",
              "\n",
              "  [theme=dark] .colab-df-quickchart {\n",
              "      --bg-color: #3B4455;\n",
              "      --fill-color: #D2E3FC;\n",
              "      --hover-bg-color: #434B5C;\n",
              "      --hover-fill-color: #FFFFFF;\n",
              "      --disabled-bg-color: #3B4455;\n",
              "      --disabled-fill-color: #666;\n",
              "  }\n",
              "\n",
              "  .colab-df-quickchart {\n",
              "    background-color: var(--bg-color);\n",
              "    border: none;\n",
              "    border-radius: 50%;\n",
              "    cursor: pointer;\n",
              "    display: none;\n",
              "    fill: var(--fill-color);\n",
              "    height: 32px;\n",
              "    padding: 0;\n",
              "    width: 32px;\n",
              "  }\n",
              "\n",
              "  .colab-df-quickchart:hover {\n",
              "    background-color: var(--hover-bg-color);\n",
              "    box-shadow: 0 1px 2px rgba(60, 64, 67, 0.3), 0 1px 3px 1px rgba(60, 64, 67, 0.15);\n",
              "    fill: var(--button-hover-fill-color);\n",
              "  }\n",
              "\n",
              "  .colab-df-quickchart-complete:disabled,\n",
              "  .colab-df-quickchart-complete:disabled:hover {\n",
              "    background-color: var(--disabled-bg-color);\n",
              "    fill: var(--disabled-fill-color);\n",
              "    box-shadow: none;\n",
              "  }\n",
              "\n",
              "  .colab-df-spinner {\n",
              "    border: 2px solid var(--fill-color);\n",
              "    border-color: transparent;\n",
              "    border-bottom-color: var(--fill-color);\n",
              "    animation:\n",
              "      spin 1s steps(1) infinite;\n",
              "  }\n",
              "\n",
              "  @keyframes spin {\n",
              "    0% {\n",
              "      border-color: transparent;\n",
              "      border-bottom-color: var(--fill-color);\n",
              "      border-left-color: var(--fill-color);\n",
              "    }\n",
              "    20% {\n",
              "      border-color: transparent;\n",
              "      border-left-color: var(--fill-color);\n",
              "      border-top-color: var(--fill-color);\n",
              "    }\n",
              "    30% {\n",
              "      border-color: transparent;\n",
              "      border-left-color: var(--fill-color);\n",
              "      border-top-color: var(--fill-color);\n",
              "      border-right-color: var(--fill-color);\n",
              "    }\n",
              "    40% {\n",
              "      border-color: transparent;\n",
              "      border-right-color: var(--fill-color);\n",
              "      border-top-color: var(--fill-color);\n",
              "    }\n",
              "    60% {\n",
              "      border-color: transparent;\n",
              "      border-right-color: var(--fill-color);\n",
              "    }\n",
              "    80% {\n",
              "      border-color: transparent;\n",
              "      border-right-color: var(--fill-color);\n",
              "      border-bottom-color: var(--fill-color);\n",
              "    }\n",
              "    90% {\n",
              "      border-color: transparent;\n",
              "      border-bottom-color: var(--fill-color);\n",
              "    }\n",
              "  }\n",
              "</style>\n",
              "\n",
              "      <script>\n",
              "        async function quickchart(key) {\n",
              "          const quickchartButtonEl =\n",
              "            document.querySelector('#' + key + ' button');\n",
              "          quickchartButtonEl.disabled = true;  // To prevent multiple clicks.\n",
              "          quickchartButtonEl.classList.add('colab-df-spinner');\n",
              "          try {\n",
              "            const charts = await google.colab.kernel.invokeFunction(\n",
              "                'suggestCharts', [key], {});\n",
              "          } catch (error) {\n",
              "            console.error('Error during call to suggestCharts:', error);\n",
              "          }\n",
              "          quickchartButtonEl.classList.remove('colab-df-spinner');\n",
              "          quickchartButtonEl.classList.add('colab-df-quickchart-complete');\n",
              "        }\n",
              "        (() => {\n",
              "          let quickchartButtonEl =\n",
              "            document.querySelector('#df-082915db-3efa-4a6d-af7b-22d0be6a5b0e button');\n",
              "          quickchartButtonEl.style.display =\n",
              "            google.colab.kernel.accessAllowed ? 'block' : 'none';\n",
              "        })();\n",
              "      </script>\n",
              "    </div>\n",
              "\n",
              "    </div>\n",
              "  </div>\n"
            ],
            "application/vnd.google.colaboratory.intrinsic+json": {
              "type": "dataframe",
              "variable_name": "df_small",
              "summary": "{\n  \"name\": \"df_small\",\n  \"rows\": 5572,\n  \"fields\": [\n    {\n      \"column\": \"label\",\n      \"properties\": {\n        \"dtype\": \"category\",\n        \"num_unique_values\": 2,\n        \"samples\": [\n          \"spam\",\n          \"ham\"\n        ],\n        \"semantic_type\": \"\",\n        \"description\": \"\"\n      }\n    },\n    {\n      \"column\": \"message\",\n      \"properties\": {\n        \"dtype\": \"string\",\n        \"num_unique_values\": 5169,\n        \"samples\": [\n          \"K, makes sense, btw carlos is being difficult so you guys are gonna smoke while I go pick up the second batch and get gas\",\n          \"URGENT! Your mobile No *********** WON a \\u00a32,000 Bonus Caller Prize on 02/06/03! This is the 2nd attempt to reach YOU! Call 09066362220 ASAP! BOX97N7QP, 150ppm\"\n        ],\n        \"semantic_type\": \"\",\n        \"description\": \"\"\n      }\n    }\n  ]\n}"
            }
          },
          "metadata": {},
          "execution_count": 3
        }
      ]
    },
    {
      "cell_type": "markdown",
      "source": [
        "## 3.3 Dataset 3 – External Evaluation Dataset (Mendeley Data)\n",
        "\n",
        "This dataset contains **SMS spam/ham messages** collected independently for research purposes.  \n",
        "It is publicly available from Mendeley Data:  \n",
        "[Mendeley Dataset Link](https://data.mendeley.com/datasets/f45bkkt8pr/1)  \n",
        "**Role in project:** Used as a generalization test set in both paths.\n"
      ],
      "metadata": {
        "id": "Kj1MWeruEmZn"
      }
    },
    {
      "cell_type": "code",
      "source": [
        "# Load Dataset 3 (External Evaluation Dataset)\n",
        "df_general = pd.read_csv(\"Dataset_5971.csv\")\n",
        "\n",
        "df_general.head()\n"
      ],
      "metadata": {
        "colab": {
          "base_uri": "https://localhost:8080/",
          "height": 0
        },
        "id": "Lohu0LNWEqNc",
        "outputId": "ca901d5a-eb04-40d2-f47b-460cb78704ae"
      },
      "execution_count": 4,
      "outputs": [
        {
          "output_type": "execute_result",
          "data": {
            "text/plain": [
              "      LABEL                                               TEXT URL EMAIL PHONE\n",
              "0       ham  Your opinion about me? 1. Over 2. Jada 3. Kusr...  No    No    No\n",
              "1       ham  What's up? Do you want me to come online? If y...  No    No    No\n",
              "2       ham                       So u workin overtime nigpun?  No    No    No\n",
              "3       ham  Also sir, i sent you an email about how to log...  No    No    No\n",
              "4  Smishing  Please Stay At Home. To encourage the notion o...  No    No    No"
            ],
            "text/html": [
              "\n",
              "  <div id=\"df-46171c2a-c96e-47a1-a5d4-1620e0104b14\" class=\"colab-df-container\">\n",
              "    <div>\n",
              "<style scoped>\n",
              "    .dataframe tbody tr th:only-of-type {\n",
              "        vertical-align: middle;\n",
              "    }\n",
              "\n",
              "    .dataframe tbody tr th {\n",
              "        vertical-align: top;\n",
              "    }\n",
              "\n",
              "    .dataframe thead th {\n",
              "        text-align: right;\n",
              "    }\n",
              "</style>\n",
              "<table border=\"1\" class=\"dataframe\">\n",
              "  <thead>\n",
              "    <tr style=\"text-align: right;\">\n",
              "      <th></th>\n",
              "      <th>LABEL</th>\n",
              "      <th>TEXT</th>\n",
              "      <th>URL</th>\n",
              "      <th>EMAIL</th>\n",
              "      <th>PHONE</th>\n",
              "    </tr>\n",
              "  </thead>\n",
              "  <tbody>\n",
              "    <tr>\n",
              "      <th>0</th>\n",
              "      <td>ham</td>\n",
              "      <td>Your opinion about me? 1. Over 2. Jada 3. Kusr...</td>\n",
              "      <td>No</td>\n",
              "      <td>No</td>\n",
              "      <td>No</td>\n",
              "    </tr>\n",
              "    <tr>\n",
              "      <th>1</th>\n",
              "      <td>ham</td>\n",
              "      <td>What's up? Do you want me to come online? If y...</td>\n",
              "      <td>No</td>\n",
              "      <td>No</td>\n",
              "      <td>No</td>\n",
              "    </tr>\n",
              "    <tr>\n",
              "      <th>2</th>\n",
              "      <td>ham</td>\n",
              "      <td>So u workin overtime nigpun?</td>\n",
              "      <td>No</td>\n",
              "      <td>No</td>\n",
              "      <td>No</td>\n",
              "    </tr>\n",
              "    <tr>\n",
              "      <th>3</th>\n",
              "      <td>ham</td>\n",
              "      <td>Also sir, i sent you an email about how to log...</td>\n",
              "      <td>No</td>\n",
              "      <td>No</td>\n",
              "      <td>No</td>\n",
              "    </tr>\n",
              "    <tr>\n",
              "      <th>4</th>\n",
              "      <td>Smishing</td>\n",
              "      <td>Please Stay At Home. To encourage the notion o...</td>\n",
              "      <td>No</td>\n",
              "      <td>No</td>\n",
              "      <td>No</td>\n",
              "    </tr>\n",
              "  </tbody>\n",
              "</table>\n",
              "</div>\n",
              "    <div class=\"colab-df-buttons\">\n",
              "\n",
              "  <div class=\"colab-df-container\">\n",
              "    <button class=\"colab-df-convert\" onclick=\"convertToInteractive('df-46171c2a-c96e-47a1-a5d4-1620e0104b14')\"\n",
              "            title=\"Convert this dataframe to an interactive table.\"\n",
              "            style=\"display:none;\">\n",
              "\n",
              "  <svg xmlns=\"http://www.w3.org/2000/svg\" height=\"24px\" viewBox=\"0 -960 960 960\">\n",
              "    <path d=\"M120-120v-720h720v720H120Zm60-500h600v-160H180v160Zm220 220h160v-160H400v160Zm0 220h160v-160H400v160ZM180-400h160v-160H180v160Zm440 0h160v-160H620v160ZM180-180h160v-160H180v160Zm440 0h160v-160H620v160Z\"/>\n",
              "  </svg>\n",
              "    </button>\n",
              "\n",
              "  <style>\n",
              "    .colab-df-container {\n",
              "      display:flex;\n",
              "      gap: 12px;\n",
              "    }\n",
              "\n",
              "    .colab-df-convert {\n",
              "      background-color: #E8F0FE;\n",
              "      border: none;\n",
              "      border-radius: 50%;\n",
              "      cursor: pointer;\n",
              "      display: none;\n",
              "      fill: #1967D2;\n",
              "      height: 32px;\n",
              "      padding: 0 0 0 0;\n",
              "      width: 32px;\n",
              "    }\n",
              "\n",
              "    .colab-df-convert:hover {\n",
              "      background-color: #E2EBFA;\n",
              "      box-shadow: 0px 1px 2px rgba(60, 64, 67, 0.3), 0px 1px 3px 1px rgba(60, 64, 67, 0.15);\n",
              "      fill: #174EA6;\n",
              "    }\n",
              "\n",
              "    .colab-df-buttons div {\n",
              "      margin-bottom: 4px;\n",
              "    }\n",
              "\n",
              "    [theme=dark] .colab-df-convert {\n",
              "      background-color: #3B4455;\n",
              "      fill: #D2E3FC;\n",
              "    }\n",
              "\n",
              "    [theme=dark] .colab-df-convert:hover {\n",
              "      background-color: #434B5C;\n",
              "      box-shadow: 0px 1px 3px 1px rgba(0, 0, 0, 0.15);\n",
              "      filter: drop-shadow(0px 1px 2px rgba(0, 0, 0, 0.3));\n",
              "      fill: #FFFFFF;\n",
              "    }\n",
              "  </style>\n",
              "\n",
              "    <script>\n",
              "      const buttonEl =\n",
              "        document.querySelector('#df-46171c2a-c96e-47a1-a5d4-1620e0104b14 button.colab-df-convert');\n",
              "      buttonEl.style.display =\n",
              "        google.colab.kernel.accessAllowed ? 'block' : 'none';\n",
              "\n",
              "      async function convertToInteractive(key) {\n",
              "        const element = document.querySelector('#df-46171c2a-c96e-47a1-a5d4-1620e0104b14');\n",
              "        const dataTable =\n",
              "          await google.colab.kernel.invokeFunction('convertToInteractive',\n",
              "                                                    [key], {});\n",
              "        if (!dataTable) return;\n",
              "\n",
              "        const docLinkHtml = 'Like what you see? Visit the ' +\n",
              "          '<a target=\"_blank\" href=https://colab.research.google.com/notebooks/data_table.ipynb>data table notebook</a>'\n",
              "          + ' to learn more about interactive tables.';\n",
              "        element.innerHTML = '';\n",
              "        dataTable['output_type'] = 'display_data';\n",
              "        await google.colab.output.renderOutput(dataTable, element);\n",
              "        const docLink = document.createElement('div');\n",
              "        docLink.innerHTML = docLinkHtml;\n",
              "        element.appendChild(docLink);\n",
              "      }\n",
              "    </script>\n",
              "  </div>\n",
              "\n",
              "\n",
              "    <div id=\"df-ad95de06-9559-4ef9-9340-8c2ef39cd5d0\">\n",
              "      <button class=\"colab-df-quickchart\" onclick=\"quickchart('df-ad95de06-9559-4ef9-9340-8c2ef39cd5d0')\"\n",
              "                title=\"Suggest charts\"\n",
              "                style=\"display:none;\">\n",
              "\n",
              "<svg xmlns=\"http://www.w3.org/2000/svg\" height=\"24px\"viewBox=\"0 0 24 24\"\n",
              "     width=\"24px\">\n",
              "    <g>\n",
              "        <path d=\"M19 3H5c-1.1 0-2 .9-2 2v14c0 1.1.9 2 2 2h14c1.1 0 2-.9 2-2V5c0-1.1-.9-2-2-2zM9 17H7v-7h2v7zm4 0h-2V7h2v10zm4 0h-2v-4h2v4z\"/>\n",
              "    </g>\n",
              "</svg>\n",
              "      </button>\n",
              "\n",
              "<style>\n",
              "  .colab-df-quickchart {\n",
              "      --bg-color: #E8F0FE;\n",
              "      --fill-color: #1967D2;\n",
              "      --hover-bg-color: #E2EBFA;\n",
              "      --hover-fill-color: #174EA6;\n",
              "      --disabled-fill-color: #AAA;\n",
              "      --disabled-bg-color: #DDD;\n",
              "  }\n",
              "\n",
              "  [theme=dark] .colab-df-quickchart {\n",
              "      --bg-color: #3B4455;\n",
              "      --fill-color: #D2E3FC;\n",
              "      --hover-bg-color: #434B5C;\n",
              "      --hover-fill-color: #FFFFFF;\n",
              "      --disabled-bg-color: #3B4455;\n",
              "      --disabled-fill-color: #666;\n",
              "  }\n",
              "\n",
              "  .colab-df-quickchart {\n",
              "    background-color: var(--bg-color);\n",
              "    border: none;\n",
              "    border-radius: 50%;\n",
              "    cursor: pointer;\n",
              "    display: none;\n",
              "    fill: var(--fill-color);\n",
              "    height: 32px;\n",
              "    padding: 0;\n",
              "    width: 32px;\n",
              "  }\n",
              "\n",
              "  .colab-df-quickchart:hover {\n",
              "    background-color: var(--hover-bg-color);\n",
              "    box-shadow: 0 1px 2px rgba(60, 64, 67, 0.3), 0 1px 3px 1px rgba(60, 64, 67, 0.15);\n",
              "    fill: var(--button-hover-fill-color);\n",
              "  }\n",
              "\n",
              "  .colab-df-quickchart-complete:disabled,\n",
              "  .colab-df-quickchart-complete:disabled:hover {\n",
              "    background-color: var(--disabled-bg-color);\n",
              "    fill: var(--disabled-fill-color);\n",
              "    box-shadow: none;\n",
              "  }\n",
              "\n",
              "  .colab-df-spinner {\n",
              "    border: 2px solid var(--fill-color);\n",
              "    border-color: transparent;\n",
              "    border-bottom-color: var(--fill-color);\n",
              "    animation:\n",
              "      spin 1s steps(1) infinite;\n",
              "  }\n",
              "\n",
              "  @keyframes spin {\n",
              "    0% {\n",
              "      border-color: transparent;\n",
              "      border-bottom-color: var(--fill-color);\n",
              "      border-left-color: var(--fill-color);\n",
              "    }\n",
              "    20% {\n",
              "      border-color: transparent;\n",
              "      border-left-color: var(--fill-color);\n",
              "      border-top-color: var(--fill-color);\n",
              "    }\n",
              "    30% {\n",
              "      border-color: transparent;\n",
              "      border-left-color: var(--fill-color);\n",
              "      border-top-color: var(--fill-color);\n",
              "      border-right-color: var(--fill-color);\n",
              "    }\n",
              "    40% {\n",
              "      border-color: transparent;\n",
              "      border-right-color: var(--fill-color);\n",
              "      border-top-color: var(--fill-color);\n",
              "    }\n",
              "    60% {\n",
              "      border-color: transparent;\n",
              "      border-right-color: var(--fill-color);\n",
              "    }\n",
              "    80% {\n",
              "      border-color: transparent;\n",
              "      border-right-color: var(--fill-color);\n",
              "      border-bottom-color: var(--fill-color);\n",
              "    }\n",
              "    90% {\n",
              "      border-color: transparent;\n",
              "      border-bottom-color: var(--fill-color);\n",
              "    }\n",
              "  }\n",
              "</style>\n",
              "\n",
              "      <script>\n",
              "        async function quickchart(key) {\n",
              "          const quickchartButtonEl =\n",
              "            document.querySelector('#' + key + ' button');\n",
              "          quickchartButtonEl.disabled = true;  // To prevent multiple clicks.\n",
              "          quickchartButtonEl.classList.add('colab-df-spinner');\n",
              "          try {\n",
              "            const charts = await google.colab.kernel.invokeFunction(\n",
              "                'suggestCharts', [key], {});\n",
              "          } catch (error) {\n",
              "            console.error('Error during call to suggestCharts:', error);\n",
              "          }\n",
              "          quickchartButtonEl.classList.remove('colab-df-spinner');\n",
              "          quickchartButtonEl.classList.add('colab-df-quickchart-complete');\n",
              "        }\n",
              "        (() => {\n",
              "          let quickchartButtonEl =\n",
              "            document.querySelector('#df-ad95de06-9559-4ef9-9340-8c2ef39cd5d0 button');\n",
              "          quickchartButtonEl.style.display =\n",
              "            google.colab.kernel.accessAllowed ? 'block' : 'none';\n",
              "        })();\n",
              "      </script>\n",
              "    </div>\n",
              "\n",
              "    </div>\n",
              "  </div>\n"
            ],
            "application/vnd.google.colaboratory.intrinsic+json": {
              "type": "dataframe",
              "variable_name": "df_general",
              "summary": "{\n  \"name\": \"df_general\",\n  \"rows\": 5971,\n  \"fields\": [\n    {\n      \"column\": \"LABEL\",\n      \"properties\": {\n        \"dtype\": \"category\",\n        \"num_unique_values\": 5,\n        \"samples\": [\n          \"Smishing\",\n          \"smishing\",\n          \"spam\"\n        ],\n        \"semantic_type\": \"\",\n        \"description\": \"\"\n      }\n    },\n    {\n      \"column\": \"TEXT\",\n      \"properties\": {\n        \"dtype\": \"string\",\n        \"num_unique_values\": 5949,\n        \"samples\": [\n          \"Ur cash-balance is currently 500 pounds - to maximize ur cash-in now send CASH to 86688 only 150p/msg. CC: 08718720201\",\n          \"4mths half price Orange line rental & latest camera phones 4 FREE. Had your phone 11mths+? Call MobilesDirect free on 08000938768 to update now!\",\n          \"K da:)how many page you want?\"\n        ],\n        \"semantic_type\": \"\",\n        \"description\": \"\"\n      }\n    },\n    {\n      \"column\": \"URL\",\n      \"properties\": {\n        \"dtype\": \"category\",\n        \"num_unique_values\": 2,\n        \"samples\": [\n          \"yes\",\n          \"No\"\n        ],\n        \"semantic_type\": \"\",\n        \"description\": \"\"\n      }\n    },\n    {\n      \"column\": \"EMAIL\",\n      \"properties\": {\n        \"dtype\": \"category\",\n        \"num_unique_values\": 2,\n        \"samples\": [\n          \"yes\",\n          \"No\"\n        ],\n        \"semantic_type\": \"\",\n        \"description\": \"\"\n      }\n    },\n    {\n      \"column\": \"PHONE\",\n      \"properties\": {\n        \"dtype\": \"category\",\n        \"num_unique_values\": 2,\n        \"samples\": [\n          \"yes\",\n          \"No\"\n        ],\n        \"semantic_type\": \"\",\n        \"description\": \"\"\n      }\n    }\n  ]\n}"
            }
          },
          "metadata": {},
          "execution_count": 4
        }
      ]
    },
    {
      "cell_type": "markdown",
      "source": [
        "## 3.4 Dataset Overview and Basic Statistics\n",
        "\n",
        "We explore the number of messages and spam/ham distribution in each dataset before cleaning."
      ],
      "metadata": {
        "id": "WFFsRP0OmIOG"
      }
    },
    {
      "cell_type": "markdown",
      "source": [
        "### 3.4.1 Dataset 2 (Large)\n",
        "Note: The original label column in this dataset is called \"target\". We'll rename it in the cleaning phase.\n"
      ],
      "metadata": {
        "id": "ssZkPMH6TO7H"
      }
    },
    {
      "cell_type": "code",
      "source": [
        "print(df_large.shape)\n",
        "print(df_large['target'].value_counts())\n"
      ],
      "metadata": {
        "colab": {
          "base_uri": "https://localhost:8080/"
        },
        "id": "AwpDxNc-TLRq",
        "outputId": "88a2ef51-ed52-4c54-ebce-10424440ee16"
      },
      "execution_count": 5,
      "outputs": [
        {
          "output_type": "stream",
          "name": "stdout",
          "text": [
            "(10961, 2)\n",
            "target\n",
            "ham     8555\n",
            "spam    2406\n",
            "Name: count, dtype: int64\n"
          ]
        }
      ]
    },
    {
      "cell_type": "markdown",
      "source": [
        "### 3.4.2 Dataset 1 (Small)\n",
        "\n"
      ],
      "metadata": {
        "id": "UCybV3oTTCDO"
      }
    },
    {
      "cell_type": "code",
      "source": [
        "print(df_small.shape)\n",
        "print(df_small['label'].value_counts())"
      ],
      "metadata": {
        "colab": {
          "base_uri": "https://localhost:8080/"
        },
        "id": "YWasmKV1S10Z",
        "outputId": "3920539d-2179-45ba-d4af-882a40a2988c"
      },
      "execution_count": 6,
      "outputs": [
        {
          "output_type": "stream",
          "name": "stdout",
          "text": [
            "(5572, 2)\n",
            "label\n",
            "ham     4825\n",
            "spam     747\n",
            "Name: count, dtype: int64\n"
          ]
        }
      ]
    },
    {
      "cell_type": "markdown",
      "source": [
        "### 3.4.3 Dataset 3 (General)\n",
        "Note: This dataset uses \"LABEL\" for labels and \"TEXT\" for message content. These will be standardized later.\n"
      ],
      "metadata": {
        "id": "SqzqjUqyTWD5"
      }
    },
    {
      "cell_type": "code",
      "source": [
        "print(df_general.shape)\n",
        "print(df_general['LABEL'].value_counts())"
      ],
      "metadata": {
        "colab": {
          "base_uri": "https://localhost:8080/"
        },
        "id": "J8XwJ1p7TpRv",
        "outputId": "76c58140-5da2-4e69-9bd0-97c2d2137f28"
      },
      "execution_count": 7,
      "outputs": [
        {
          "output_type": "stream",
          "name": "stdout",
          "text": [
            "(5971, 5)\n",
            "LABEL\n",
            "ham         4844\n",
            "Smishing     616\n",
            "spam         466\n",
            "Spam          23\n",
            "smishing      22\n",
            "Name: count, dtype: int64\n"
          ]
        }
      ]
    },
    {
      "cell_type": "markdown",
      "source": [
        "# 4. Data Cleaning & Harmonization\n",
        "\n",
        "In this section, we clean and unify the structure of all three datasets to ensure compatibility across both training paths."
      ],
      "metadata": {
        "id": "V0zfNfTC_-Pe"
      }
    },
    {
      "cell_type": "markdown",
      "source": [
        "## 4.1 Standardize Column Names\n",
        "We ensure that all datasets have consistent structure: two columns named `label` and `message`,\n",
        "with all labels in lowercase and harmonized across datasets.\n"
      ],
      "metadata": {
        "id": "aHY94jRGYYRD"
      }
    },
    {
      "cell_type": "markdown",
      "source": [
        "### 4.1.1 Dataset 2 – Large (from Kaggle)\n",
        "We rename the original columns `target` → `label` and `text` → `message`.\n",
        "We also lowercase the labels to ensure consistency.\n"
      ],
      "metadata": {
        "id": "c5vtr6wjJ1pz"
      }
    },
    {
      "cell_type": "code",
      "source": [
        "# Rename columns to match standard names\n",
        "df_large = df_large.rename(columns={'target': 'label', 'text': 'message'})\n",
        "\n",
        "# Keep only relevant columns\n",
        "df_large = df_large[['label', 'message']]\n",
        "\n",
        "# Normalize label values\n",
        "df_large['label'] = df_large['label'].str.strip().str.lower()\n"
      ],
      "metadata": {
        "id": "RLFDOM1QFc98"
      },
      "execution_count": 8,
      "outputs": []
    },
    {
      "cell_type": "markdown",
      "source": [
        "### 4.1.2 Dataset 1 – Small\n",
        "Standard column names are already defined when loading the dataset, but we normalize label values for consistency.\n"
      ],
      "metadata": {
        "id": "1G6V-ID2Jx-9"
      }
    },
    {
      "cell_type": "code",
      "source": [
        "# Dataset 1 already has correct column names from initial load:\n",
        "# df_small.columns = ['label', 'message']\n",
        "\n",
        "# Normalize label values just in case\n",
        "df_small['label'] = df_small['label'].str.strip().str.lower()\n",
        "\n",
        "# No changes needed\n",
        "df_small.head()\n"
      ],
      "metadata": {
        "colab": {
          "base_uri": "https://localhost:8080/",
          "height": 206
        },
        "id": "-cqMXvjSJdS7",
        "outputId": "bdea624e-5fc8-468c-e17c-5ef76969041c"
      },
      "execution_count": 9,
      "outputs": [
        {
          "output_type": "execute_result",
          "data": {
            "text/plain": [
              "  label                                            message\n",
              "0   ham  Go until jurong point, crazy.. Available only ...\n",
              "1   ham                      Ok lar... Joking wif u oni...\n",
              "2  spam  Free entry in 2 a wkly comp to win FA Cup fina...\n",
              "3   ham  U dun say so early hor... U c already then say...\n",
              "4   ham  Nah I don't think he goes to usf, he lives aro..."
            ],
            "text/html": [
              "\n",
              "  <div id=\"df-0bf9329c-c239-4fae-b2f1-cb6a97c2fe60\" class=\"colab-df-container\">\n",
              "    <div>\n",
              "<style scoped>\n",
              "    .dataframe tbody tr th:only-of-type {\n",
              "        vertical-align: middle;\n",
              "    }\n",
              "\n",
              "    .dataframe tbody tr th {\n",
              "        vertical-align: top;\n",
              "    }\n",
              "\n",
              "    .dataframe thead th {\n",
              "        text-align: right;\n",
              "    }\n",
              "</style>\n",
              "<table border=\"1\" class=\"dataframe\">\n",
              "  <thead>\n",
              "    <tr style=\"text-align: right;\">\n",
              "      <th></th>\n",
              "      <th>label</th>\n",
              "      <th>message</th>\n",
              "    </tr>\n",
              "  </thead>\n",
              "  <tbody>\n",
              "    <tr>\n",
              "      <th>0</th>\n",
              "      <td>ham</td>\n",
              "      <td>Go until jurong point, crazy.. Available only ...</td>\n",
              "    </tr>\n",
              "    <tr>\n",
              "      <th>1</th>\n",
              "      <td>ham</td>\n",
              "      <td>Ok lar... Joking wif u oni...</td>\n",
              "    </tr>\n",
              "    <tr>\n",
              "      <th>2</th>\n",
              "      <td>spam</td>\n",
              "      <td>Free entry in 2 a wkly comp to win FA Cup fina...</td>\n",
              "    </tr>\n",
              "    <tr>\n",
              "      <th>3</th>\n",
              "      <td>ham</td>\n",
              "      <td>U dun say so early hor... U c already then say...</td>\n",
              "    </tr>\n",
              "    <tr>\n",
              "      <th>4</th>\n",
              "      <td>ham</td>\n",
              "      <td>Nah I don't think he goes to usf, he lives aro...</td>\n",
              "    </tr>\n",
              "  </tbody>\n",
              "</table>\n",
              "</div>\n",
              "    <div class=\"colab-df-buttons\">\n",
              "\n",
              "  <div class=\"colab-df-container\">\n",
              "    <button class=\"colab-df-convert\" onclick=\"convertToInteractive('df-0bf9329c-c239-4fae-b2f1-cb6a97c2fe60')\"\n",
              "            title=\"Convert this dataframe to an interactive table.\"\n",
              "            style=\"display:none;\">\n",
              "\n",
              "  <svg xmlns=\"http://www.w3.org/2000/svg\" height=\"24px\" viewBox=\"0 -960 960 960\">\n",
              "    <path d=\"M120-120v-720h720v720H120Zm60-500h600v-160H180v160Zm220 220h160v-160H400v160Zm0 220h160v-160H400v160ZM180-400h160v-160H180v160Zm440 0h160v-160H620v160ZM180-180h160v-160H180v160Zm440 0h160v-160H620v160Z\"/>\n",
              "  </svg>\n",
              "    </button>\n",
              "\n",
              "  <style>\n",
              "    .colab-df-container {\n",
              "      display:flex;\n",
              "      gap: 12px;\n",
              "    }\n",
              "\n",
              "    .colab-df-convert {\n",
              "      background-color: #E8F0FE;\n",
              "      border: none;\n",
              "      border-radius: 50%;\n",
              "      cursor: pointer;\n",
              "      display: none;\n",
              "      fill: #1967D2;\n",
              "      height: 32px;\n",
              "      padding: 0 0 0 0;\n",
              "      width: 32px;\n",
              "    }\n",
              "\n",
              "    .colab-df-convert:hover {\n",
              "      background-color: #E2EBFA;\n",
              "      box-shadow: 0px 1px 2px rgba(60, 64, 67, 0.3), 0px 1px 3px 1px rgba(60, 64, 67, 0.15);\n",
              "      fill: #174EA6;\n",
              "    }\n",
              "\n",
              "    .colab-df-buttons div {\n",
              "      margin-bottom: 4px;\n",
              "    }\n",
              "\n",
              "    [theme=dark] .colab-df-convert {\n",
              "      background-color: #3B4455;\n",
              "      fill: #D2E3FC;\n",
              "    }\n",
              "\n",
              "    [theme=dark] .colab-df-convert:hover {\n",
              "      background-color: #434B5C;\n",
              "      box-shadow: 0px 1px 3px 1px rgba(0, 0, 0, 0.15);\n",
              "      filter: drop-shadow(0px 1px 2px rgba(0, 0, 0, 0.3));\n",
              "      fill: #FFFFFF;\n",
              "    }\n",
              "  </style>\n",
              "\n",
              "    <script>\n",
              "      const buttonEl =\n",
              "        document.querySelector('#df-0bf9329c-c239-4fae-b2f1-cb6a97c2fe60 button.colab-df-convert');\n",
              "      buttonEl.style.display =\n",
              "        google.colab.kernel.accessAllowed ? 'block' : 'none';\n",
              "\n",
              "      async function convertToInteractive(key) {\n",
              "        const element = document.querySelector('#df-0bf9329c-c239-4fae-b2f1-cb6a97c2fe60');\n",
              "        const dataTable =\n",
              "          await google.colab.kernel.invokeFunction('convertToInteractive',\n",
              "                                                    [key], {});\n",
              "        if (!dataTable) return;\n",
              "\n",
              "        const docLinkHtml = 'Like what you see? Visit the ' +\n",
              "          '<a target=\"_blank\" href=https://colab.research.google.com/notebooks/data_table.ipynb>data table notebook</a>'\n",
              "          + ' to learn more about interactive tables.';\n",
              "        element.innerHTML = '';\n",
              "        dataTable['output_type'] = 'display_data';\n",
              "        await google.colab.output.renderOutput(dataTable, element);\n",
              "        const docLink = document.createElement('div');\n",
              "        docLink.innerHTML = docLinkHtml;\n",
              "        element.appendChild(docLink);\n",
              "      }\n",
              "    </script>\n",
              "  </div>\n",
              "\n",
              "\n",
              "    <div id=\"df-56a272f4-1342-4c13-9009-19f2b8debe2f\">\n",
              "      <button class=\"colab-df-quickchart\" onclick=\"quickchart('df-56a272f4-1342-4c13-9009-19f2b8debe2f')\"\n",
              "                title=\"Suggest charts\"\n",
              "                style=\"display:none;\">\n",
              "\n",
              "<svg xmlns=\"http://www.w3.org/2000/svg\" height=\"24px\"viewBox=\"0 0 24 24\"\n",
              "     width=\"24px\">\n",
              "    <g>\n",
              "        <path d=\"M19 3H5c-1.1 0-2 .9-2 2v14c0 1.1.9 2 2 2h14c1.1 0 2-.9 2-2V5c0-1.1-.9-2-2-2zM9 17H7v-7h2v7zm4 0h-2V7h2v10zm4 0h-2v-4h2v4z\"/>\n",
              "    </g>\n",
              "</svg>\n",
              "      </button>\n",
              "\n",
              "<style>\n",
              "  .colab-df-quickchart {\n",
              "      --bg-color: #E8F0FE;\n",
              "      --fill-color: #1967D2;\n",
              "      --hover-bg-color: #E2EBFA;\n",
              "      --hover-fill-color: #174EA6;\n",
              "      --disabled-fill-color: #AAA;\n",
              "      --disabled-bg-color: #DDD;\n",
              "  }\n",
              "\n",
              "  [theme=dark] .colab-df-quickchart {\n",
              "      --bg-color: #3B4455;\n",
              "      --fill-color: #D2E3FC;\n",
              "      --hover-bg-color: #434B5C;\n",
              "      --hover-fill-color: #FFFFFF;\n",
              "      --disabled-bg-color: #3B4455;\n",
              "      --disabled-fill-color: #666;\n",
              "  }\n",
              "\n",
              "  .colab-df-quickchart {\n",
              "    background-color: var(--bg-color);\n",
              "    border: none;\n",
              "    border-radius: 50%;\n",
              "    cursor: pointer;\n",
              "    display: none;\n",
              "    fill: var(--fill-color);\n",
              "    height: 32px;\n",
              "    padding: 0;\n",
              "    width: 32px;\n",
              "  }\n",
              "\n",
              "  .colab-df-quickchart:hover {\n",
              "    background-color: var(--hover-bg-color);\n",
              "    box-shadow: 0 1px 2px rgba(60, 64, 67, 0.3), 0 1px 3px 1px rgba(60, 64, 67, 0.15);\n",
              "    fill: var(--button-hover-fill-color);\n",
              "  }\n",
              "\n",
              "  .colab-df-quickchart-complete:disabled,\n",
              "  .colab-df-quickchart-complete:disabled:hover {\n",
              "    background-color: var(--disabled-bg-color);\n",
              "    fill: var(--disabled-fill-color);\n",
              "    box-shadow: none;\n",
              "  }\n",
              "\n",
              "  .colab-df-spinner {\n",
              "    border: 2px solid var(--fill-color);\n",
              "    border-color: transparent;\n",
              "    border-bottom-color: var(--fill-color);\n",
              "    animation:\n",
              "      spin 1s steps(1) infinite;\n",
              "  }\n",
              "\n",
              "  @keyframes spin {\n",
              "    0% {\n",
              "      border-color: transparent;\n",
              "      border-bottom-color: var(--fill-color);\n",
              "      border-left-color: var(--fill-color);\n",
              "    }\n",
              "    20% {\n",
              "      border-color: transparent;\n",
              "      border-left-color: var(--fill-color);\n",
              "      border-top-color: var(--fill-color);\n",
              "    }\n",
              "    30% {\n",
              "      border-color: transparent;\n",
              "      border-left-color: var(--fill-color);\n",
              "      border-top-color: var(--fill-color);\n",
              "      border-right-color: var(--fill-color);\n",
              "    }\n",
              "    40% {\n",
              "      border-color: transparent;\n",
              "      border-right-color: var(--fill-color);\n",
              "      border-top-color: var(--fill-color);\n",
              "    }\n",
              "    60% {\n",
              "      border-color: transparent;\n",
              "      border-right-color: var(--fill-color);\n",
              "    }\n",
              "    80% {\n",
              "      border-color: transparent;\n",
              "      border-right-color: var(--fill-color);\n",
              "      border-bottom-color: var(--fill-color);\n",
              "    }\n",
              "    90% {\n",
              "      border-color: transparent;\n",
              "      border-bottom-color: var(--fill-color);\n",
              "    }\n",
              "  }\n",
              "</style>\n",
              "\n",
              "      <script>\n",
              "        async function quickchart(key) {\n",
              "          const quickchartButtonEl =\n",
              "            document.querySelector('#' + key + ' button');\n",
              "          quickchartButtonEl.disabled = true;  // To prevent multiple clicks.\n",
              "          quickchartButtonEl.classList.add('colab-df-spinner');\n",
              "          try {\n",
              "            const charts = await google.colab.kernel.invokeFunction(\n",
              "                'suggestCharts', [key], {});\n",
              "          } catch (error) {\n",
              "            console.error('Error during call to suggestCharts:', error);\n",
              "          }\n",
              "          quickchartButtonEl.classList.remove('colab-df-spinner');\n",
              "          quickchartButtonEl.classList.add('colab-df-quickchart-complete');\n",
              "        }\n",
              "        (() => {\n",
              "          let quickchartButtonEl =\n",
              "            document.querySelector('#df-56a272f4-1342-4c13-9009-19f2b8debe2f button');\n",
              "          quickchartButtonEl.style.display =\n",
              "            google.colab.kernel.accessAllowed ? 'block' : 'none';\n",
              "        })();\n",
              "      </script>\n",
              "    </div>\n",
              "\n",
              "    </div>\n",
              "  </div>\n"
            ],
            "application/vnd.google.colaboratory.intrinsic+json": {
              "type": "dataframe",
              "variable_name": "df_small",
              "summary": "{\n  \"name\": \"df_small\",\n  \"rows\": 5572,\n  \"fields\": [\n    {\n      \"column\": \"label\",\n      \"properties\": {\n        \"dtype\": \"category\",\n        \"num_unique_values\": 2,\n        \"samples\": [\n          \"spam\",\n          \"ham\"\n        ],\n        \"semantic_type\": \"\",\n        \"description\": \"\"\n      }\n    },\n    {\n      \"column\": \"message\",\n      \"properties\": {\n        \"dtype\": \"string\",\n        \"num_unique_values\": 5169,\n        \"samples\": [\n          \"K, makes sense, btw carlos is being difficult so you guys are gonna smoke while I go pick up the second batch and get gas\",\n          \"URGENT! Your mobile No *********** WON a \\u00a32,000 Bonus Caller Prize on 02/06/03! This is the 2nd attempt to reach YOU! Call 09066362220 ASAP! BOX97N7QP, 150ppm\"\n        ],\n        \"semantic_type\": \"\",\n        \"description\": \"\"\n      }\n    }\n  ]\n}"
            }
          },
          "metadata": {},
          "execution_count": 9
        }
      ]
    },
    {
      "cell_type": "markdown",
      "source": [
        "### 4.1.3 Dataset 3 – Generalization Test Set\n",
        "We standardize the column names from `LABEL` and `TEXT` to `label` and `message`,\n",
        "and unify label values such as `smishing` → `spam`.\n"
      ],
      "metadata": {
        "id": "ZqtHQUPLJ7Ar"
      }
    },
    {
      "cell_type": "code",
      "source": [
        "# Rename and keep necessary columns\n",
        "df_general = df_general[['LABEL', 'TEXT']]\n",
        "df_general = df_general.rename(columns={'LABEL': 'label', 'TEXT': 'message'})\n",
        "df_general['label'] = df_general['label'].str.strip().str.lower()\n",
        "# Backup version with 'smishing' kept separately (optional)\n",
        "df_general_with_smishing = df_general.copy()\n",
        "\n",
        "# Convert all label types to unified 'spam'/'ham'\n",
        "df_general['label'] = df_general['label'].replace({'smishing': 'spam'})\n"
      ],
      "metadata": {
        "id": "mum69QptGWVo"
      },
      "execution_count": 10,
      "outputs": []
    },
    {
      "cell_type": "markdown",
      "source": [
        "### 4.1.4 Check Types and Nulls\n",
        "We verify that all datasets now have the correct types (`label`: string, `message`: string), and no missing values.\n"
      ],
      "metadata": {
        "id": "rh5WCdw6XEeC"
      }
    },
    {
      "cell_type": "code",
      "source": [
        "for name, df in zip(['Dataset 2', 'Dataset 1', 'Dataset 3'], [df_large, df_small, df_general]):\n",
        "    print(f\"--- {name} ---\")\n",
        "    print(df.dtypes)\n",
        "    print(\"Null values:\\n\", df.isnull().sum())\n",
        "    print(\"-\" * 40)\n"
      ],
      "metadata": {
        "colab": {
          "base_uri": "https://localhost:8080/"
        },
        "id": "2aFnhhL9XKu2",
        "outputId": "efc01363-b23a-4604-a723-361aa70f9674"
      },
      "execution_count": 11,
      "outputs": [
        {
          "output_type": "stream",
          "name": "stdout",
          "text": [
            "--- Dataset 2 ---\n",
            "label      object\n",
            "message    object\n",
            "dtype: object\n",
            "Null values:\n",
            " label      0\n",
            "message    0\n",
            "dtype: int64\n",
            "----------------------------------------\n",
            "--- Dataset 1 ---\n",
            "label      object\n",
            "message    object\n",
            "dtype: object\n",
            "Null values:\n",
            " label      0\n",
            "message    0\n",
            "dtype: int64\n",
            "----------------------------------------\n",
            "--- Dataset 3 ---\n",
            "label      object\n",
            "message    object\n",
            "dtype: object\n",
            "Null values:\n",
            " label      0\n",
            "message    0\n",
            "dtype: int64\n",
            "----------------------------------------\n"
          ]
        }
      ]
    },
    {
      "cell_type": "markdown",
      "source": [
        "## 4.2 Remove Internal Duplicates\n",
        "We identify and remove duplicate rows *within* each dataset individually before merging or cross-evaluation.\n"
      ],
      "metadata": {
        "id": "dC6-nXQMKeNm"
      }
    },
    {
      "cell_type": "code",
      "source": [
        "def check_and_remove_duplicates(df):\n",
        "    \"\"\"\n",
        "    Checks for duplicate rows in the DataFrame.\n",
        "    If found, prints counts before/after and removes them.\n",
        "    Returns the cleaned DataFrame.\n",
        "    \"\"\"\n",
        "    duplicate_count = df.duplicated().sum()\n",
        "\n",
        "    if duplicate_count > 0:\n",
        "        print(f\"Number of duplicate rows: {duplicate_count}\")\n",
        "        print(\"\\nMessage counts BEFORE removing duplicates:\")\n",
        "        print(df['label'].value_counts())\n",
        "        print(\"Total rows BEFORE:\", len(df))\n",
        "\n",
        "        df = df.drop_duplicates()\n",
        "\n",
        "        print(\"\\nDuplicates removed.\\n\")\n",
        "        print(\"Message counts AFTER removing duplicates:\")\n",
        "        print(df['label'].value_counts())\n",
        "        print(\"Total rows AFTER:\", len(df))\n",
        "\n",
        "    else:\n",
        "        print(\"No duplicates found.\")\n",
        "        print(df['label'].value_counts())\n",
        "        print(\"Total rows:\", len(df))\n",
        "\n",
        "    return df\n"
      ],
      "metadata": {
        "id": "jOTn_-AVnclP"
      },
      "execution_count": 12,
      "outputs": []
    },
    {
      "cell_type": "markdown",
      "source": [
        "### 4.2.1 Apply to Dataset 2"
      ],
      "metadata": {
        "id": "Sf_jsouHU__p"
      }
    },
    {
      "cell_type": "code",
      "source": [
        "print(\"\\n>>> Dataset 2 (Large)\")\n",
        "df_large = check_and_remove_duplicates(df_large)"
      ],
      "metadata": {
        "colab": {
          "base_uri": "https://localhost:8080/"
        },
        "id": "JnA2oNoUVLEJ",
        "outputId": "2d61ff4b-af15-4a1c-9d20-32ecb1f37be1"
      },
      "execution_count": 13,
      "outputs": [
        {
          "output_type": "stream",
          "name": "stdout",
          "text": [
            "\n",
            ">>> Dataset 2 (Large)\n",
            "Number of duplicate rows: 674\n",
            "\n",
            "Message counts BEFORE removing duplicates:\n",
            "label\n",
            "ham     8555\n",
            "spam    2406\n",
            "Name: count, dtype: int64\n",
            "Total rows BEFORE: 10961\n",
            "\n",
            "Duplicates removed.\n",
            "\n",
            "Message counts AFTER removing duplicates:\n",
            "label\n",
            "ham     8014\n",
            "spam    2273\n",
            "Name: count, dtype: int64\n",
            "Total rows AFTER: 10287\n"
          ]
        }
      ]
    },
    {
      "cell_type": "markdown",
      "source": [
        "### 4.2.2 Apply to Dataset 1"
      ],
      "metadata": {
        "id": "lljqFY4QKiE1"
      }
    },
    {
      "cell_type": "code",
      "execution_count": 14,
      "metadata": {
        "colab": {
          "base_uri": "https://localhost:8080/"
        },
        "id": "1iagDgFD7p7L",
        "outputId": "457bae66-d546-4b13-fc77-2c1ccc8dccf4"
      },
      "outputs": [
        {
          "output_type": "stream",
          "name": "stdout",
          "text": [
            ">>> Dataset 1 (Small)\n",
            "Number of duplicate rows: 403\n",
            "\n",
            "Message counts BEFORE removing duplicates:\n",
            "label\n",
            "ham     4825\n",
            "spam     747\n",
            "Name: count, dtype: int64\n",
            "Total rows BEFORE: 5572\n",
            "\n",
            "Duplicates removed.\n",
            "\n",
            "Message counts AFTER removing duplicates:\n",
            "label\n",
            "ham     4516\n",
            "spam     653\n",
            "Name: count, dtype: int64\n",
            "Total rows AFTER: 5169\n"
          ]
        }
      ],
      "source": [
        "print(\">>> Dataset 1 (Small)\")\n",
        "df_small = check_and_remove_duplicates(df_small)"
      ]
    },
    {
      "cell_type": "markdown",
      "source": [
        "### 4.2.3 Apply to Dataset 3"
      ],
      "metadata": {
        "id": "oiDeUtudVC1u"
      }
    },
    {
      "cell_type": "code",
      "source": [
        "print(\"\\n>>> Dataset 3 (General Test)\")\n",
        "df_general = check_and_remove_duplicates(df_general)\n"
      ],
      "metadata": {
        "colab": {
          "base_uri": "https://localhost:8080/"
        },
        "id": "AlcxofLwVPqm",
        "outputId": "f2afa4cc-42c4-458c-a0f8-c92d66c3bd4e"
      },
      "execution_count": 15,
      "outputs": [
        {
          "output_type": "stream",
          "name": "stdout",
          "text": [
            "\n",
            ">>> Dataset 3 (General Test)\n",
            "Number of duplicate rows: 22\n",
            "\n",
            "Message counts BEFORE removing duplicates:\n",
            "label\n",
            "ham     4844\n",
            "spam    1127\n",
            "Name: count, dtype: int64\n",
            "Total rows BEFORE: 5971\n",
            "\n",
            "Duplicates removed.\n",
            "\n",
            "Message counts AFTER removing duplicates:\n",
            "label\n",
            "ham     4834\n",
            "spam    1115\n",
            "Name: count, dtype: int64\n",
            "Total rows AFTER: 5949\n"
          ]
        }
      ]
    },
    {
      "cell_type": "markdown",
      "source": [
        "## 4.3 Remove Overlapping Rows Between Datasets\n",
        "To avoid data leakage and ensure fair evaluation, we remove overlapping rows between datasets\n",
        "based on identical messages in the `message` column.\n"
      ],
      "metadata": {
        "id": "mxid5ZURVZh7"
      }
    },
    {
      "cell_type": "markdown",
      "source": [
        "### 4.3.1 Remove rows from Dataset 1 that also exist in Dataset 2\n",
        "We compare `message` columns and drop any duplicate messages from Dataset 1.\n",
        "We will also check how the number of spam/ham messages has changed after removing duplicates.\n"
      ],
      "metadata": {
        "id": "ATxkunu5Y4pP"
      }
    },
    {
      "cell_type": "code",
      "source": [
        "# Before\n",
        "counts_before_small = df_small['label'].value_counts()\n",
        "print(\"Before removing overlaps with Dataset 2:\")\n",
        "print(f\"Spam messages in Dataset 1: {counts_before_small.get('spam', 0)}\")\n",
        "print(f\"Ham messages in Dataset 1: {counts_before_small.get('ham', 0)}\")\n",
        "\n",
        "# Remove overlapping rows from df_small\n",
        "df_small_clean = df_small[~df_small['message'].isin(df_large['message'])].reset_index(drop=True)\n",
        "\n",
        "# After removing\n",
        "counts_after_small = df_small_clean['label'].value_counts()\n",
        "print(\"\\nAfter removing overlaps with Dataset 2:\")\n",
        "print(f\"Spam messages in Dataset 1: {counts_after_small.get('spam', 0)}\")\n",
        "print(f\"Ham messages in Dataset 1: {counts_after_small.get('ham', 0)}\")\n",
        "\n",
        "print(f\"Total rows before removal: {len(df_small)}\")\n",
        "print(f\"Total rows after removal: {len(df_small_clean)}\")\n"
      ],
      "metadata": {
        "colab": {
          "base_uri": "https://localhost:8080/"
        },
        "id": "pWpw2PJIsW_d",
        "outputId": "1c16ff82-795e-4e10-d6c6-6b93898d56fd"
      },
      "execution_count": 16,
      "outputs": [
        {
          "output_type": "stream",
          "name": "stdout",
          "text": [
            "Before removing overlaps with Dataset 2:\n",
            "Spam messages in Dataset 1: 653\n",
            "Ham messages in Dataset 1: 4516\n",
            "\n",
            "After removing overlaps with Dataset 2:\n",
            "Spam messages in Dataset 1: 228\n",
            "Ham messages in Dataset 1: 328\n",
            "Total rows before removal: 5169\n",
            "Total rows after removal: 556\n"
          ]
        }
      ]
    },
    {
      "cell_type": "markdown",
      "source": [
        "### 4.3.2 Remove rows from Dataset 3 that also exist in Dataset 1 or Dataset 2\n",
        "After removing duplicates from Dataset 3, we'll check how the number of spam and ham messages have changed.\n"
      ],
      "metadata": {
        "id": "GVxywNKUaDHw"
      }
    },
    {
      "cell_type": "code",
      "source": [
        "# Before removing\n",
        "counts_before_general = df_general['label'].value_counts()\n",
        "print(\"Before removing overlaps with Datasets 1 and 2:\")\n",
        "print(f\"Spam messages in Dataset 3: {counts_before_general.get('spam', 0)}\")\n",
        "print(f\"Ham messages in Dataset 3: {counts_before_general.get('ham', 0)}\")\n",
        "\n",
        "# Combine messages from Dataset 2 and cleaned Dataset 1\n",
        "seen_messages = set(df_large['message']) | set(df_small_clean['message'])\n",
        "\n",
        "# Remove overlapping messages from Dataset 3\n",
        "df_general_clean = df_general[~df_general['message'].isin(seen_messages)].reset_index(drop=True)\n",
        "\n",
        "# After Removing\n",
        "counts_after_general = df_general_clean['label'].value_counts()\n",
        "print(\"\\nAfter removing overlaps with Datasets 1 and 2:\")\n",
        "print(f\"Spam messages in Dataset 3: {counts_after_general.get('spam', 0)}\")\n",
        "print(f\"Ham messages in Dataset 3: {counts_after_general.get('ham', 0)}\")\n",
        "\n",
        "print(f\"Total rows before removal: {len(df_general)}\")\n",
        "print(f\"Total rows after removal: {len(df_general_clean)}\")\n",
        "\n"
      ],
      "metadata": {
        "colab": {
          "base_uri": "https://localhost:8080/"
        },
        "id": "hg1JBIsxY8St",
        "outputId": "3d8853a3-42a5-4ac1-b39d-fe1134416331"
      },
      "execution_count": 17,
      "outputs": [
        {
          "output_type": "stream",
          "name": "stdout",
          "text": [
            "Before removing overlaps with Datasets 1 and 2:\n",
            "Spam messages in Dataset 3: 1115\n",
            "Ham messages in Dataset 3: 4834\n",
            "\n",
            "After removing overlaps with Datasets 1 and 2:\n",
            "Spam messages in Dataset 3: 559\n",
            "Ham messages in Dataset 3: 589\n",
            "Total rows before removal: 5949\n",
            "Total rows after removal: 1148\n"
          ]
        }
      ]
    },
    {
      "cell_type": "markdown",
      "source": [
        "# 5. Text Preprocessing\n",
        "\n",
        "We clean and normalize the message texts to prepare them for vectorization.  \n",
        "This includes:\n",
        "- Lowercasing the text\n",
        "- Replacing URLs and numbers with tokens (`URL_TOKEN`, `NUM_TOKEN`)\n",
        "- Removing punctuation and extra spaces\n",
        "- Lemmatization using NLTK\n",
        "- Using a custom stopword list to **retain spam-indicative words** like `\"won\"`\n",
        "\n",
        "Finally, we also convert the text labels (`ham` and `spam`) into **numerical labels** (`0` and `1`) required by machine learning models.\n"
      ],
      "metadata": {
        "id": "blgQn5xMbagh"
      }
    },
    {
      "cell_type": "markdown",
      "source": [
        " ## 5.1 Setup"
      ],
      "metadata": {
        "id": "c81yjFH0be04"
      }
    },
    {
      "cell_type": "code",
      "source": [
        "# Define standard stopwords and lemmatizer\n",
        "stop_words = set(stopwords.words('english'))\n",
        "lemmatizer = WordNetLemmatizer()\n",
        "\n",
        "# Define spam-indicative words to **keep**\n",
        "important_words = {\"won\"}\n",
        "custom_stop_words = stop_words - important_words  # Exclude important words from removal\n"
      ],
      "metadata": {
        "id": "sp4VNVYMbbYR"
      },
      "execution_count": 18,
      "outputs": []
    },
    {
      "cell_type": "markdown",
      "source": [
        "## 5.2 Define the Preprocessing Function"
      ],
      "metadata": {
        "id": "kXicKwBoblK4"
      }
    },
    {
      "cell_type": "code",
      "source": [
        "def preprocess_text(text):\n",
        "    \"\"\"\n",
        "    Preprocesses a single message:\n",
        "    - Lowercases text\n",
        "    - Replaces URLs with a token\n",
        "    - Replaces numbers with a token\n",
        "    - Removes punctuation\n",
        "    - Lemmatizes each word\n",
        "    - Removes stopwords (except custom important words)\n",
        "\n",
        "    Returns cleaned text as a single string.\n",
        "    \"\"\"\n",
        "    text = text.lower()\n",
        "    text = re.sub(r\"http\\S+|www\\S+\", \"URL_TOKEN\", text)\n",
        "    text = re.sub(r\"\\d+\", \"NUM_TOKEN\", text)\n",
        "    text = re.sub(r\"[%s]\" % re.escape(string.punctuation), \"\", text)\n",
        "    text = re.sub(r\"\\s+\", \" \", text).strip()\n",
        "\n",
        "    words = text.split()\n",
        "    words = [lemmatizer.lemmatize(word) for word in words if word not in custom_stop_words]\n",
        "    return \" \".join(words)\n"
      ],
      "metadata": {
        "id": "m0bRf4YKbqjn"
      },
      "execution_count": 19,
      "outputs": []
    },
    {
      "cell_type": "markdown",
      "source": [
        "## 5.3 Apply Preprocessing to All Datasets"
      ],
      "metadata": {
        "id": "mCPQ2gSbbynB"
      }
    },
    {
      "cell_type": "code",
      "source": [
        "# Apply preprocessing to all datasets\n",
        "df_large['clean_message'] = df_large['message'].apply(preprocess_text)\n",
        "df_small_clean['clean_message'] = df_small_clean['message'].apply(preprocess_text)\n",
        "df_general_clean['clean_message'] = df_general_clean['message'].apply(preprocess_text)\n"
      ],
      "metadata": {
        "id": "qbwn1oXTb1lH"
      },
      "execution_count": 20,
      "outputs": []
    },
    {
      "cell_type": "markdown",
      "source": [
        "##5.4 Sample Output"
      ],
      "metadata": {
        "id": "UeRzqwy1cE9z"
      }
    },
    {
      "cell_type": "code",
      "source": [
        "# Show some examples\n",
        "df_large[['message', 'clean_message']].head(5)"
      ],
      "metadata": {
        "colab": {
          "base_uri": "https://localhost:8080/",
          "height": 0
        },
        "id": "6rFuy4wPcImk",
        "outputId": "1a9f71a9-db55-4182-a0f1-bd1fe856ef48"
      },
      "execution_count": 21,
      "outputs": [
        {
          "output_type": "execute_result",
          "data": {
            "text/plain": [
              "                                             message  \\\n",
              "0  Congratulations! You've been selected for a lu...   \n",
              "1  URGENT: Your account has been compromised. Cli...   \n",
              "2  You've won a free iPhone! Claim your prize by ...   \n",
              "3  Act now and receive a 50% discount on all purc...   \n",
              "4  Important notice: Your subscription will expir...   \n",
              "\n",
              "                                       clean_message  \n",
              "0  congratulation youve selected luxury vacation ...  \n",
              "1  urgent account compromised click reset passwor...  \n",
              "2    youve won free iphone claim prize clicking link  \n",
              "3  act receive NUMTOKEN discount purchase limited...  \n",
              "4  important notice subscription expire soon rene...  "
            ],
            "text/html": [
              "\n",
              "  <div id=\"df-1616957a-d85c-42cb-8682-18527af748bc\" class=\"colab-df-container\">\n",
              "    <div>\n",
              "<style scoped>\n",
              "    .dataframe tbody tr th:only-of-type {\n",
              "        vertical-align: middle;\n",
              "    }\n",
              "\n",
              "    .dataframe tbody tr th {\n",
              "        vertical-align: top;\n",
              "    }\n",
              "\n",
              "    .dataframe thead th {\n",
              "        text-align: right;\n",
              "    }\n",
              "</style>\n",
              "<table border=\"1\" class=\"dataframe\">\n",
              "  <thead>\n",
              "    <tr style=\"text-align: right;\">\n",
              "      <th></th>\n",
              "      <th>message</th>\n",
              "      <th>clean_message</th>\n",
              "    </tr>\n",
              "  </thead>\n",
              "  <tbody>\n",
              "    <tr>\n",
              "      <th>0</th>\n",
              "      <td>Congratulations! You've been selected for a lu...</td>\n",
              "      <td>congratulation youve selected luxury vacation ...</td>\n",
              "    </tr>\n",
              "    <tr>\n",
              "      <th>1</th>\n",
              "      <td>URGENT: Your account has been compromised. Cli...</td>\n",
              "      <td>urgent account compromised click reset passwor...</td>\n",
              "    </tr>\n",
              "    <tr>\n",
              "      <th>2</th>\n",
              "      <td>You've won a free iPhone! Claim your prize by ...</td>\n",
              "      <td>youve won free iphone claim prize clicking link</td>\n",
              "    </tr>\n",
              "    <tr>\n",
              "      <th>3</th>\n",
              "      <td>Act now and receive a 50% discount on all purc...</td>\n",
              "      <td>act receive NUMTOKEN discount purchase limited...</td>\n",
              "    </tr>\n",
              "    <tr>\n",
              "      <th>4</th>\n",
              "      <td>Important notice: Your subscription will expir...</td>\n",
              "      <td>important notice subscription expire soon rene...</td>\n",
              "    </tr>\n",
              "  </tbody>\n",
              "</table>\n",
              "</div>\n",
              "    <div class=\"colab-df-buttons\">\n",
              "\n",
              "  <div class=\"colab-df-container\">\n",
              "    <button class=\"colab-df-convert\" onclick=\"convertToInteractive('df-1616957a-d85c-42cb-8682-18527af748bc')\"\n",
              "            title=\"Convert this dataframe to an interactive table.\"\n",
              "            style=\"display:none;\">\n",
              "\n",
              "  <svg xmlns=\"http://www.w3.org/2000/svg\" height=\"24px\" viewBox=\"0 -960 960 960\">\n",
              "    <path d=\"M120-120v-720h720v720H120Zm60-500h600v-160H180v160Zm220 220h160v-160H400v160Zm0 220h160v-160H400v160ZM180-400h160v-160H180v160Zm440 0h160v-160H620v160ZM180-180h160v-160H180v160Zm440 0h160v-160H620v160Z\"/>\n",
              "  </svg>\n",
              "    </button>\n",
              "\n",
              "  <style>\n",
              "    .colab-df-container {\n",
              "      display:flex;\n",
              "      gap: 12px;\n",
              "    }\n",
              "\n",
              "    .colab-df-convert {\n",
              "      background-color: #E8F0FE;\n",
              "      border: none;\n",
              "      border-radius: 50%;\n",
              "      cursor: pointer;\n",
              "      display: none;\n",
              "      fill: #1967D2;\n",
              "      height: 32px;\n",
              "      padding: 0 0 0 0;\n",
              "      width: 32px;\n",
              "    }\n",
              "\n",
              "    .colab-df-convert:hover {\n",
              "      background-color: #E2EBFA;\n",
              "      box-shadow: 0px 1px 2px rgba(60, 64, 67, 0.3), 0px 1px 3px 1px rgba(60, 64, 67, 0.15);\n",
              "      fill: #174EA6;\n",
              "    }\n",
              "\n",
              "    .colab-df-buttons div {\n",
              "      margin-bottom: 4px;\n",
              "    }\n",
              "\n",
              "    [theme=dark] .colab-df-convert {\n",
              "      background-color: #3B4455;\n",
              "      fill: #D2E3FC;\n",
              "    }\n",
              "\n",
              "    [theme=dark] .colab-df-convert:hover {\n",
              "      background-color: #434B5C;\n",
              "      box-shadow: 0px 1px 3px 1px rgba(0, 0, 0, 0.15);\n",
              "      filter: drop-shadow(0px 1px 2px rgba(0, 0, 0, 0.3));\n",
              "      fill: #FFFFFF;\n",
              "    }\n",
              "  </style>\n",
              "\n",
              "    <script>\n",
              "      const buttonEl =\n",
              "        document.querySelector('#df-1616957a-d85c-42cb-8682-18527af748bc button.colab-df-convert');\n",
              "      buttonEl.style.display =\n",
              "        google.colab.kernel.accessAllowed ? 'block' : 'none';\n",
              "\n",
              "      async function convertToInteractive(key) {\n",
              "        const element = document.querySelector('#df-1616957a-d85c-42cb-8682-18527af748bc');\n",
              "        const dataTable =\n",
              "          await google.colab.kernel.invokeFunction('convertToInteractive',\n",
              "                                                    [key], {});\n",
              "        if (!dataTable) return;\n",
              "\n",
              "        const docLinkHtml = 'Like what you see? Visit the ' +\n",
              "          '<a target=\"_blank\" href=https://colab.research.google.com/notebooks/data_table.ipynb>data table notebook</a>'\n",
              "          + ' to learn more about interactive tables.';\n",
              "        element.innerHTML = '';\n",
              "        dataTable['output_type'] = 'display_data';\n",
              "        await google.colab.output.renderOutput(dataTable, element);\n",
              "        const docLink = document.createElement('div');\n",
              "        docLink.innerHTML = docLinkHtml;\n",
              "        element.appendChild(docLink);\n",
              "      }\n",
              "    </script>\n",
              "  </div>\n",
              "\n",
              "\n",
              "    <div id=\"df-abde32f1-c002-4787-825d-0fd9ed3d7489\">\n",
              "      <button class=\"colab-df-quickchart\" onclick=\"quickchart('df-abde32f1-c002-4787-825d-0fd9ed3d7489')\"\n",
              "                title=\"Suggest charts\"\n",
              "                style=\"display:none;\">\n",
              "\n",
              "<svg xmlns=\"http://www.w3.org/2000/svg\" height=\"24px\"viewBox=\"0 0 24 24\"\n",
              "     width=\"24px\">\n",
              "    <g>\n",
              "        <path d=\"M19 3H5c-1.1 0-2 .9-2 2v14c0 1.1.9 2 2 2h14c1.1 0 2-.9 2-2V5c0-1.1-.9-2-2-2zM9 17H7v-7h2v7zm4 0h-2V7h2v10zm4 0h-2v-4h2v4z\"/>\n",
              "    </g>\n",
              "</svg>\n",
              "      </button>\n",
              "\n",
              "<style>\n",
              "  .colab-df-quickchart {\n",
              "      --bg-color: #E8F0FE;\n",
              "      --fill-color: #1967D2;\n",
              "      --hover-bg-color: #E2EBFA;\n",
              "      --hover-fill-color: #174EA6;\n",
              "      --disabled-fill-color: #AAA;\n",
              "      --disabled-bg-color: #DDD;\n",
              "  }\n",
              "\n",
              "  [theme=dark] .colab-df-quickchart {\n",
              "      --bg-color: #3B4455;\n",
              "      --fill-color: #D2E3FC;\n",
              "      --hover-bg-color: #434B5C;\n",
              "      --hover-fill-color: #FFFFFF;\n",
              "      --disabled-bg-color: #3B4455;\n",
              "      --disabled-fill-color: #666;\n",
              "  }\n",
              "\n",
              "  .colab-df-quickchart {\n",
              "    background-color: var(--bg-color);\n",
              "    border: none;\n",
              "    border-radius: 50%;\n",
              "    cursor: pointer;\n",
              "    display: none;\n",
              "    fill: var(--fill-color);\n",
              "    height: 32px;\n",
              "    padding: 0;\n",
              "    width: 32px;\n",
              "  }\n",
              "\n",
              "  .colab-df-quickchart:hover {\n",
              "    background-color: var(--hover-bg-color);\n",
              "    box-shadow: 0 1px 2px rgba(60, 64, 67, 0.3), 0 1px 3px 1px rgba(60, 64, 67, 0.15);\n",
              "    fill: var(--button-hover-fill-color);\n",
              "  }\n",
              "\n",
              "  .colab-df-quickchart-complete:disabled,\n",
              "  .colab-df-quickchart-complete:disabled:hover {\n",
              "    background-color: var(--disabled-bg-color);\n",
              "    fill: var(--disabled-fill-color);\n",
              "    box-shadow: none;\n",
              "  }\n",
              "\n",
              "  .colab-df-spinner {\n",
              "    border: 2px solid var(--fill-color);\n",
              "    border-color: transparent;\n",
              "    border-bottom-color: var(--fill-color);\n",
              "    animation:\n",
              "      spin 1s steps(1) infinite;\n",
              "  }\n",
              "\n",
              "  @keyframes spin {\n",
              "    0% {\n",
              "      border-color: transparent;\n",
              "      border-bottom-color: var(--fill-color);\n",
              "      border-left-color: var(--fill-color);\n",
              "    }\n",
              "    20% {\n",
              "      border-color: transparent;\n",
              "      border-left-color: var(--fill-color);\n",
              "      border-top-color: var(--fill-color);\n",
              "    }\n",
              "    30% {\n",
              "      border-color: transparent;\n",
              "      border-left-color: var(--fill-color);\n",
              "      border-top-color: var(--fill-color);\n",
              "      border-right-color: var(--fill-color);\n",
              "    }\n",
              "    40% {\n",
              "      border-color: transparent;\n",
              "      border-right-color: var(--fill-color);\n",
              "      border-top-color: var(--fill-color);\n",
              "    }\n",
              "    60% {\n",
              "      border-color: transparent;\n",
              "      border-right-color: var(--fill-color);\n",
              "    }\n",
              "    80% {\n",
              "      border-color: transparent;\n",
              "      border-right-color: var(--fill-color);\n",
              "      border-bottom-color: var(--fill-color);\n",
              "    }\n",
              "    90% {\n",
              "      border-color: transparent;\n",
              "      border-bottom-color: var(--fill-color);\n",
              "    }\n",
              "  }\n",
              "</style>\n",
              "\n",
              "      <script>\n",
              "        async function quickchart(key) {\n",
              "          const quickchartButtonEl =\n",
              "            document.querySelector('#' + key + ' button');\n",
              "          quickchartButtonEl.disabled = true;  // To prevent multiple clicks.\n",
              "          quickchartButtonEl.classList.add('colab-df-spinner');\n",
              "          try {\n",
              "            const charts = await google.colab.kernel.invokeFunction(\n",
              "                'suggestCharts', [key], {});\n",
              "          } catch (error) {\n",
              "            console.error('Error during call to suggestCharts:', error);\n",
              "          }\n",
              "          quickchartButtonEl.classList.remove('colab-df-spinner');\n",
              "          quickchartButtonEl.classList.add('colab-df-quickchart-complete');\n",
              "        }\n",
              "        (() => {\n",
              "          let quickchartButtonEl =\n",
              "            document.querySelector('#df-abde32f1-c002-4787-825d-0fd9ed3d7489 button');\n",
              "          quickchartButtonEl.style.display =\n",
              "            google.colab.kernel.accessAllowed ? 'block' : 'none';\n",
              "        })();\n",
              "      </script>\n",
              "    </div>\n",
              "\n",
              "    </div>\n",
              "  </div>\n"
            ],
            "application/vnd.google.colaboratory.intrinsic+json": {
              "type": "dataframe",
              "summary": "{\n  \"name\": \"df_large[['message', 'clean_message']]\",\n  \"rows\": 5,\n  \"fields\": [\n    {\n      \"column\": \"message\",\n      \"properties\": {\n        \"dtype\": \"string\",\n        \"num_unique_values\": 5,\n        \"samples\": [\n          \"URGENT: Your account has been compromised. Click here to reset your password immediately.\",\n          \"Important notice: Your subscription will expire soon. Renew now to avoid service interruption.\",\n          \"You've won a free iPhone! Claim your prize by clicking on this link now.\"\n        ],\n        \"semantic_type\": \"\",\n        \"description\": \"\"\n      }\n    },\n    {\n      \"column\": \"clean_message\",\n      \"properties\": {\n        \"dtype\": \"string\",\n        \"num_unique_values\": 5,\n        \"samples\": [\n          \"urgent account compromised click reset password immediately\",\n          \"important notice subscription expire soon renew avoid service interruption\",\n          \"youve won free iphone claim prize clicking link\"\n        ],\n        \"semantic_type\": \"\",\n        \"description\": \"\"\n      }\n    }\n  ]\n}"
            }
          },
          "metadata": {},
          "execution_count": 21
        }
      ]
    },
    {
      "cell_type": "markdown",
      "source": [
        "## 5.5 Convert Labels to Numerical Format\n",
        "\n",
        "To prepare the datasets for training, we convert the categorical labels ('ham', 'spam') into numerical values:  \n",
        "- `ham` → `0`  \n",
        "- `spam` → `1`  \n",
        "This is necessary for most machine learning models that require numeric targets.\n"
      ],
      "metadata": {
        "id": "_ouk3JFTildt"
      }
    },
    {
      "cell_type": "code",
      "source": [
        "df_large['label_num'] = df_large['label'].map({'ham': 0, 'spam': 1})\n",
        "df_small_clean['label_num'] = df_small_clean['label'].map({'ham': 0, 'spam': 1})\n",
        "df_general_clean['label_num'] = df_general_clean['label'].map({'ham': 0, 'spam': 1})\n"
      ],
      "metadata": {
        "id": "XB0ysYR2itPz"
      },
      "execution_count": 22,
      "outputs": []
    },
    {
      "cell_type": "markdown",
      "source": [
        "# 6. Dataset Splitting\n",
        "\n",
        "We split the cleaned and preprocessed dataset into training, validation, and test sets.  \n",
        "This allows us to train models, tune hyperparameters, and evaluate generalization performance independently.\n",
        "\n",
        "We use stratified sampling to ensure the **spam/ham distribution** remains consistent across splits:\n",
        "- 70% training\n",
        "- 15% validation\n",
        "- 15% test\n"
      ],
      "metadata": {
        "id": "NGaUXi9cgB-r"
      }
    },
    {
      "cell_type": "code",
      "source": [
        "def split_data(X_text, y, test_size=0.3, val_ratio=0.5):\n",
        "    \"\"\"\n",
        "    Splits the dataset into train/validation/test sets using stratified sampling.\n",
        "    - test_size: portion of data held out for validation + test (e.g. 0.3)\n",
        "    - val_ratio: ratio of validation to (validation + test) (e.g. 0.5 = 50/50 split)\n",
        "\n",
        "    Returns:\n",
        "        X_train, X_val, X_test, y_train, y_val, y_test\n",
        "    \"\"\"\n",
        "    X_train, X_temp, y_train, y_temp = train_test_split(X_text, y, test_size=test_size, stratify=y, random_state=42)\n",
        "    X_val, X_test, y_val, y_test = train_test_split(X_temp, y_temp, test_size=val_ratio, stratify=y_temp, random_state=42)\n",
        "    return X_train, X_val, X_test, y_train, y_val, y_test\n"
      ],
      "metadata": {
        "id": "f8DdkgK-gNz8"
      },
      "execution_count": 23,
      "outputs": []
    },
    {
      "cell_type": "markdown",
      "source": [
        "## Apply to Small Dataset"
      ],
      "metadata": {
        "id": "5pZ2YbwiU06N"
      }
    },
    {
      "cell_type": "code",
      "source": [
        "# Prepare inputs for splitting\n",
        "X_large = df_large['clean_message']\n",
        "y_large = df_large['label_num']\n",
        "\n",
        "# Perform the split\n",
        "X_text_train, X_text_val, X_text_test, y_train, y_val, y_test = split_data(X_large, y_large)\n",
        "\n",
        "# Display sizes\n",
        "print(f\"Train size: {len(X_text_train)}\")\n",
        "print(f\"Validation size: {len(X_text_val)}\")\n",
        "print(f\"Test size: {len(X_text_test)}\")\n"
      ],
      "metadata": {
        "colab": {
          "base_uri": "https://localhost:8080/"
        },
        "id": "9Mhel3Wwg7wa",
        "outputId": "322a2d8d-c1c8-453e-8eab-c1d5eb5ec61f"
      },
      "execution_count": 24,
      "outputs": [
        {
          "output_type": "stream",
          "name": "stdout",
          "text": [
            "Train size: 7200\n",
            "Validation size: 1543\n",
            "Test size: 1544\n"
          ]
        }
      ]
    },
    {
      "cell_type": "code",
      "source": [
        "print(\"Label distribution in train set:\")\n",
        "print(y_train.value_counts(normalize=True))\n",
        "\n",
        "print(\"\\nLabel distribution in validation set:\")\n",
        "print(y_val.value_counts(normalize=True))\n",
        "\n",
        "print(\"\\nLabel distribution in test set:\")\n",
        "print(y_test.value_counts(normalize=True))\n"
      ],
      "metadata": {
        "colab": {
          "base_uri": "https://localhost:8080/"
        },
        "id": "d251rSzRVCtd",
        "outputId": "3b68a32d-9d6a-4e9c-e144-f3fdc312b287"
      },
      "execution_count": 25,
      "outputs": [
        {
          "output_type": "stream",
          "name": "stdout",
          "text": [
            "Label distribution in train set:\n",
            "label_num\n",
            "0    0.779028\n",
            "1    0.220972\n",
            "Name: proportion, dtype: float64\n",
            "\n",
            "Label distribution in validation set:\n",
            "label_num\n",
            "0    0.779002\n",
            "1    0.220998\n",
            "Name: proportion, dtype: float64\n",
            "\n",
            "Label distribution in test set:\n",
            "label_num\n",
            "0    0.779145\n",
            "1    0.220855\n",
            "Name: proportion, dtype: float64\n"
          ]
        }
      ]
    },
    {
      "cell_type": "markdown",
      "source": [
        "# 7. Vectorization Setup\n",
        "\n",
        "We convert preprocessed text data into numerical features using **TF-IDF vectorization**.  \n",
        "This transforms each message into a vector of word importance scores.\n",
        "\n",
        "We use the following parameters:\n",
        "- `max_features=3000`: to reduce dimensionality and avoid overfitting.\n",
        "\n",
        "We fit the vectorizer **only on the training set** to avoid data leakage."
      ],
      "metadata": {
        "id": "GGZ7uImEf3a6"
      }
    },
    {
      "cell_type": "markdown",
      "source": [
        "## 7.1 Vectorizer Definition"
      ],
      "metadata": {
        "id": "q-BnkIAhXXa6"
      }
    },
    {
      "cell_type": "code",
      "source": [
        "vectorizer = TfidfVectorizer(\n",
        "    max_features=3000,  # Limit dimensionality\n",
        ")"
      ],
      "metadata": {
        "id": "Hbfs4fCbdbql"
      },
      "execution_count": 26,
      "outputs": []
    },
    {
      "cell_type": "markdown",
      "source": [
        "## 7.2 Apply TF-IDF Vectorizer\n",
        "\n",
        "We transform each dataset into TF-IDF vectors using the `vectorizer` defined above.\n"
      ],
      "metadata": {
        "id": "j4ZAEz7RkYqq"
      }
    },
    {
      "cell_type": "markdown",
      "source": [
        "### 7.2.1 Dataset 2 (Large – split into train/val/test)"
      ],
      "metadata": {
        "id": "0QBjAtO7kiyB"
      }
    },
    {
      "cell_type": "code",
      "source": [
        "X_train = vectorizer.fit_transform(X_text_train)\n",
        "X_val = vectorizer.transform(X_text_val)\n",
        "X_test = vectorizer.transform(X_text_test)"
      ],
      "metadata": {
        "id": "VnKzZUU3kYOc"
      },
      "execution_count": 27,
      "outputs": []
    },
    {
      "cell_type": "code",
      "source": [
        "print(\"Shape of TF-IDF vectors (train):\", X_train.shape)"
      ],
      "metadata": {
        "colab": {
          "base_uri": "https://localhost:8080/"
        },
        "id": "3Cp5HiQLX7dt",
        "outputId": "8d56dae1-5cd2-4986-cef6-7a3a7532f37d"
      },
      "execution_count": 28,
      "outputs": [
        {
          "output_type": "stream",
          "name": "stdout",
          "text": [
            "Shape of TF-IDF vectors (train): (7200, 3000)\n"
          ]
        }
      ]
    },
    {
      "cell_type": "markdown",
      "source": [
        "### 7.2.2 Dataset 1 (small – only transform)"
      ],
      "metadata": {
        "id": "JWqtV1SRk2U5"
      }
    },
    {
      "cell_type": "code",
      "source": [
        "X_small = vectorizer.transform(df_small_clean['clean_message'])\n",
        "y_small= df_small_clean['label_num']"
      ],
      "metadata": {
        "id": "6lWWRXU_lLwC"
      },
      "execution_count": 29,
      "outputs": []
    },
    {
      "cell_type": "markdown",
      "source": [
        "### 7.2.3 Dataset 3 (general – only transform)"
      ],
      "metadata": {
        "id": "B24mTpojlC-8"
      }
    },
    {
      "cell_type": "code",
      "source": [
        "X_general = vectorizer.transform(df_general_clean['clean_message'])\n",
        "y_general= df_general_clean['label_num']"
      ],
      "metadata": {
        "id": "CWp2dgJIl25n"
      },
      "execution_count": 30,
      "outputs": []
    },
    {
      "cell_type": "markdown",
      "source": [
        "## optionally"
      ],
      "metadata": {
        "id": "VhI3cirsYbbc"
      }
    },
    {
      "cell_type": "code",
      "source": [
        "print(f\"Train set shape: {X_train.shape}\")\n",
        "print(f\"Validation set shape: {X_val.shape}\")\n",
        "print(f\"Test set shape: {X_test.shape}\")\n",
        "print(f\"Small dataset shape: {X_small.shape}\")\n",
        "print(f\"General dataset shape: {X_general.shape}\")\n"
      ],
      "metadata": {
        "colab": {
          "base_uri": "https://localhost:8080/"
        },
        "id": "wpCr5L94YVgb",
        "outputId": "f406d4ab-a2d9-4330-fa57-3b7a7c6a3948"
      },
      "execution_count": 31,
      "outputs": [
        {
          "output_type": "stream",
          "name": "stdout",
          "text": [
            "Train set shape: (7200, 3000)\n",
            "Validation set shape: (1543, 3000)\n",
            "Test set shape: (1544, 3000)\n",
            "Small dataset shape: (556, 3000)\n",
            "General dataset shape: (1148, 3000)\n"
          ]
        }
      ]
    },
    {
      "cell_type": "markdown",
      "source": [
        "# 8. Model Training and Evaluation\n",
        "We train and evaluate two classification models — Naive Bayes and Linear Support Vector Machine — using the dataset 2.\n",
        "Evaluation is performed first on the validation set and then on the final test set. We report standard metrics such as accuracy, F1-score, and confusion matrix.\n"
      ],
      "metadata": {
        "id": "ffYjt7g2grmg"
      }
    },
    {
      "cell_type": "markdown",
      "source": [
        "## 8.1 Define and Train Models"
      ],
      "metadata": {
        "id": "8uDodWTqoOU3"
      }
    },
    {
      "cell_type": "code",
      "source": [
        "# Define models\n",
        "models = {\n",
        "    \"NB-2\": MultinomialNB(),   # Naive Bayes model\n",
        "    \"SVM-2\": LinearSVC()       # Linear Support Vector Machine model\n",
        "}\n",
        "\n",
        "# Store trained models\n",
        "trained_models = {}\n",
        "\n",
        "print(\" Evaluating Models on Validation Set\")\n",
        "for name, model in models.items():\n",
        "    print(f\"\\n=== {name} ===\")\n",
        "\n",
        "    # Train the model on the training dataset\n",
        "    model.fit(X_train, y_train)\n",
        "\n",
        "    # Save the trained model\n",
        "    trained_models[name] = model\n",
        "\n",
        "    # Predict on the validation set\n",
        "    y_val_pred = model.predict(X_val)\n",
        "\n",
        "    # Calculate evaluation metrics\n",
        "    acc_val = accuracy_score(y_val, y_val_pred)\n",
        "    f1_val = f1_score(y_val, y_val_pred)\n",
        "    cm_val = confusion_matrix(y_val, y_val_pred)\n",
        "\n",
        "    # Display evaluation results\n",
        "    print(f\"Validation Accuracy: {acc_val:.4f}\")\n",
        "    print(f\"Validation F1 Score: {f1_val:.4f}\")\n",
        "    print(\"Validation Confusion Matrix:\\n\", cm_val)\n",
        "    print(\"Validation Classification Report:\\n\", classification_report(y_val, y_val_pred))"
      ],
      "metadata": {
        "colab": {
          "base_uri": "https://localhost:8080/"
        },
        "id": "AoM-tv_OgrP-",
        "outputId": "4dbb9e78-bad2-4918-a94a-4dce82da9b20"
      },
      "execution_count": 32,
      "outputs": [
        {
          "output_type": "stream",
          "name": "stdout",
          "text": [
            " Evaluating Models on Validation Set\n",
            "\n",
            "=== NB-2 ===\n",
            "Validation Accuracy: 0.9391\n",
            "Validation F1 Score: 0.8554\n",
            "Validation Confusion Matrix:\n",
            " [[1171   31]\n",
            " [  63  278]]\n",
            "Validation Classification Report:\n",
            "               precision    recall  f1-score   support\n",
            "\n",
            "           0       0.95      0.97      0.96      1202\n",
            "           1       0.90      0.82      0.86       341\n",
            "\n",
            "    accuracy                           0.94      1543\n",
            "   macro avg       0.92      0.89      0.91      1543\n",
            "weighted avg       0.94      0.94      0.94      1543\n",
            "\n",
            "\n",
            "=== SVM-2 ===\n",
            "Validation Accuracy: 0.9494\n",
            "Validation F1 Score: 0.8781\n",
            "Validation Confusion Matrix:\n",
            " [[1184   18]\n",
            " [  60  281]]\n",
            "Validation Classification Report:\n",
            "               precision    recall  f1-score   support\n",
            "\n",
            "           0       0.95      0.99      0.97      1202\n",
            "           1       0.94      0.82      0.88       341\n",
            "\n",
            "    accuracy                           0.95      1543\n",
            "   macro avg       0.95      0.90      0.92      1543\n",
            "weighted avg       0.95      0.95      0.95      1543\n",
            "\n"
          ]
        }
      ]
    },
    {
      "cell_type": "markdown",
      "source": [
        "## 8.2 Final Evaluation on Test Set\n",
        "After selecting models based on validation performance, we report final evaluation metrics on the unseen test set.\n"
      ],
      "metadata": {
        "id": "kEOC5Xt_aGKl"
      }
    },
    {
      "cell_type": "code",
      "source": [
        "for name, model in trained_models.items():\n",
        "    print(f\"\\n=== {name} (Final Test Evaluation) ===\")\n",
        "    y_test_pred = model.predict(X_test)\n",
        "\n",
        "    acc_test = accuracy_score(y_test, y_test_pred)\n",
        "    f1_test = f1_score(y_test, y_test_pred)\n",
        "    cm_test = confusion_matrix(y_test, y_test_pred)\n",
        "\n",
        "    print(f\"Test Accuracy: {acc_test:.4f}\")\n",
        "    print(f\"Test F1 Score: {f1_test:.4f}\")\n",
        "    print(\"Confusion Matrix:\\n\", cm_test)\n",
        "    print(\"Classification Report:\\n\", classification_report(y_test, y_test_pred))\n"
      ],
      "metadata": {
        "colab": {
          "base_uri": "https://localhost:8080/"
        },
        "id": "aERNhVXTaNNl",
        "outputId": "0f65305a-d887-4cd7-d88d-8c5aa28511eb"
      },
      "execution_count": 33,
      "outputs": [
        {
          "output_type": "stream",
          "name": "stdout",
          "text": [
            "\n",
            "=== NB-2 (Final Test Evaluation) ===\n",
            "Test Accuracy: 0.9301\n",
            "Test F1 Score: 0.8338\n",
            "Confusion Matrix:\n",
            " [[1165   38]\n",
            " [  70  271]]\n",
            "Classification Report:\n",
            "               precision    recall  f1-score   support\n",
            "\n",
            "           0       0.94      0.97      0.96      1203\n",
            "           1       0.88      0.79      0.83       341\n",
            "\n",
            "    accuracy                           0.93      1544\n",
            "   macro avg       0.91      0.88      0.89      1544\n",
            "weighted avg       0.93      0.93      0.93      1544\n",
            "\n",
            "\n",
            "=== SVM-2 (Final Test Evaluation) ===\n",
            "Test Accuracy: 0.9514\n",
            "Test F1 Score: 0.8876\n",
            "Confusion Matrix:\n",
            " [[1173   30]\n",
            " [  45  296]]\n",
            "Classification Report:\n",
            "               precision    recall  f1-score   support\n",
            "\n",
            "           0       0.96      0.98      0.97      1203\n",
            "           1       0.91      0.87      0.89       341\n",
            "\n",
            "    accuracy                           0.95      1544\n",
            "   macro avg       0.94      0.92      0.93      1544\n",
            "weighted avg       0.95      0.95      0.95      1544\n",
            "\n"
          ]
        }
      ]
    },
    {
      "cell_type": "markdown",
      "source": [
        "# 9. Evaluation on External Datasets\n",
        "\n",
        "To assess the generalization ability of our trained models, we evaluate them on two external datasets:\n",
        "- **Dataset 1:** Cleaned version of the smaller dataset.\n",
        "- **Dataset 3:** Manually created general dataset.\n"
      ],
      "metadata": {
        "id": "mUbB-nBzps4D"
      }
    },
    {
      "cell_type": "markdown",
      "source": [
        "## 9.1 Evaluate on Clean Small Dataset"
      ],
      "metadata": {
        "id": "wlRkxZonpwtQ"
      }
    },
    {
      "cell_type": "code",
      "source": [
        "print(\"\\n Evaluating Pretrained Models on Dataset 1(Clean Small Dataset)\")\n",
        "\n",
        "for name, model in trained_models.items():\n",
        "    print(f\"\\n=== {name} on Dataset 1 ===\")\n",
        "    y_small_pred = model.predict(X_small)\n",
        "\n",
        "    acc_2nd = accuracy_score(y_small, y_small_pred)\n",
        "    f1_2nd = f1_score(y_small, y_small_pred)\n",
        "    cm_2nd = confusion_matrix(y_small, y_small_pred)\n",
        "\n",
        "    print(f\"Accuracy: {acc_2nd:.4f}\")\n",
        "    print(f\"F1 Score: {f1_2nd:.4f}\")\n",
        "    print(\"Confusion Matrix:\\n\", cm_2nd)\n",
        "    print(\"Classification Report:\\n\", classification_report(y_small, y_small_pred))\n"
      ],
      "metadata": {
        "colab": {
          "base_uri": "https://localhost:8080/"
        },
        "id": "CHriJ2t2puDB",
        "outputId": "493a35ca-d97b-49a3-aec6-38c433af0816"
      },
      "execution_count": 34,
      "outputs": [
        {
          "output_type": "stream",
          "name": "stdout",
          "text": [
            "\n",
            " Evaluating Pretrained Models on Dataset 1(Clean Small Dataset)\n",
            "\n",
            "=== NB-2 on Dataset 1 ===\n",
            "Accuracy: 0.9532\n",
            "F1 Score: 0.9398\n",
            "Confusion Matrix:\n",
            " [[327   1]\n",
            " [ 25 203]]\n",
            "Classification Report:\n",
            "               precision    recall  f1-score   support\n",
            "\n",
            "           0       0.93      1.00      0.96       328\n",
            "           1       1.00      0.89      0.94       228\n",
            "\n",
            "    accuracy                           0.95       556\n",
            "   macro avg       0.96      0.94      0.95       556\n",
            "weighted avg       0.96      0.95      0.95       556\n",
            "\n",
            "\n",
            "=== SVM-2 on Dataset 1 ===\n",
            "Accuracy: 0.9712\n",
            "F1 Score: 0.9640\n",
            "Confusion Matrix:\n",
            " [[326   2]\n",
            " [ 14 214]]\n",
            "Classification Report:\n",
            "               precision    recall  f1-score   support\n",
            "\n",
            "           0       0.96      0.99      0.98       328\n",
            "           1       0.99      0.94      0.96       228\n",
            "\n",
            "    accuracy                           0.97       556\n",
            "   macro avg       0.97      0.97      0.97       556\n",
            "weighted avg       0.97      0.97      0.97       556\n",
            "\n"
          ]
        }
      ]
    },
    {
      "cell_type": "markdown",
      "source": [
        "## 9.2 Evaluate on General Dataset"
      ],
      "metadata": {
        "id": "5sJy0toGs8zt"
      }
    },
    {
      "cell_type": "code",
      "source": [
        "print(\"\\n Evaluating Pretrained Models on 3rd Dataset (General Dataset)\")\n",
        "\n",
        "for name, model in trained_models.items():\n",
        "    print(f\"\\n=== {name} on 3rd Dataset ===\")\n",
        "    y_pred = model.predict(X_general)\n",
        "\n",
        "    acc_gen = accuracy_score(y_general, y_pred)\n",
        "    f1_gen = f1_score(y_general, y_pred)\n",
        "    cm_gen = confusion_matrix(y_general, y_pred)\n",
        "\n",
        "    print(f\"Accuracy: {acc_gen:.4f}\")\n",
        "    print(f\"F1 Score: {f1_gen:.4f}\")\n",
        "    print(\"Confusion Matrix:\\n\", cm_gen)\n",
        "    print(\"Classification Report:\\n\", classification_report(y_general, y_pred))\n"
      ],
      "metadata": {
        "colab": {
          "base_uri": "https://localhost:8080/"
        },
        "id": "Xy6ETlYftA_5",
        "outputId": "aa8545a5-fea5-4326-d44c-2d5e1007fb5b"
      },
      "execution_count": 35,
      "outputs": [
        {
          "output_type": "stream",
          "name": "stdout",
          "text": [
            "\n",
            " Evaluating Pretrained Models on 3rd Dataset (General Dataset)\n",
            "\n",
            "=== NB-2 on 3rd Dataset ===\n",
            "Accuracy: 0.8885\n",
            "F1 Score: 0.8745\n",
            "Confusion Matrix:\n",
            " [[574  15]\n",
            " [113 446]]\n",
            "Classification Report:\n",
            "               precision    recall  f1-score   support\n",
            "\n",
            "           0       0.84      0.97      0.90       589\n",
            "           1       0.97      0.80      0.87       559\n",
            "\n",
            "    accuracy                           0.89      1148\n",
            "   macro avg       0.90      0.89      0.89      1148\n",
            "weighted avg       0.90      0.89      0.89      1148\n",
            "\n",
            "\n",
            "=== SVM-2 on 3rd Dataset ===\n",
            "Accuracy: 0.9094\n",
            "F1 Score: 0.9000\n",
            "Confusion Matrix:\n",
            " [[576  13]\n",
            " [ 91 468]]\n",
            "Classification Report:\n",
            "               precision    recall  f1-score   support\n",
            "\n",
            "           0       0.86      0.98      0.92       589\n",
            "           1       0.97      0.84      0.90       559\n",
            "\n",
            "    accuracy                           0.91      1148\n",
            "   macro avg       0.92      0.91      0.91      1148\n",
            "weighted avg       0.92      0.91      0.91      1148\n",
            "\n"
          ]
        }
      ]
    },
    {
      "cell_type": "markdown",
      "source": [
        "### 9.3 Save Trained Models and Vectorizer\n",
        "\n",
        "To facilitate future use — such as batch predictions, deployment in production, or further experimentation — we save the trained models and the TF-IDF vectorizer using `joblib`. This ensures consistency between the training pipeline and downstream inference.\n"
      ],
      "metadata": {
        "id": "voTBDT2p3nxs"
      }
    },
    {
      "cell_type": "code",
      "source": [
        "\n",
        "# Save Naive Bayes model\n",
        "joblib.dump(trained_models[\"NB-2\"], \"nb2_model.pkl\")\n",
        "\n",
        "# Save SVM model\n",
        "joblib.dump(trained_models[\"SVM-2\"], \"svm2_model.pkl\")\n",
        "\n",
        "# Save the TF-IDF vectorizer\n",
        "joblib.dump(vectorizer, \"tfidf_vectorizer_path2.pkl\")\n",
        "\n",
        "print(\" Models and vectorizer saved successfully.\")\n"
      ],
      "metadata": {
        "colab": {
          "base_uri": "https://localhost:8080/"
        },
        "id": "4E8tq0Op5c05",
        "outputId": "fc404ff5-29ba-4023-e319-463cfc0d9f24"
      },
      "execution_count": 36,
      "outputs": [
        {
          "output_type": "stream",
          "name": "stdout",
          "text": [
            " Models and vectorizer saved successfully.\n"
          ]
        }
      ]
    },
    {
      "cell_type": "markdown",
      "source": [
        "# 10. Predicting New Messages\n",
        "\n",
        "We now test the trained models on unseen, realistic messages to simulate a real-world spam filtering scenario. First, we load the saved models and vectorizer, then classify new messages using the same preprocessing and vectorization steps as during training.\n"
      ],
      "metadata": {
        "id": "Hwp0rLARtsX9"
      }
    },
    {
      "cell_type": "markdown",
      "source": [
        "## 10.1 Load Saved Models and Vectorizer for Prediction"
      ],
      "metadata": {
        "id": "zx9SpVvR6jh3"
      }
    },
    {
      "cell_type": "code",
      "source": [
        "# Load saved models\n",
        "trained_models = {\n",
        "    \"NB-2\": joblib.load(\"nb2_model.pkl\"),\n",
        "    \"SVM-2\": joblib.load(\"svm2_model.pkl\")\n",
        "}\n",
        "\n",
        "# Load the saved TF-IDF vectorizer\n",
        "vectorizer = joblib.load(\"tfidf_vectorizer_path2.pkl\")\n",
        "\n",
        "# Define classification function\n",
        "def classify_message(msg, model=trained_models[\"NB-2\"]):\n",
        "    cleaned = preprocess_text(msg)\n",
        "    vector = vectorizer.transform([cleaned])\n",
        "    prediction = model.predict(vector)[0]\n",
        "    return \"Spam\" if prediction else \"Legitimate\"\n"
      ],
      "metadata": {
        "id": "jVVOSKlT59zx"
      },
      "execution_count": 37,
      "outputs": []
    },
    {
      "cell_type": "markdown",
      "source": [
        "## 10.2 Real-World Test Messages"
      ],
      "metadata": {
        "id": "9OPresDA6oIw"
      }
    },
    {
      "cell_type": "code",
      "source": [
        "\n",
        "test_messages = [\n",
        "    # Likely Spam\n",
        "    \"URGENT! Your account has been locked. Verify your identity at http://fakebanklogin.com now.\",\n",
        "    \"Win a brand new iPhone 15! Just reply YES to enter the contest.\",\n",
        "    \"You have received a cash reward of $2000. Claim here: rewardz.co/claim\",\n",
        "    \"Congratulations! You've been selected for a free cruise to the Bahamas.\",\n",
        "\n",
        "    # Likely Ham (legitimate)\n",
        "    \"Don’t forget your doctor’s appointment tomorrow at 10am.\",\n",
        "    \"Are we still on for dinner this Friday night?\",\n",
        "    \"Here's the PDF for the meeting agenda. Let me know if you have any questions.\",\n",
        "    \"Thanks for your payment. Your subscription has been renewed.\"\n",
        "]\n",
        "\n",
        "# 11.3 Classify Each Message Using All Models\n",
        "for msg in test_messages:\n",
        "    print(f\"\\n Test Message: {msg}\")\n",
        "    for name, model in trained_models.items():\n",
        "        label = classify_message(msg, model=model)\n",
        "        print(f\"{name} Prediction: {label}\")\n"
      ],
      "metadata": {
        "colab": {
          "base_uri": "https://localhost:8080/"
        },
        "id": "xYW6-aZit4HF",
        "outputId": "56e07b03-ac59-4757-d267-c437fa9183ba"
      },
      "execution_count": 38,
      "outputs": [
        {
          "output_type": "stream",
          "name": "stdout",
          "text": [
            "\n",
            " Test Message: URGENT! Your account has been locked. Verify your identity at http://fakebanklogin.com now.\n",
            "NB-2 Prediction: Spam\n",
            "SVM-2 Prediction: Spam\n",
            "\n",
            " Test Message: Win a brand new iPhone 15! Just reply YES to enter the contest.\n",
            "NB-2 Prediction: Spam\n",
            "SVM-2 Prediction: Spam\n",
            "\n",
            " Test Message: You have received a cash reward of $2000. Claim here: rewardz.co/claim\n",
            "NB-2 Prediction: Spam\n",
            "SVM-2 Prediction: Spam\n",
            "\n",
            " Test Message: Congratulations! You've been selected for a free cruise to the Bahamas.\n",
            "NB-2 Prediction: Spam\n",
            "SVM-2 Prediction: Spam\n",
            "\n",
            " Test Message: Don’t forget your doctor’s appointment tomorrow at 10am.\n",
            "NB-2 Prediction: Legitimate\n",
            "SVM-2 Prediction: Legitimate\n",
            "\n",
            " Test Message: Are we still on for dinner this Friday night?\n",
            "NB-2 Prediction: Legitimate\n",
            "SVM-2 Prediction: Legitimate\n",
            "\n",
            " Test Message: Here's the PDF for the meeting agenda. Let me know if you have any questions.\n",
            "NB-2 Prediction: Legitimate\n",
            "SVM-2 Prediction: Legitimate\n",
            "\n",
            " Test Message: Thanks for your payment. Your subscription has been renewed.\n",
            "NB-2 Prediction: Legitimate\n",
            "SVM-2 Prediction: Legitimate\n"
          ]
        }
      ]
    },
    {
      "cell_type": "markdown",
      "source": [
        "# 11. Result Summary\n",
        "\n",
        "In this section, we summarize and compare the performance of the two models — Naive Bayes (NB-2) and Support Vector Machine (SVM-2) — across four evaluation datasets. We report both accuracy and F1 score metrics, and visualize the results to support interpretation.\n"
      ],
      "metadata": {
        "id": "qyq1JuETtpPY"
      }
    },
    {
      "cell_type": "markdown",
      "source": [
        "## 11.1 Comparison of Model Performance"
      ],
      "metadata": {
        "id": "qxfjNsO1v3_c"
      }
    },
    {
      "cell_type": "code",
      "source": [
        "# Collect model performance results\n",
        "results = {\n",
        "    \"Dataset\": [\"Validation Set\", \"Test Set\", \"Small Dataset\", \"General Dataset\"],\n",
        "    \"NB-2 Accuracy\": [],\n",
        "    \"SVM-2 Accuracy\": [],\n",
        "    \"NB-2 F1\": [],\n",
        "    \"SVM-2 F1\": []\n",
        "}\n",
        "\n",
        "# Evaluate and append results\n",
        "def evaluate_and_append(model, X, y):\n",
        "    y_pred = model.predict(X)\n",
        "    return accuracy_score(y, y_pred), f1_score(y, y_pred)\n",
        "\n",
        "# Loop over datasets\n",
        "datasets_eval = [\n",
        "    (\"Validation Set\", X_val, y_val),\n",
        "    (\"Test Set\", X_test, y_test),\n",
        "    (\"Small Dataset\", X_small, y_small),\n",
        "    (\"General Dataset\", X_general, y_general)\n",
        "]\n",
        "\n",
        "for label, X_eval, y_eval in datasets_eval:\n",
        "    nb_acc, nb_f1 = evaluate_and_append(trained_models[\"NB-2\"], X_eval, y_eval)\n",
        "    svm_acc, svm_f1 = evaluate_and_append(trained_models[\"SVM-2\"], X_eval, y_eval)\n",
        "\n",
        "    results[\"NB-2 Accuracy\"].append(nb_acc)\n",
        "    results[\"SVM-2 Accuracy\"].append(svm_acc)\n",
        "    results[\"NB-2 F1\"].append(nb_f1)\n",
        "    results[\"SVM-2 F1\"].append(svm_f1)\n",
        "\n",
        "# Convert to DataFrame\n",
        "results_df = pd.DataFrame(results)\n",
        "display(results_df)\n"
      ],
      "metadata": {
        "colab": {
          "base_uri": "https://localhost:8080/",
          "height": 175
        },
        "id": "q3YYGLO-toW4",
        "outputId": "dae5fe13-bbab-40b4-af23-13b09975c28d"
      },
      "execution_count": 39,
      "outputs": [
        {
          "output_type": "display_data",
          "data": {
            "text/plain": [
              "           Dataset  NB-2 Accuracy  SVM-2 Accuracy   NB-2 F1  SVM-2 F1\n",
              "0   Validation Set       0.939080        0.949449  0.855385  0.878125\n",
              "1         Test Set       0.930052        0.951425  0.833846  0.887556\n",
              "2    Small Dataset       0.953237        0.971223  0.939815  0.963964\n",
              "3  General Dataset       0.888502        0.909408  0.874510  0.900000"
            ],
            "text/html": [
              "\n",
              "  <div id=\"df-b6f5a5af-6dae-490d-bc70-135b7cf13fa8\" class=\"colab-df-container\">\n",
              "    <div>\n",
              "<style scoped>\n",
              "    .dataframe tbody tr th:only-of-type {\n",
              "        vertical-align: middle;\n",
              "    }\n",
              "\n",
              "    .dataframe tbody tr th {\n",
              "        vertical-align: top;\n",
              "    }\n",
              "\n",
              "    .dataframe thead th {\n",
              "        text-align: right;\n",
              "    }\n",
              "</style>\n",
              "<table border=\"1\" class=\"dataframe\">\n",
              "  <thead>\n",
              "    <tr style=\"text-align: right;\">\n",
              "      <th></th>\n",
              "      <th>Dataset</th>\n",
              "      <th>NB-2 Accuracy</th>\n",
              "      <th>SVM-2 Accuracy</th>\n",
              "      <th>NB-2 F1</th>\n",
              "      <th>SVM-2 F1</th>\n",
              "    </tr>\n",
              "  </thead>\n",
              "  <tbody>\n",
              "    <tr>\n",
              "      <th>0</th>\n",
              "      <td>Validation Set</td>\n",
              "      <td>0.939080</td>\n",
              "      <td>0.949449</td>\n",
              "      <td>0.855385</td>\n",
              "      <td>0.878125</td>\n",
              "    </tr>\n",
              "    <tr>\n",
              "      <th>1</th>\n",
              "      <td>Test Set</td>\n",
              "      <td>0.930052</td>\n",
              "      <td>0.951425</td>\n",
              "      <td>0.833846</td>\n",
              "      <td>0.887556</td>\n",
              "    </tr>\n",
              "    <tr>\n",
              "      <th>2</th>\n",
              "      <td>Small Dataset</td>\n",
              "      <td>0.953237</td>\n",
              "      <td>0.971223</td>\n",
              "      <td>0.939815</td>\n",
              "      <td>0.963964</td>\n",
              "    </tr>\n",
              "    <tr>\n",
              "      <th>3</th>\n",
              "      <td>General Dataset</td>\n",
              "      <td>0.888502</td>\n",
              "      <td>0.909408</td>\n",
              "      <td>0.874510</td>\n",
              "      <td>0.900000</td>\n",
              "    </tr>\n",
              "  </tbody>\n",
              "</table>\n",
              "</div>\n",
              "    <div class=\"colab-df-buttons\">\n",
              "\n",
              "  <div class=\"colab-df-container\">\n",
              "    <button class=\"colab-df-convert\" onclick=\"convertToInteractive('df-b6f5a5af-6dae-490d-bc70-135b7cf13fa8')\"\n",
              "            title=\"Convert this dataframe to an interactive table.\"\n",
              "            style=\"display:none;\">\n",
              "\n",
              "  <svg xmlns=\"http://www.w3.org/2000/svg\" height=\"24px\" viewBox=\"0 -960 960 960\">\n",
              "    <path d=\"M120-120v-720h720v720H120Zm60-500h600v-160H180v160Zm220 220h160v-160H400v160Zm0 220h160v-160H400v160ZM180-400h160v-160H180v160Zm440 0h160v-160H620v160ZM180-180h160v-160H180v160Zm440 0h160v-160H620v160Z\"/>\n",
              "  </svg>\n",
              "    </button>\n",
              "\n",
              "  <style>\n",
              "    .colab-df-container {\n",
              "      display:flex;\n",
              "      gap: 12px;\n",
              "    }\n",
              "\n",
              "    .colab-df-convert {\n",
              "      background-color: #E8F0FE;\n",
              "      border: none;\n",
              "      border-radius: 50%;\n",
              "      cursor: pointer;\n",
              "      display: none;\n",
              "      fill: #1967D2;\n",
              "      height: 32px;\n",
              "      padding: 0 0 0 0;\n",
              "      width: 32px;\n",
              "    }\n",
              "\n",
              "    .colab-df-convert:hover {\n",
              "      background-color: #E2EBFA;\n",
              "      box-shadow: 0px 1px 2px rgba(60, 64, 67, 0.3), 0px 1px 3px 1px rgba(60, 64, 67, 0.15);\n",
              "      fill: #174EA6;\n",
              "    }\n",
              "\n",
              "    .colab-df-buttons div {\n",
              "      margin-bottom: 4px;\n",
              "    }\n",
              "\n",
              "    [theme=dark] .colab-df-convert {\n",
              "      background-color: #3B4455;\n",
              "      fill: #D2E3FC;\n",
              "    }\n",
              "\n",
              "    [theme=dark] .colab-df-convert:hover {\n",
              "      background-color: #434B5C;\n",
              "      box-shadow: 0px 1px 3px 1px rgba(0, 0, 0, 0.15);\n",
              "      filter: drop-shadow(0px 1px 2px rgba(0, 0, 0, 0.3));\n",
              "      fill: #FFFFFF;\n",
              "    }\n",
              "  </style>\n",
              "\n",
              "    <script>\n",
              "      const buttonEl =\n",
              "        document.querySelector('#df-b6f5a5af-6dae-490d-bc70-135b7cf13fa8 button.colab-df-convert');\n",
              "      buttonEl.style.display =\n",
              "        google.colab.kernel.accessAllowed ? 'block' : 'none';\n",
              "\n",
              "      async function convertToInteractive(key) {\n",
              "        const element = document.querySelector('#df-b6f5a5af-6dae-490d-bc70-135b7cf13fa8');\n",
              "        const dataTable =\n",
              "          await google.colab.kernel.invokeFunction('convertToInteractive',\n",
              "                                                    [key], {});\n",
              "        if (!dataTable) return;\n",
              "\n",
              "        const docLinkHtml = 'Like what you see? Visit the ' +\n",
              "          '<a target=\"_blank\" href=https://colab.research.google.com/notebooks/data_table.ipynb>data table notebook</a>'\n",
              "          + ' to learn more about interactive tables.';\n",
              "        element.innerHTML = '';\n",
              "        dataTable['output_type'] = 'display_data';\n",
              "        await google.colab.output.renderOutput(dataTable, element);\n",
              "        const docLink = document.createElement('div');\n",
              "        docLink.innerHTML = docLinkHtml;\n",
              "        element.appendChild(docLink);\n",
              "      }\n",
              "    </script>\n",
              "  </div>\n",
              "\n",
              "\n",
              "    <div id=\"df-342131da-e5ab-425b-8cc8-49eefd5bfceb\">\n",
              "      <button class=\"colab-df-quickchart\" onclick=\"quickchart('df-342131da-e5ab-425b-8cc8-49eefd5bfceb')\"\n",
              "                title=\"Suggest charts\"\n",
              "                style=\"display:none;\">\n",
              "\n",
              "<svg xmlns=\"http://www.w3.org/2000/svg\" height=\"24px\"viewBox=\"0 0 24 24\"\n",
              "     width=\"24px\">\n",
              "    <g>\n",
              "        <path d=\"M19 3H5c-1.1 0-2 .9-2 2v14c0 1.1.9 2 2 2h14c1.1 0 2-.9 2-2V5c0-1.1-.9-2-2-2zM9 17H7v-7h2v7zm4 0h-2V7h2v10zm4 0h-2v-4h2v4z\"/>\n",
              "    </g>\n",
              "</svg>\n",
              "      </button>\n",
              "\n",
              "<style>\n",
              "  .colab-df-quickchart {\n",
              "      --bg-color: #E8F0FE;\n",
              "      --fill-color: #1967D2;\n",
              "      --hover-bg-color: #E2EBFA;\n",
              "      --hover-fill-color: #174EA6;\n",
              "      --disabled-fill-color: #AAA;\n",
              "      --disabled-bg-color: #DDD;\n",
              "  }\n",
              "\n",
              "  [theme=dark] .colab-df-quickchart {\n",
              "      --bg-color: #3B4455;\n",
              "      --fill-color: #D2E3FC;\n",
              "      --hover-bg-color: #434B5C;\n",
              "      --hover-fill-color: #FFFFFF;\n",
              "      --disabled-bg-color: #3B4455;\n",
              "      --disabled-fill-color: #666;\n",
              "  }\n",
              "\n",
              "  .colab-df-quickchart {\n",
              "    background-color: var(--bg-color);\n",
              "    border: none;\n",
              "    border-radius: 50%;\n",
              "    cursor: pointer;\n",
              "    display: none;\n",
              "    fill: var(--fill-color);\n",
              "    height: 32px;\n",
              "    padding: 0;\n",
              "    width: 32px;\n",
              "  }\n",
              "\n",
              "  .colab-df-quickchart:hover {\n",
              "    background-color: var(--hover-bg-color);\n",
              "    box-shadow: 0 1px 2px rgba(60, 64, 67, 0.3), 0 1px 3px 1px rgba(60, 64, 67, 0.15);\n",
              "    fill: var(--button-hover-fill-color);\n",
              "  }\n",
              "\n",
              "  .colab-df-quickchart-complete:disabled,\n",
              "  .colab-df-quickchart-complete:disabled:hover {\n",
              "    background-color: var(--disabled-bg-color);\n",
              "    fill: var(--disabled-fill-color);\n",
              "    box-shadow: none;\n",
              "  }\n",
              "\n",
              "  .colab-df-spinner {\n",
              "    border: 2px solid var(--fill-color);\n",
              "    border-color: transparent;\n",
              "    border-bottom-color: var(--fill-color);\n",
              "    animation:\n",
              "      spin 1s steps(1) infinite;\n",
              "  }\n",
              "\n",
              "  @keyframes spin {\n",
              "    0% {\n",
              "      border-color: transparent;\n",
              "      border-bottom-color: var(--fill-color);\n",
              "      border-left-color: var(--fill-color);\n",
              "    }\n",
              "    20% {\n",
              "      border-color: transparent;\n",
              "      border-left-color: var(--fill-color);\n",
              "      border-top-color: var(--fill-color);\n",
              "    }\n",
              "    30% {\n",
              "      border-color: transparent;\n",
              "      border-left-color: var(--fill-color);\n",
              "      border-top-color: var(--fill-color);\n",
              "      border-right-color: var(--fill-color);\n",
              "    }\n",
              "    40% {\n",
              "      border-color: transparent;\n",
              "      border-right-color: var(--fill-color);\n",
              "      border-top-color: var(--fill-color);\n",
              "    }\n",
              "    60% {\n",
              "      border-color: transparent;\n",
              "      border-right-color: var(--fill-color);\n",
              "    }\n",
              "    80% {\n",
              "      border-color: transparent;\n",
              "      border-right-color: var(--fill-color);\n",
              "      border-bottom-color: var(--fill-color);\n",
              "    }\n",
              "    90% {\n",
              "      border-color: transparent;\n",
              "      border-bottom-color: var(--fill-color);\n",
              "    }\n",
              "  }\n",
              "</style>\n",
              "\n",
              "      <script>\n",
              "        async function quickchart(key) {\n",
              "          const quickchartButtonEl =\n",
              "            document.querySelector('#' + key + ' button');\n",
              "          quickchartButtonEl.disabled = true;  // To prevent multiple clicks.\n",
              "          quickchartButtonEl.classList.add('colab-df-spinner');\n",
              "          try {\n",
              "            const charts = await google.colab.kernel.invokeFunction(\n",
              "                'suggestCharts', [key], {});\n",
              "          } catch (error) {\n",
              "            console.error('Error during call to suggestCharts:', error);\n",
              "          }\n",
              "          quickchartButtonEl.classList.remove('colab-df-spinner');\n",
              "          quickchartButtonEl.classList.add('colab-df-quickchart-complete');\n",
              "        }\n",
              "        (() => {\n",
              "          let quickchartButtonEl =\n",
              "            document.querySelector('#df-342131da-e5ab-425b-8cc8-49eefd5bfceb button');\n",
              "          quickchartButtonEl.style.display =\n",
              "            google.colab.kernel.accessAllowed ? 'block' : 'none';\n",
              "        })();\n",
              "      </script>\n",
              "    </div>\n",
              "\n",
              "  <div id=\"id_262eb700-0d49-4949-87a3-28c0e9864519\">\n",
              "    <style>\n",
              "      .colab-df-generate {\n",
              "        background-color: #E8F0FE;\n",
              "        border: none;\n",
              "        border-radius: 50%;\n",
              "        cursor: pointer;\n",
              "        display: none;\n",
              "        fill: #1967D2;\n",
              "        height: 32px;\n",
              "        padding: 0 0 0 0;\n",
              "        width: 32px;\n",
              "      }\n",
              "\n",
              "      .colab-df-generate:hover {\n",
              "        background-color: #E2EBFA;\n",
              "        box-shadow: 0px 1px 2px rgba(60, 64, 67, 0.3), 0px 1px 3px 1px rgba(60, 64, 67, 0.15);\n",
              "        fill: #174EA6;\n",
              "      }\n",
              "\n",
              "      [theme=dark] .colab-df-generate {\n",
              "        background-color: #3B4455;\n",
              "        fill: #D2E3FC;\n",
              "      }\n",
              "\n",
              "      [theme=dark] .colab-df-generate:hover {\n",
              "        background-color: #434B5C;\n",
              "        box-shadow: 0px 1px 3px 1px rgba(0, 0, 0, 0.15);\n",
              "        filter: drop-shadow(0px 1px 2px rgba(0, 0, 0, 0.3));\n",
              "        fill: #FFFFFF;\n",
              "      }\n",
              "    </style>\n",
              "    <button class=\"colab-df-generate\" onclick=\"generateWithVariable('results_df')\"\n",
              "            title=\"Generate code using this dataframe.\"\n",
              "            style=\"display:none;\">\n",
              "\n",
              "  <svg xmlns=\"http://www.w3.org/2000/svg\" height=\"24px\"viewBox=\"0 0 24 24\"\n",
              "       width=\"24px\">\n",
              "    <path d=\"M7,19H8.4L18.45,9,17,7.55,7,17.6ZM5,21V16.75L18.45,3.32a2,2,0,0,1,2.83,0l1.4,1.43a1.91,1.91,0,0,1,.58,1.4,1.91,1.91,0,0,1-.58,1.4L9.25,21ZM18.45,9,17,7.55Zm-12,3A5.31,5.31,0,0,0,4.9,8.1,5.31,5.31,0,0,0,1,6.5,5.31,5.31,0,0,0,4.9,4.9,5.31,5.31,0,0,0,6.5,1,5.31,5.31,0,0,0,8.1,4.9,5.31,5.31,0,0,0,12,6.5,5.46,5.46,0,0,0,6.5,12Z\"/>\n",
              "  </svg>\n",
              "    </button>\n",
              "    <script>\n",
              "      (() => {\n",
              "      const buttonEl =\n",
              "        document.querySelector('#id_262eb700-0d49-4949-87a3-28c0e9864519 button.colab-df-generate');\n",
              "      buttonEl.style.display =\n",
              "        google.colab.kernel.accessAllowed ? 'block' : 'none';\n",
              "\n",
              "      buttonEl.onclick = () => {\n",
              "        google.colab.notebook.generateWithVariable('results_df');\n",
              "      }\n",
              "      })();\n",
              "    </script>\n",
              "  </div>\n",
              "\n",
              "    </div>\n",
              "  </div>\n"
            ],
            "application/vnd.google.colaboratory.intrinsic+json": {
              "type": "dataframe",
              "variable_name": "results_df",
              "summary": "{\n  \"name\": \"results_df\",\n  \"rows\": 4,\n  \"fields\": [\n    {\n      \"column\": \"Dataset\",\n      \"properties\": {\n        \"dtype\": \"string\",\n        \"num_unique_values\": 4,\n        \"samples\": [\n          \"Test Set\",\n          \"General Dataset\",\n          \"Validation Set\"\n        ],\n        \"semantic_type\": \"\",\n        \"description\": \"\"\n      }\n    },\n    {\n      \"column\": \"NB-2 Accuracy\",\n      \"properties\": {\n        \"dtype\": \"number\",\n        \"std\": 0.02783098044978618,\n        \"min\": 0.8885017421602788,\n        \"max\": 0.9532374100719424,\n        \"num_unique_values\": 4,\n        \"samples\": [\n          0.9300518134715026,\n          0.8885017421602788,\n          0.9390797148412184\n        ],\n        \"semantic_type\": \"\",\n        \"description\": \"\"\n      }\n    },\n    {\n      \"column\": \"SVM-2 Accuracy\",\n      \"properties\": {\n        \"dtype\": \"number\",\n        \"std\": 0.025916331998398354,\n        \"min\": 0.9094076655052264,\n        \"max\": 0.9712230215827338,\n        \"num_unique_values\": 4,\n        \"samples\": [\n          0.9514248704663213,\n          0.9094076655052264,\n          0.949449125081011\n        ],\n        \"semantic_type\": \"\",\n        \"description\": \"\"\n      }\n    },\n    {\n      \"column\": \"NB-2 F1\",\n      \"properties\": {\n        \"dtype\": \"number\",\n        \"std\": 0.045739999572360836,\n        \"min\": 0.8338461538461538,\n        \"max\": 0.9398148148148148,\n        \"num_unique_values\": 4,\n        \"samples\": [\n          0.8338461538461538,\n          0.8745098039215686,\n          0.8553846153846154\n        ],\n        \"semantic_type\": \"\",\n        \"description\": \"\"\n      }\n    },\n    {\n      \"column\": \"SVM-2 F1\",\n      \"properties\": {\n        \"dtype\": \"number\",\n        \"std\": 0.038751527555236184,\n        \"min\": 0.878125,\n        \"max\": 0.963963963963964,\n        \"num_unique_values\": 4,\n        \"samples\": [\n          0.8875562218890555,\n          0.9,\n          0.878125\n        ],\n        \"semantic_type\": \"\",\n        \"description\": \"\"\n      }\n    }\n  ]\n}"
            }
          },
          "metadata": {}
        }
      ]
    },
    {
      "cell_type": "code",
      "source": [
        "# Save results to CSV for later combination\n",
        "results_df.to_csv(\"results_path2.csv\", index=False)"
      ],
      "metadata": {
        "id": "1TKRvrTX_1hV"
      },
      "execution_count": 40,
      "outputs": []
    },
    {
      "cell_type": "markdown",
      "source": [
        "## 11.2 Visualization of Performance Comparison"
      ],
      "metadata": {
        "id": "p3ooGnEfwVv8"
      }
    },
    {
      "cell_type": "code",
      "source": [
        "# 12.2 Visualization of Performance Comparison\n",
        "fig, axes = plt.subplots(1, 2, figsize=(14, 5))\n",
        "\n",
        "# Accuracy plot\n",
        "results_df.plot(x=\"Dataset\", y=[\"NB-2 Accuracy\", \"SVM-2 Accuracy\"], kind=\"bar\", ax=axes[0],\n",
        "                color=[\"skyblue\", \"orange\"], legend=False)\n",
        "axes[0].set_title(\"Accuracy Comparison across Datasets\")\n",
        "axes[0].set_ylabel(\"Accuracy\")\n",
        "axes[0].set_ylim(0.3, 1.0)\n",
        "axes[0].legend([\"NB-2 Accuracy\", \"SVM-2 Accuracy\"], loc='upper left', bbox_to_anchor=(1.0, 1.0))\n",
        "\n",
        "# F1 score plot\n",
        "results_df.plot(x=\"Dataset\", y=[\"NB-2 F1\", \"SVM-2 F1\"], kind=\"bar\", ax=axes[1],\n",
        "                color=[\"lightgreen\", \"salmon\"], legend=False)\n",
        "axes[1].set_title(\"F1 Score Comparison across Datasets\")\n",
        "axes[1].set_ylabel(\"F1 Score\")\n",
        "axes[1].set_ylim(0.3, 1.0)\n",
        "axes[1].legend([\"NB-2 F1\", \"SVM-2 F1\"], loc='upper left', bbox_to_anchor=(1.0, 1.0))\n",
        "\n",
        "plt.tight_layout()\n",
        "plt.show()\n"
      ],
      "metadata": {
        "colab": {
          "base_uri": "https://localhost:8080/",
          "height": 263
        },
        "id": "78PcRmGb2Syt",
        "outputId": "06081f30-9ce6-4053-a8df-367f26564d5a"
      },
      "execution_count": 41,
      "outputs": [
        {
          "output_type": "display_data",
          "data": {
            "text/plain": [
              "<Figure size 1400x500 with 2 Axes>"
            ],
            "image/png": "[encoded data removed]"
          },
          "metadata": {}
        }
      ]
    },
    {
      "cell_type": "markdown",
      "source": [
        "# 12. Which Model Performed Better in Path 2?\n",
        "The evaluation results across the validation set, final test set, and two external datasets (Dataset 1 and Dataset 3) clearly indicate that the SVM-2 model outperformed NB-2 in nearly all aspects.\n",
        "\n",
        "On the validation set, SVM-2 achieved a higher F1 score (0.8781 vs. 0.8554), reflecting better balance between precision and recall.\n",
        "\n",
        "This trend continued on the final test set, where SVM-2 not only reached superior accuracy (0.9514 vs. 0.9301) but also demonstrated more reliable spam detection, with an F1 score of 0.8876 compared to 0.8338 for NB-2.\n",
        "\n",
        "The generalization capability of SVM-2 was further confirmed through evaluations on Dataset 1 and Dataset 3.\n",
        "\n",
        "On Dataset 1, SVM-2 achieved a remarkable F1 score of 0.9640, surpassing NB-2's already strong 0.9398. On the more challenging and distributionally diverse Dataset 3, SVM-2 again led with an F1 score of 0.9000, compared to 0.8745 for NB-2.\n",
        "\n",
        "In conclusion, **SVM-2** consistently showed higher performance across all datasets, highlighting its robustness, generalization ability, and effectiveness for spam classification when trained on a larger, more representative dataset in Path 2.\n",
        "\n",
        "\n",
        "---\n",
        "\n",
        "## Additional Note:\n",
        "\n",
        "In Section **11. Predicting New Messages**, both NB-2 and SVM-2 were able to correctly classify real-world spam and legitimate messages. However, SVM-2’s stronger metrics suggest it is more reliable for real-world deployment scenarios.\n"
      ],
      "metadata": {
        "id": "FBYNI1lmyK3M"
      }
    }
  ]
}