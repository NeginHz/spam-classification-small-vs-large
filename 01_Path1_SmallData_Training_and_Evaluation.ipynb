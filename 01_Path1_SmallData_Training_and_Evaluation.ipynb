{
  "nbformat": 4,
  "nbformat_minor": 0,
  "metadata": {
    "colab": {
      "provenance": [],
      "collapsed_sections": [
        "nzHsfJi2_2d4",
        "4mZmMSJP_5Zn",
        "xmc8WwyRDuO8",
        "Kj1MWeruEmZn",
        "UCybV3oTTCDO",
        "ssZkPMH6TO7H",
        "SqzqjUqyTWD5",
        "aHY94jRGYYRD",
        "1G6V-ID2Jx-9",
        "c5vtr6wjJ1pz",
        "ZqtHQUPLJ7Ar",
        "rh5WCdw6XEeC",
        "dC6-nXQMKeNm",
        "lljqFY4QKiE1",
        "Sf_jsouHU__p",
        "oiDeUtudVC1u",
        "ATxkunu5Y4pP",
        "GVxywNKUaDHw",
        "c81yjFH0be04",
        "kXicKwBoblK4",
        "mCPQ2gSbbynB",
        "UeRzqwy1cE9z",
        "_ouk3JFTildt",
        "NGaUXi9cgB-r",
        "5pZ2YbwiU06N",
        "GGZ7uImEf3a6",
        "8uDodWTqoOU3",
        "kEOC5Xt_aGKl",
        "wlRkxZonpwtQ",
        "5sJy0toGs8zt",
        "Hwp0rLARtsX9",
        "fmzbB_vyxm4f",
        "p3ooGnEfwVv8"
      ]
    },
    "kernelspec": {
      "name": "python3",
      "display_name": "Python 3"
    },
    "language_info": {
      "name": "python"
    }
  },
  "cells": [
    {
      "cell_type": "markdown",
      "source": [
        "# Path 1 – Training on Small Dataset"
      ],
      "metadata": {
        "id": "-RC-nFR9CjQq"
      }
    },
    {
      "cell_type": "markdown",
      "source": [
        "# 1. Introduction"
      ],
      "metadata": {
        "id": "R21Jk8erCl5C"
      }
    },
    {
      "cell_type": "markdown",
      "source": [
        "This notebook presents the first modeling pipeline (Path 1) for spam detection using traditional machine learning methods trained on a small, labeled dataset. The primary goal is to build a baseline spam classifier using simple and interpretable models, evaluate them thoroughly, and assess their generalization capability on larger and more realistic datasets.\n",
        "\n",
        "The entire process follows a modular structure, covering the following stages:\n",
        "\n",
        "Data Loading & Exploration: Load a small benchmark dataset of SMS messages, and inspect its structure and balance.\n",
        "\n",
        "Text Preprocessing: Clean and normalize text using lowercasing, punctuation removal, stopword filtering, and lemmatization.\n",
        "\n",
        "Vectorization: Convert preprocessed text into numerical vectors using the TF-IDF method with limited dimensionality.\n",
        "\n",
        "Model Training: Train two baseline classifiers — Naive Bayes and Support Vector Machine — on the vectorized small dataset.\n",
        "\n",
        "Evaluation on Multiple Datasets:\n",
        "\n",
        "Validation and test subsets from the small dataset.\n",
        "\n",
        "A large noisy dataset (external).\n",
        "\n",
        "A general, diverse dataset (realistic).\n",
        "\n",
        "Prediction on Realistic Messages: Test both models on manually crafted spam and ham messages.\n",
        "\n",
        "Result Summary & Comparison: Report and visualize the accuracy and F1 scores of both models, and identify the preferred one for deployment.\n",
        "\n",
        "By the end of this notebook, we identify which model — among Naive Bayes and SVM — performs better in terms of precision, recall, and robustness, and whether a model trained on small clean data can generalize well to noisy or real-world inputs.\n",
        "\n",
        "This notebook forms the foundation for comparison with more advanced approaches explored in subsequent paths (e.g., Path 2 with large training data).\n",
        "\n"
      ],
      "metadata": {
        "id": "YwcJeXjRhxGw"
      }
    },
    {
      "cell_type": "markdown",
      "source": [
        "# 2. Setup"
      ],
      "metadata": {
        "id": "LqvihG6ECsTJ"
      }
    },
    {
      "cell_type": "markdown",
      "source": [
        "## 2.1 Install & Import Required Libraries Load Libraries and Settings"
      ],
      "metadata": {
        "id": "nzHsfJi2_2d4"
      }
    },
    {
      "cell_type": "code",
      "source": [
        "import pandas as pd\n",
        "import re\n",
        "import string\n",
        "import matplotlib.pyplot as plt\n",
        "import joblib\n",
        "\n",
        "from sklearn.model_selection import train_test_split\n",
        "from sklearn.feature_extraction.text import TfidfVectorizer\n",
        "from sklearn.naive_bayes import MultinomialNB\n",
        "from sklearn.svm import LinearSVC\n",
        "from sklearn.metrics import accuracy_score, f1_score, confusion_matrix, classification_report\n",
        "\n",
        "import nltk\n",
        "from nltk.corpus import stopwords\n",
        "from nltk.stem import WordNetLemmatizer\n",
        "nltk.download(\"stopwords\")\n",
        "nltk.download(\"wordnet\")\n",
        "nltk.download(\"omw-1.4\")"
      ],
      "metadata": {
        "colab": {
          "base_uri": "https://localhost:8080/"
        },
        "id": "WrF6ekyBAI9S",
        "outputId": "32156922-3684-42f7-925e-5a96452beefc"
      },
      "execution_count": 1,
      "outputs": [
        {
          "output_type": "stream",
          "name": "stderr",
          "text": [
            "[nltk_data] Downloading package stopwords to /root/nltk_data...\n",
            "[nltk_data]   Unzipping corpora/stopwords.zip.\n",
            "[nltk_data] Downloading package wordnet to /root/nltk_data...\n",
            "[nltk_data] Downloading package omw-1.4 to /root/nltk_data...\n"
          ]
        },
        {
          "output_type": "execute_result",
          "data": {
            "text/plain": [
              "True"
            ]
          },
          "metadata": {},
          "execution_count": 1
        }
      ]
    },
    {
      "cell_type": "markdown",
      "source": [
        "# 3. Load Datasets\n",
        "\n"
      ],
      "metadata": {
        "id": "ItsbKo8dCxw6"
      }
    },
    {
      "cell_type": "markdown",
      "source": [
        "## 3.1 Load Dataset 1 – Small Dataset (Path 1 Training)\n",
        "\n",
        "This dataset contains 5,574 SMS messages labeled as **spam** or **ham**.  \n",
        "It was used in the PyCon 2016 tutorial by *justmarkham* and is available on GitHub.  \n",
        "**Role in project:** Used for training in Path 1."
      ],
      "metadata": {
        "id": "4mZmMSJP_5Zn"
      }
    },
    {
      "cell_type": "code",
      "source": [
        "# Load Dataset 1 (Small SMS Spam Dataset from GitHub)\n",
        "url_small = \"https://raw.githubusercontent.com/justmarkham/pycon-2016-tutorial/master/data/sms.tsv\"\n",
        "\n",
        "# Load with appropriate parameters\n",
        "df_small = pd.read_csv(\n",
        "    url_small,\n",
        "    sep=\"\\t\",\n",
        "    header=None,\n",
        "    names=[\"label\", \"message\"]\n",
        ")\n",
        "\n",
        "# Preview the first few rows\n",
        "df_small.head()\n"
      ],
      "metadata": {
        "colab": {
          "base_uri": "https://localhost:8080/",
          "height": 206
        },
        "id": "XQnO7_eTAUrG",
        "outputId": "86e95207-afd1-4393-c421-302692aa38b5"
      },
      "execution_count": 2,
      "outputs": [
        {
          "output_type": "execute_result",
          "data": {
            "text/plain": [
              "  label                                            message\n",
              "0   ham  Go until jurong point, crazy.. Available only ...\n",
              "1   ham                      Ok lar... Joking wif u oni...\n",
              "2  spam  Free entry in 2 a wkly comp to win FA Cup fina...\n",
              "3   ham  U dun say so early hor... U c already then say...\n",
              "4   ham  Nah I don't think he goes to usf, he lives aro..."
            ],
            "text/html": [
              "\n",
              "  <div id=\"df-3489a157-8628-438b-9a80-cf11c12717b3\" class=\"colab-df-container\">\n",
              "    <div>\n",
              "<style scoped>\n",
              "    .dataframe tbody tr th:only-of-type {\n",
              "        vertical-align: middle;\n",
              "    }\n",
              "\n",
              "    .dataframe tbody tr th {\n",
              "        vertical-align: top;\n",
              "    }\n",
              "\n",
              "    .dataframe thead th {\n",
              "        text-align: right;\n",
              "    }\n",
              "</style>\n",
              "<table border=\"1\" class=\"dataframe\">\n",
              "  <thead>\n",
              "    <tr style=\"text-align: right;\">\n",
              "      <th></th>\n",
              "      <th>label</th>\n",
              "      <th>message</th>\n",
              "    </tr>\n",
              "  </thead>\n",
              "  <tbody>\n",
              "    <tr>\n",
              "      <th>0</th>\n",
              "      <td>ham</td>\n",
              "      <td>Go until jurong point, crazy.. Available only ...</td>\n",
              "    </tr>\n",
              "    <tr>\n",
              "      <th>1</th>\n",
              "      <td>ham</td>\n",
              "      <td>Ok lar... Joking wif u oni...</td>\n",
              "    </tr>\n",
              "    <tr>\n",
              "      <th>2</th>\n",
              "      <td>spam</td>\n",
              "      <td>Free entry in 2 a wkly comp to win FA Cup fina...</td>\n",
              "    </tr>\n",
              "    <tr>\n",
              "      <th>3</th>\n",
              "      <td>ham</td>\n",
              "      <td>U dun say so early hor... U c already then say...</td>\n",
              "    </tr>\n",
              "    <tr>\n",
              "      <th>4</th>\n",
              "      <td>ham</td>\n",
              "      <td>Nah I don't think he goes to usf, he lives aro...</td>\n",
              "    </tr>\n",
              "  </tbody>\n",
              "</table>\n",
              "</div>\n",
              "    <div class=\"colab-df-buttons\">\n",
              "\n",
              "  <div class=\"colab-df-container\">\n",
              "    <button class=\"colab-df-convert\" onclick=\"convertToInteractive('df-3489a157-8628-438b-9a80-cf11c12717b3')\"\n",
              "            title=\"Convert this dataframe to an interactive table.\"\n",
              "            style=\"display:none;\">\n",
              "\n",
              "  <svg xmlns=\"http://www.w3.org/2000/svg\" height=\"24px\" viewBox=\"0 -960 960 960\">\n",
              "    <path d=\"M120-120v-720h720v720H120Zm60-500h600v-160H180v160Zm220 220h160v-160H400v160Zm0 220h160v-160H400v160ZM180-400h160v-160H180v160Zm440 0h160v-160H620v160ZM180-180h160v-160H180v160Zm440 0h160v-160H620v160Z\"/>\n",
              "  </svg>\n",
              "    </button>\n",
              "\n",
              "  <style>\n",
              "    .colab-df-container {\n",
              "      display:flex;\n",
              "      gap: 12px;\n",
              "    }\n",
              "\n",
              "    .colab-df-convert {\n",
              "      background-color: #E8F0FE;\n",
              "      border: none;\n",
              "      border-radius: 50%;\n",
              "      cursor: pointer;\n",
              "      display: none;\n",
              "      fill: #1967D2;\n",
              "      height: 32px;\n",
              "      padding: 0 0 0 0;\n",
              "      width: 32px;\n",
              "    }\n",
              "\n",
              "    .colab-df-convert:hover {\n",
              "      background-color: #E2EBFA;\n",
              "      box-shadow: 0px 1px 2px rgba(60, 64, 67, 0.3), 0px 1px 3px 1px rgba(60, 64, 67, 0.15);\n",
              "      fill: #174EA6;\n",
              "    }\n",
              "\n",
              "    .colab-df-buttons div {\n",
              "      margin-bottom: 4px;\n",
              "    }\n",
              "\n",
              "    [theme=dark] .colab-df-convert {\n",
              "      background-color: #3B4455;\n",
              "      fill: #D2E3FC;\n",
              "    }\n",
              "\n",
              "    [theme=dark] .colab-df-convert:hover {\n",
              "      background-color: #434B5C;\n",
              "      box-shadow: 0px 1px 3px 1px rgba(0, 0, 0, 0.15);\n",
              "      filter: drop-shadow(0px 1px 2px rgba(0, 0, 0, 0.3));\n",
              "      fill: #FFFFFF;\n",
              "    }\n",
              "  </style>\n",
              "\n",
              "    <script>\n",
              "      const buttonEl =\n",
              "        document.querySelector('#df-3489a157-8628-438b-9a80-cf11c12717b3 button.colab-df-convert');\n",
              "      buttonEl.style.display =\n",
              "        google.colab.kernel.accessAllowed ? 'block' : 'none';\n",
              "\n",
              "      async function convertToInteractive(key) {\n",
              "        const element = document.querySelector('#df-3489a157-8628-438b-9a80-cf11c12717b3');\n",
              "        const dataTable =\n",
              "          await google.colab.kernel.invokeFunction('convertToInteractive',\n",
              "                                                    [key], {});\n",
              "        if (!dataTable) return;\n",
              "\n",
              "        const docLinkHtml = 'Like what you see? Visit the ' +\n",
              "          '<a target=\"_blank\" href=https://colab.research.google.com/notebooks/data_table.ipynb>data table notebook</a>'\n",
              "          + ' to learn more about interactive tables.';\n",
              "        element.innerHTML = '';\n",
              "        dataTable['output_type'] = 'display_data';\n",
              "        await google.colab.output.renderOutput(dataTable, element);\n",
              "        const docLink = document.createElement('div');\n",
              "        docLink.innerHTML = docLinkHtml;\n",
              "        element.appendChild(docLink);\n",
              "      }\n",
              "    </script>\n",
              "  </div>\n",
              "\n",
              "\n",
              "    <div id=\"df-6c7c308b-f289-405d-9697-de2ff92d539c\">\n",
              "      <button class=\"colab-df-quickchart\" onclick=\"quickchart('df-6c7c308b-f289-405d-9697-de2ff92d539c')\"\n",
              "                title=\"Suggest charts\"\n",
              "                style=\"display:none;\">\n",
              "\n",
              "<svg xmlns=\"http://www.w3.org/2000/svg\" height=\"24px\"viewBox=\"0 0 24 24\"\n",
              "     width=\"24px\">\n",
              "    <g>\n",
              "        <path d=\"M19 3H5c-1.1 0-2 .9-2 2v14c0 1.1.9 2 2 2h14c1.1 0 2-.9 2-2V5c0-1.1-.9-2-2-2zM9 17H7v-7h2v7zm4 0h-2V7h2v10zm4 0h-2v-4h2v4z\"/>\n",
              "    </g>\n",
              "</svg>\n",
              "      </button>\n",
              "\n",
              "<style>\n",
              "  .colab-df-quickchart {\n",
              "      --bg-color: #E8F0FE;\n",
              "      --fill-color: #1967D2;\n",
              "      --hover-bg-color: #E2EBFA;\n",
              "      --hover-fill-color: #174EA6;\n",
              "      --disabled-fill-color: #AAA;\n",
              "      --disabled-bg-color: #DDD;\n",
              "  }\n",
              "\n",
              "  [theme=dark] .colab-df-quickchart {\n",
              "      --bg-color: #3B4455;\n",
              "      --fill-color: #D2E3FC;\n",
              "      --hover-bg-color: #434B5C;\n",
              "      --hover-fill-color: #FFFFFF;\n",
              "      --disabled-bg-color: #3B4455;\n",
              "      --disabled-fill-color: #666;\n",
              "  }\n",
              "\n",
              "  .colab-df-quickchart {\n",
              "    background-color: var(--bg-color);\n",
              "    border: none;\n",
              "    border-radius: 50%;\n",
              "    cursor: pointer;\n",
              "    display: none;\n",
              "    fill: var(--fill-color);\n",
              "    height: 32px;\n",
              "    padding: 0;\n",
              "    width: 32px;\n",
              "  }\n",
              "\n",
              "  .colab-df-quickchart:hover {\n",
              "    background-color: var(--hover-bg-color);\n",
              "    box-shadow: 0 1px 2px rgba(60, 64, 67, 0.3), 0 1px 3px 1px rgba(60, 64, 67, 0.15);\n",
              "    fill: var(--button-hover-fill-color);\n",
              "  }\n",
              "\n",
              "  .colab-df-quickchart-complete:disabled,\n",
              "  .colab-df-quickchart-complete:disabled:hover {\n",
              "    background-color: var(--disabled-bg-color);\n",
              "    fill: var(--disabled-fill-color);\n",
              "    box-shadow: none;\n",
              "  }\n",
              "\n",
              "  .colab-df-spinner {\n",
              "    border: 2px solid var(--fill-color);\n",
              "    border-color: transparent;\n",
              "    border-bottom-color: var(--fill-color);\n",
              "    animation:\n",
              "      spin 1s steps(1) infinite;\n",
              "  }\n",
              "\n",
              "  @keyframes spin {\n",
              "    0% {\n",
              "      border-color: transparent;\n",
              "      border-bottom-color: var(--fill-color);\n",
              "      border-left-color: var(--fill-color);\n",
              "    }\n",
              "    20% {\n",
              "      border-color: transparent;\n",
              "      border-left-color: var(--fill-color);\n",
              "      border-top-color: var(--fill-color);\n",
              "    }\n",
              "    30% {\n",
              "      border-color: transparent;\n",
              "      border-left-color: var(--fill-color);\n",
              "      border-top-color: var(--fill-color);\n",
              "      border-right-color: var(--fill-color);\n",
              "    }\n",
              "    40% {\n",
              "      border-color: transparent;\n",
              "      border-right-color: var(--fill-color);\n",
              "      border-top-color: var(--fill-color);\n",
              "    }\n",
              "    60% {\n",
              "      border-color: transparent;\n",
              "      border-right-color: var(--fill-color);\n",
              "    }\n",
              "    80% {\n",
              "      border-color: transparent;\n",
              "      border-right-color: var(--fill-color);\n",
              "      border-bottom-color: var(--fill-color);\n",
              "    }\n",
              "    90% {\n",
              "      border-color: transparent;\n",
              "      border-bottom-color: var(--fill-color);\n",
              "    }\n",
              "  }\n",
              "</style>\n",
              "\n",
              "      <script>\n",
              "        async function quickchart(key) {\n",
              "          const quickchartButtonEl =\n",
              "            document.querySelector('#' + key + ' button');\n",
              "          quickchartButtonEl.disabled = true;  // To prevent multiple clicks.\n",
              "          quickchartButtonEl.classList.add('colab-df-spinner');\n",
              "          try {\n",
              "            const charts = await google.colab.kernel.invokeFunction(\n",
              "                'suggestCharts', [key], {});\n",
              "          } catch (error) {\n",
              "            console.error('Error during call to suggestCharts:', error);\n",
              "          }\n",
              "          quickchartButtonEl.classList.remove('colab-df-spinner');\n",
              "          quickchartButtonEl.classList.add('colab-df-quickchart-complete');\n",
              "        }\n",
              "        (() => {\n",
              "          let quickchartButtonEl =\n",
              "            document.querySelector('#df-6c7c308b-f289-405d-9697-de2ff92d539c button');\n",
              "          quickchartButtonEl.style.display =\n",
              "            google.colab.kernel.accessAllowed ? 'block' : 'none';\n",
              "        })();\n",
              "      </script>\n",
              "    </div>\n",
              "\n",
              "    </div>\n",
              "  </div>\n"
            ],
            "application/vnd.google.colaboratory.intrinsic+json": {
              "type": "dataframe",
              "variable_name": "df_small",
              "summary": "{\n  \"name\": \"df_small\",\n  \"rows\": 5572,\n  \"fields\": [\n    {\n      \"column\": \"label\",\n      \"properties\": {\n        \"dtype\": \"category\",\n        \"num_unique_values\": 2,\n        \"samples\": [\n          \"spam\",\n          \"ham\"\n        ],\n        \"semantic_type\": \"\",\n        \"description\": \"\"\n      }\n    },\n    {\n      \"column\": \"message\",\n      \"properties\": {\n        \"dtype\": \"string\",\n        \"num_unique_values\": 5169,\n        \"samples\": [\n          \"K, makes sense, btw carlos is being difficult so you guys are gonna smoke while I go pick up the second batch and get gas\",\n          \"URGENT! Your mobile No *********** WON a \\u00a32,000 Bonus Caller Prize on 02/06/03! This is the 2nd attempt to reach YOU! Call 09066362220 ASAP! BOX97N7QP, 150ppm\"\n        ],\n        \"semantic_type\": \"\",\n        \"description\": \"\"\n      }\n    }\n  ]\n}"
            }
          },
          "metadata": {},
          "execution_count": 2
        }
      ]
    },
    {
      "cell_type": "markdown",
      "source": [
        "## 3.2 Dataset 2 – Large Combined SMS Dataset (from Kaggle)\n",
        "\n",
        "This dataset combines multiple SMS spam datasets and contains **about 10,000 messages**.  \n",
        "It was created by *Tinu10kumar* and is available on Kaggle:  \n",
        "[Kaggle Dataset Link](https://www.kaggle.com/datasets/tinu10kumar/sms-spam-dataset)  \n",
        "**Role in project:** Used for evaluation (in Path 1) and training (in Path 2).\n"
      ],
      "metadata": {
        "id": "xmc8WwyRDuO8"
      }
    },
    {
      "cell_type": "code",
      "source": [
        "# Load Dataset 2 (Large Combined Dataset from Kaggle)\n",
        "df_large = pd.read_csv(\"combined_dataset.csv\")\n",
        "\n",
        "df_large.head()"
      ],
      "metadata": {
        "colab": {
          "base_uri": "https://localhost:8080/",
          "height": 0
        },
        "id": "PhhK8YGEEgO8",
        "outputId": "7742c7d3-cc97-48ec-bf95-e04a7a720efc"
      },
      "execution_count": 3,
      "outputs": [
        {
          "output_type": "execute_result",
          "data": {
            "text/plain": [
              "  target                                               text\n",
              "0   spam  Congratulations! You've been selected for a lu...\n",
              "1   spam  URGENT: Your account has been compromised. Cli...\n",
              "2   spam  You've won a free iPhone! Claim your prize by ...\n",
              "3   spam  Act now and receive a 50% discount on all purc...\n",
              "4   spam  Important notice: Your subscription will expir..."
            ],
            "text/html": [
              "\n",
              "  <div id=\"df-aae0af82-4fce-4992-89cb-52f6dd301eb7\" class=\"colab-df-container\">\n",
              "    <div>\n",
              "<style scoped>\n",
              "    .dataframe tbody tr th:only-of-type {\n",
              "        vertical-align: middle;\n",
              "    }\n",
              "\n",
              "    .dataframe tbody tr th {\n",
              "        vertical-align: top;\n",
              "    }\n",
              "\n",
              "    .dataframe thead th {\n",
              "        text-align: right;\n",
              "    }\n",
              "</style>\n",
              "<table border=\"1\" class=\"dataframe\">\n",
              "  <thead>\n",
              "    <tr style=\"text-align: right;\">\n",
              "      <th></th>\n",
              "      <th>target</th>\n",
              "      <th>text</th>\n",
              "    </tr>\n",
              "  </thead>\n",
              "  <tbody>\n",
              "    <tr>\n",
              "      <th>0</th>\n",
              "      <td>spam</td>\n",
              "      <td>Congratulations! You've been selected for a lu...</td>\n",
              "    </tr>\n",
              "    <tr>\n",
              "      <th>1</th>\n",
              "      <td>spam</td>\n",
              "      <td>URGENT: Your account has been compromised. Cli...</td>\n",
              "    </tr>\n",
              "    <tr>\n",
              "      <th>2</th>\n",
              "      <td>spam</td>\n",
              "      <td>You've won a free iPhone! Claim your prize by ...</td>\n",
              "    </tr>\n",
              "    <tr>\n",
              "      <th>3</th>\n",
              "      <td>spam</td>\n",
              "      <td>Act now and receive a 50% discount on all purc...</td>\n",
              "    </tr>\n",
              "    <tr>\n",
              "      <th>4</th>\n",
              "      <td>spam</td>\n",
              "      <td>Important notice: Your subscription will expir...</td>\n",
              "    </tr>\n",
              "  </tbody>\n",
              "</table>\n",
              "</div>\n",
              "    <div class=\"colab-df-buttons\">\n",
              "\n",
              "  <div class=\"colab-df-container\">\n",
              "    <button class=\"colab-df-convert\" onclick=\"convertToInteractive('df-aae0af82-4fce-4992-89cb-52f6dd301eb7')\"\n",
              "            title=\"Convert this dataframe to an interactive table.\"\n",
              "            style=\"display:none;\">\n",
              "\n",
              "  <svg xmlns=\"http://www.w3.org/2000/svg\" height=\"24px\" viewBox=\"0 -960 960 960\">\n",
              "    <path d=\"M120-120v-720h720v720H120Zm60-500h600v-160H180v160Zm220 220h160v-160H400v160Zm0 220h160v-160H400v160ZM180-400h160v-160H180v160Zm440 0h160v-160H620v160ZM180-180h160v-160H180v160Zm440 0h160v-160H620v160Z\"/>\n",
              "  </svg>\n",
              "    </button>\n",
              "\n",
              "  <style>\n",
              "    .colab-df-container {\n",
              "      display:flex;\n",
              "      gap: 12px;\n",
              "    }\n",
              "\n",
              "    .colab-df-convert {\n",
              "      background-color: #E8F0FE;\n",
              "      border: none;\n",
              "      border-radius: 50%;\n",
              "      cursor: pointer;\n",
              "      display: none;\n",
              "      fill: #1967D2;\n",
              "      height: 32px;\n",
              "      padding: 0 0 0 0;\n",
              "      width: 32px;\n",
              "    }\n",
              "\n",
              "    .colab-df-convert:hover {\n",
              "      background-color: #E2EBFA;\n",
              "      box-shadow: 0px 1px 2px rgba(60, 64, 67, 0.3), 0px 1px 3px 1px rgba(60, 64, 67, 0.15);\n",
              "      fill: #174EA6;\n",
              "    }\n",
              "\n",
              "    .colab-df-buttons div {\n",
              "      margin-bottom: 4px;\n",
              "    }\n",
              "\n",
              "    [theme=dark] .colab-df-convert {\n",
              "      background-color: #3B4455;\n",
              "      fill: #D2E3FC;\n",
              "    }\n",
              "\n",
              "    [theme=dark] .colab-df-convert:hover {\n",
              "      background-color: #434B5C;\n",
              "      box-shadow: 0px 1px 3px 1px rgba(0, 0, 0, 0.15);\n",
              "      filter: drop-shadow(0px 1px 2px rgba(0, 0, 0, 0.3));\n",
              "      fill: #FFFFFF;\n",
              "    }\n",
              "  </style>\n",
              "\n",
              "    <script>\n",
              "      const buttonEl =\n",
              "        document.querySelector('#df-aae0af82-4fce-4992-89cb-52f6dd301eb7 button.colab-df-convert');\n",
              "      buttonEl.style.display =\n",
              "        google.colab.kernel.accessAllowed ? 'block' : 'none';\n",
              "\n",
              "      async function convertToInteractive(key) {\n",
              "        const element = document.querySelector('#df-aae0af82-4fce-4992-89cb-52f6dd301eb7');\n",
              "        const dataTable =\n",
              "          await google.colab.kernel.invokeFunction('convertToInteractive',\n",
              "                                                    [key], {});\n",
              "        if (!dataTable) return;\n",
              "\n",
              "        const docLinkHtml = 'Like what you see? Visit the ' +\n",
              "          '<a target=\"_blank\" href=https://colab.research.google.com/notebooks/data_table.ipynb>data table notebook</a>'\n",
              "          + ' to learn more about interactive tables.';\n",
              "        element.innerHTML = '';\n",
              "        dataTable['output_type'] = 'display_data';\n",
              "        await google.colab.output.renderOutput(dataTable, element);\n",
              "        const docLink = document.createElement('div');\n",
              "        docLink.innerHTML = docLinkHtml;\n",
              "        element.appendChild(docLink);\n",
              "      }\n",
              "    </script>\n",
              "  </div>\n",
              "\n",
              "\n",
              "    <div id=\"df-66c0ae30-c853-486c-bfd5-9199d7188755\">\n",
              "      <button class=\"colab-df-quickchart\" onclick=\"quickchart('df-66c0ae30-c853-486c-bfd5-9199d7188755')\"\n",
              "                title=\"Suggest charts\"\n",
              "                style=\"display:none;\">\n",
              "\n",
              "<svg xmlns=\"http://www.w3.org/2000/svg\" height=\"24px\"viewBox=\"0 0 24 24\"\n",
              "     width=\"24px\">\n",
              "    <g>\n",
              "        <path d=\"M19 3H5c-1.1 0-2 .9-2 2v14c0 1.1.9 2 2 2h14c1.1 0 2-.9 2-2V5c0-1.1-.9-2-2-2zM9 17H7v-7h2v7zm4 0h-2V7h2v10zm4 0h-2v-4h2v4z\"/>\n",
              "    </g>\n",
              "</svg>\n",
              "      </button>\n",
              "\n",
              "<style>\n",
              "  .colab-df-quickchart {\n",
              "      --bg-color: #E8F0FE;\n",
              "      --fill-color: #1967D2;\n",
              "      --hover-bg-color: #E2EBFA;\n",
              "      --hover-fill-color: #174EA6;\n",
              "      --disabled-fill-color: #AAA;\n",
              "      --disabled-bg-color: #DDD;\n",
              "  }\n",
              "\n",
              "  [theme=dark] .colab-df-quickchart {\n",
              "      --bg-color: #3B4455;\n",
              "      --fill-color: #D2E3FC;\n",
              "      --hover-bg-color: #434B5C;\n",
              "      --hover-fill-color: #FFFFFF;\n",
              "      --disabled-bg-color: #3B4455;\n",
              "      --disabled-fill-color: #666;\n",
              "  }\n",
              "\n",
              "  .colab-df-quickchart {\n",
              "    background-color: var(--bg-color);\n",
              "    border: none;\n",
              "    border-radius: 50%;\n",
              "    cursor: pointer;\n",
              "    display: none;\n",
              "    fill: var(--fill-color);\n",
              "    height: 32px;\n",
              "    padding: 0;\n",
              "    width: 32px;\n",
              "  }\n",
              "\n",
              "  .colab-df-quickchart:hover {\n",
              "    background-color: var(--hover-bg-color);\n",
              "    box-shadow: 0 1px 2px rgba(60, 64, 67, 0.3), 0 1px 3px 1px rgba(60, 64, 67, 0.15);\n",
              "    fill: var(--button-hover-fill-color);\n",
              "  }\n",
              "\n",
              "  .colab-df-quickchart-complete:disabled,\n",
              "  .colab-df-quickchart-complete:disabled:hover {\n",
              "    background-color: var(--disabled-bg-color);\n",
              "    fill: var(--disabled-fill-color);\n",
              "    box-shadow: none;\n",
              "  }\n",
              "\n",
              "  .colab-df-spinner {\n",
              "    border: 2px solid var(--fill-color);\n",
              "    border-color: transparent;\n",
              "    border-bottom-color: var(--fill-color);\n",
              "    animation:\n",
              "      spin 1s steps(1) infinite;\n",
              "  }\n",
              "\n",
              "  @keyframes spin {\n",
              "    0% {\n",
              "      border-color: transparent;\n",
              "      border-bottom-color: var(--fill-color);\n",
              "      border-left-color: var(--fill-color);\n",
              "    }\n",
              "    20% {\n",
              "      border-color: transparent;\n",
              "      border-left-color: var(--fill-color);\n",
              "      border-top-color: var(--fill-color);\n",
              "    }\n",
              "    30% {\n",
              "      border-color: transparent;\n",
              "      border-left-color: var(--fill-color);\n",
              "      border-top-color: var(--fill-color);\n",
              "      border-right-color: var(--fill-color);\n",
              "    }\n",
              "    40% {\n",
              "      border-color: transparent;\n",
              "      border-right-color: var(--fill-color);\n",
              "      border-top-color: var(--fill-color);\n",
              "    }\n",
              "    60% {\n",
              "      border-color: transparent;\n",
              "      border-right-color: var(--fill-color);\n",
              "    }\n",
              "    80% {\n",
              "      border-color: transparent;\n",
              "      border-right-color: var(--fill-color);\n",
              "      border-bottom-color: var(--fill-color);\n",
              "    }\n",
              "    90% {\n",
              "      border-color: transparent;\n",
              "      border-bottom-color: var(--fill-color);\n",
              "    }\n",
              "  }\n",
              "</style>\n",
              "\n",
              "      <script>\n",
              "        async function quickchart(key) {\n",
              "          const quickchartButtonEl =\n",
              "            document.querySelector('#' + key + ' button');\n",
              "          quickchartButtonEl.disabled = true;  // To prevent multiple clicks.\n",
              "          quickchartButtonEl.classList.add('colab-df-spinner');\n",
              "          try {\n",
              "            const charts = await google.colab.kernel.invokeFunction(\n",
              "                'suggestCharts', [key], {});\n",
              "          } catch (error) {\n",
              "            console.error('Error during call to suggestCharts:', error);\n",
              "          }\n",
              "          quickchartButtonEl.classList.remove('colab-df-spinner');\n",
              "          quickchartButtonEl.classList.add('colab-df-quickchart-complete');\n",
              "        }\n",
              "        (() => {\n",
              "          let quickchartButtonEl =\n",
              "            document.querySelector('#df-66c0ae30-c853-486c-bfd5-9199d7188755 button');\n",
              "          quickchartButtonEl.style.display =\n",
              "            google.colab.kernel.accessAllowed ? 'block' : 'none';\n",
              "        })();\n",
              "      </script>\n",
              "    </div>\n",
              "\n",
              "    </div>\n",
              "  </div>\n"
            ],
            "application/vnd.google.colaboratory.intrinsic+json": {
              "type": "dataframe",
              "variable_name": "df_large",
              "summary": "{\n  \"name\": \"df_large\",\n  \"rows\": 10961,\n  \"fields\": [\n    {\n      \"column\": \"target\",\n      \"properties\": {\n        \"dtype\": \"category\",\n        \"num_unique_values\": 2,\n        \"samples\": [\n          \"ham\",\n          \"spam\"\n        ],\n        \"semantic_type\": \"\",\n        \"description\": \"\"\n      }\n    },\n    {\n      \"column\": \"text\",\n      \"properties\": {\n        \"dtype\": \"string\",\n        \"num_unique_values\": 10286,\n        \"samples\": [\n          \"SERIOUSLY. TELL HER THOSE EXACT WORDS RIGHT NOW.\",\n          \"Dhoni have luck to win some big title.so we will win:)\"\n        ],\n        \"semantic_type\": \"\",\n        \"description\": \"\"\n      }\n    }\n  ]\n}"
            }
          },
          "metadata": {},
          "execution_count": 3
        }
      ]
    },
    {
      "cell_type": "markdown",
      "source": [
        "## 3.3 Dataset 3 – External Evaluation Dataset (Mendeley Data)\n",
        "\n",
        "This dataset contains **SMS spam/ham messages** collected independently for research purposes.  \n",
        "It is publicly available from Mendeley Data:  \n",
        "[Mendeley Dataset Link](https://data.mendeley.com/datasets/f45bkkt8pr/1)  \n",
        "**Role in project:** Used as a generalization test set in both paths.\n"
      ],
      "metadata": {
        "id": "Kj1MWeruEmZn"
      }
    },
    {
      "cell_type": "code",
      "source": [
        "# Load Dataset 3 (External Evaluation Dataset)\n",
        "df_general = pd.read_csv(\"Dataset_5971.csv\")\n",
        "\n",
        "df_general.head()\n"
      ],
      "metadata": {
        "colab": {
          "base_uri": "https://localhost:8080/",
          "height": 0
        },
        "id": "Lohu0LNWEqNc",
        "outputId": "77c33e31-3923-4879-e120-4e207fabe225"
      },
      "execution_count": 4,
      "outputs": [
        {
          "output_type": "execute_result",
          "data": {
            "text/plain": [
              "      LABEL                                               TEXT URL EMAIL PHONE\n",
              "0       ham  Your opinion about me? 1. Over 2. Jada 3. Kusr...  No    No    No\n",
              "1       ham  What's up? Do you want me to come online? If y...  No    No    No\n",
              "2       ham                       So u workin overtime nigpun?  No    No    No\n",
              "3       ham  Also sir, i sent you an email about how to log...  No    No    No\n",
              "4  Smishing  Please Stay At Home. To encourage the notion o...  No    No    No"
            ],
            "text/html": [
              "\n",
              "  <div id=\"df-163fe5b8-d10f-4217-be8f-8a1bc93e2a4b\" class=\"colab-df-container\">\n",
              "    <div>\n",
              "<style scoped>\n",
              "    .dataframe tbody tr th:only-of-type {\n",
              "        vertical-align: middle;\n",
              "    }\n",
              "\n",
              "    .dataframe tbody tr th {\n",
              "        vertical-align: top;\n",
              "    }\n",
              "\n",
              "    .dataframe thead th {\n",
              "        text-align: right;\n",
              "    }\n",
              "</style>\n",
              "<table border=\"1\" class=\"dataframe\">\n",
              "  <thead>\n",
              "    <tr style=\"text-align: right;\">\n",
              "      <th></th>\n",
              "      <th>LABEL</th>\n",
              "      <th>TEXT</th>\n",
              "      <th>URL</th>\n",
              "      <th>EMAIL</th>\n",
              "      <th>PHONE</th>\n",
              "    </tr>\n",
              "  </thead>\n",
              "  <tbody>\n",
              "    <tr>\n",
              "      <th>0</th>\n",
              "      <td>ham</td>\n",
              "      <td>Your opinion about me? 1. Over 2. Jada 3. Kusr...</td>\n",
              "      <td>No</td>\n",
              "      <td>No</td>\n",
              "      <td>No</td>\n",
              "    </tr>\n",
              "    <tr>\n",
              "      <th>1</th>\n",
              "      <td>ham</td>\n",
              "      <td>What's up? Do you want me to come online? If y...</td>\n",
              "      <td>No</td>\n",
              "      <td>No</td>\n",
              "      <td>No</td>\n",
              "    </tr>\n",
              "    <tr>\n",
              "      <th>2</th>\n",
              "      <td>ham</td>\n",
              "      <td>So u workin overtime nigpun?</td>\n",
              "      <td>No</td>\n",
              "      <td>No</td>\n",
              "      <td>No</td>\n",
              "    </tr>\n",
              "    <tr>\n",
              "      <th>3</th>\n",
              "      <td>ham</td>\n",
              "      <td>Also sir, i sent you an email about how to log...</td>\n",
              "      <td>No</td>\n",
              "      <td>No</td>\n",
              "      <td>No</td>\n",
              "    </tr>\n",
              "    <tr>\n",
              "      <th>4</th>\n",
              "      <td>Smishing</td>\n",
              "      <td>Please Stay At Home. To encourage the notion o...</td>\n",
              "      <td>No</td>\n",
              "      <td>No</td>\n",
              "      <td>No</td>\n",
              "    </tr>\n",
              "  </tbody>\n",
              "</table>\n",
              "</div>\n",
              "    <div class=\"colab-df-buttons\">\n",
              "\n",
              "  <div class=\"colab-df-container\">\n",
              "    <button class=\"colab-df-convert\" onclick=\"convertToInteractive('df-163fe5b8-d10f-4217-be8f-8a1bc93e2a4b')\"\n",
              "            title=\"Convert this dataframe to an interactive table.\"\n",
              "            style=\"display:none;\">\n",
              "\n",
              "  <svg xmlns=\"http://www.w3.org/2000/svg\" height=\"24px\" viewBox=\"0 -960 960 960\">\n",
              "    <path d=\"M120-120v-720h720v720H120Zm60-500h600v-160H180v160Zm220 220h160v-160H400v160Zm0 220h160v-160H400v160ZM180-400h160v-160H180v160Zm440 0h160v-160H620v160ZM180-180h160v-160H180v160Zm440 0h160v-160H620v160Z\"/>\n",
              "  </svg>\n",
              "    </button>\n",
              "\n",
              "  <style>\n",
              "    .colab-df-container {\n",
              "      display:flex;\n",
              "      gap: 12px;\n",
              "    }\n",
              "\n",
              "    .colab-df-convert {\n",
              "      background-color: #E8F0FE;\n",
              "      border: none;\n",
              "      border-radius: 50%;\n",
              "      cursor: pointer;\n",
              "      display: none;\n",
              "      fill: #1967D2;\n",
              "      height: 32px;\n",
              "      padding: 0 0 0 0;\n",
              "      width: 32px;\n",
              "    }\n",
              "\n",
              "    .colab-df-convert:hover {\n",
              "      background-color: #E2EBFA;\n",
              "      box-shadow: 0px 1px 2px rgba(60, 64, 67, 0.3), 0px 1px 3px 1px rgba(60, 64, 67, 0.15);\n",
              "      fill: #174EA6;\n",
              "    }\n",
              "\n",
              "    .colab-df-buttons div {\n",
              "      margin-bottom: 4px;\n",
              "    }\n",
              "\n",
              "    [theme=dark] .colab-df-convert {\n",
              "      background-color: #3B4455;\n",
              "      fill: #D2E3FC;\n",
              "    }\n",
              "\n",
              "    [theme=dark] .colab-df-convert:hover {\n",
              "      background-color: #434B5C;\n",
              "      box-shadow: 0px 1px 3px 1px rgba(0, 0, 0, 0.15);\n",
              "      filter: drop-shadow(0px 1px 2px rgba(0, 0, 0, 0.3));\n",
              "      fill: #FFFFFF;\n",
              "    }\n",
              "  </style>\n",
              "\n",
              "    <script>\n",
              "      const buttonEl =\n",
              "        document.querySelector('#df-163fe5b8-d10f-4217-be8f-8a1bc93e2a4b button.colab-df-convert');\n",
              "      buttonEl.style.display =\n",
              "        google.colab.kernel.accessAllowed ? 'block' : 'none';\n",
              "\n",
              "      async function convertToInteractive(key) {\n",
              "        const element = document.querySelector('#df-163fe5b8-d10f-4217-be8f-8a1bc93e2a4b');\n",
              "        const dataTable =\n",
              "          await google.colab.kernel.invokeFunction('convertToInteractive',\n",
              "                                                    [key], {});\n",
              "        if (!dataTable) return;\n",
              "\n",
              "        const docLinkHtml = 'Like what you see? Visit the ' +\n",
              "          '<a target=\"_blank\" href=https://colab.research.google.com/notebooks/data_table.ipynb>data table notebook</a>'\n",
              "          + ' to learn more about interactive tables.';\n",
              "        element.innerHTML = '';\n",
              "        dataTable['output_type'] = 'display_data';\n",
              "        await google.colab.output.renderOutput(dataTable, element);\n",
              "        const docLink = document.createElement('div');\n",
              "        docLink.innerHTML = docLinkHtml;\n",
              "        element.appendChild(docLink);\n",
              "      }\n",
              "    </script>\n",
              "  </div>\n",
              "\n",
              "\n",
              "    <div id=\"df-21532105-2ca8-403b-bb91-d62ff7cb59a7\">\n",
              "      <button class=\"colab-df-quickchart\" onclick=\"quickchart('df-21532105-2ca8-403b-bb91-d62ff7cb59a7')\"\n",
              "                title=\"Suggest charts\"\n",
              "                style=\"display:none;\">\n",
              "\n",
              "<svg xmlns=\"http://www.w3.org/2000/svg\" height=\"24px\"viewBox=\"0 0 24 24\"\n",
              "     width=\"24px\">\n",
              "    <g>\n",
              "        <path d=\"M19 3H5c-1.1 0-2 .9-2 2v14c0 1.1.9 2 2 2h14c1.1 0 2-.9 2-2V5c0-1.1-.9-2-2-2zM9 17H7v-7h2v7zm4 0h-2V7h2v10zm4 0h-2v-4h2v4z\"/>\n",
              "    </g>\n",
              "</svg>\n",
              "      </button>\n",
              "\n",
              "<style>\n",
              "  .colab-df-quickchart {\n",
              "      --bg-color: #E8F0FE;\n",
              "      --fill-color: #1967D2;\n",
              "      --hover-bg-color: #E2EBFA;\n",
              "      --hover-fill-color: #174EA6;\n",
              "      --disabled-fill-color: #AAA;\n",
              "      --disabled-bg-color: #DDD;\n",
              "  }\n",
              "\n",
              "  [theme=dark] .colab-df-quickchart {\n",
              "      --bg-color: #3B4455;\n",
              "      --fill-color: #D2E3FC;\n",
              "      --hover-bg-color: #434B5C;\n",
              "      --hover-fill-color: #FFFFFF;\n",
              "      --disabled-bg-color: #3B4455;\n",
              "      --disabled-fill-color: #666;\n",
              "  }\n",
              "\n",
              "  .colab-df-quickchart {\n",
              "    background-color: var(--bg-color);\n",
              "    border: none;\n",
              "    border-radius: 50%;\n",
              "    cursor: pointer;\n",
              "    display: none;\n",
              "    fill: var(--fill-color);\n",
              "    height: 32px;\n",
              "    padding: 0;\n",
              "    width: 32px;\n",
              "  }\n",
              "\n",
              "  .colab-df-quickchart:hover {\n",
              "    background-color: var(--hover-bg-color);\n",
              "    box-shadow: 0 1px 2px rgba(60, 64, 67, 0.3), 0 1px 3px 1px rgba(60, 64, 67, 0.15);\n",
              "    fill: var(--button-hover-fill-color);\n",
              "  }\n",
              "\n",
              "  .colab-df-quickchart-complete:disabled,\n",
              "  .colab-df-quickchart-complete:disabled:hover {\n",
              "    background-color: var(--disabled-bg-color);\n",
              "    fill: var(--disabled-fill-color);\n",
              "    box-shadow: none;\n",
              "  }\n",
              "\n",
              "  .colab-df-spinner {\n",
              "    border: 2px solid var(--fill-color);\n",
              "    border-color: transparent;\n",
              "    border-bottom-color: var(--fill-color);\n",
              "    animation:\n",
              "      spin 1s steps(1) infinite;\n",
              "  }\n",
              "\n",
              "  @keyframes spin {\n",
              "    0% {\n",
              "      border-color: transparent;\n",
              "      border-bottom-color: var(--fill-color);\n",
              "      border-left-color: var(--fill-color);\n",
              "    }\n",
              "    20% {\n",
              "      border-color: transparent;\n",
              "      border-left-color: var(--fill-color);\n",
              "      border-top-color: var(--fill-color);\n",
              "    }\n",
              "    30% {\n",
              "      border-color: transparent;\n",
              "      border-left-color: var(--fill-color);\n",
              "      border-top-color: var(--fill-color);\n",
              "      border-right-color: var(--fill-color);\n",
              "    }\n",
              "    40% {\n",
              "      border-color: transparent;\n",
              "      border-right-color: var(--fill-color);\n",
              "      border-top-color: var(--fill-color);\n",
              "    }\n",
              "    60% {\n",
              "      border-color: transparent;\n",
              "      border-right-color: var(--fill-color);\n",
              "    }\n",
              "    80% {\n",
              "      border-color: transparent;\n",
              "      border-right-color: var(--fill-color);\n",
              "      border-bottom-color: var(--fill-color);\n",
              "    }\n",
              "    90% {\n",
              "      border-color: transparent;\n",
              "      border-bottom-color: var(--fill-color);\n",
              "    }\n",
              "  }\n",
              "</style>\n",
              "\n",
              "      <script>\n",
              "        async function quickchart(key) {\n",
              "          const quickchartButtonEl =\n",
              "            document.querySelector('#' + key + ' button');\n",
              "          quickchartButtonEl.disabled = true;  // To prevent multiple clicks.\n",
              "          quickchartButtonEl.classList.add('colab-df-spinner');\n",
              "          try {\n",
              "            const charts = await google.colab.kernel.invokeFunction(\n",
              "                'suggestCharts', [key], {});\n",
              "          } catch (error) {\n",
              "            console.error('Error during call to suggestCharts:', error);\n",
              "          }\n",
              "          quickchartButtonEl.classList.remove('colab-df-spinner');\n",
              "          quickchartButtonEl.classList.add('colab-df-quickchart-complete');\n",
              "        }\n",
              "        (() => {\n",
              "          let quickchartButtonEl =\n",
              "            document.querySelector('#df-21532105-2ca8-403b-bb91-d62ff7cb59a7 button');\n",
              "          quickchartButtonEl.style.display =\n",
              "            google.colab.kernel.accessAllowed ? 'block' : 'none';\n",
              "        })();\n",
              "      </script>\n",
              "    </div>\n",
              "\n",
              "    </div>\n",
              "  </div>\n"
            ],
            "application/vnd.google.colaboratory.intrinsic+json": {
              "type": "dataframe",
              "variable_name": "df_general",
              "summary": "{\n  \"name\": \"df_general\",\n  \"rows\": 5971,\n  \"fields\": [\n    {\n      \"column\": \"LABEL\",\n      \"properties\": {\n        \"dtype\": \"category\",\n        \"num_unique_values\": 5,\n        \"samples\": [\n          \"Smishing\",\n          \"smishing\",\n          \"spam\"\n        ],\n        \"semantic_type\": \"\",\n        \"description\": \"\"\n      }\n    },\n    {\n      \"column\": \"TEXT\",\n      \"properties\": {\n        \"dtype\": \"string\",\n        \"num_unique_values\": 5949,\n        \"samples\": [\n          \"Ur cash-balance is currently 500 pounds - to maximize ur cash-in now send CASH to 86688 only 150p/msg. CC: 08718720201\",\n          \"4mths half price Orange line rental & latest camera phones 4 FREE. Had your phone 11mths+? Call MobilesDirect free on 08000938768 to update now!\",\n          \"K da:)how many page you want?\"\n        ],\n        \"semantic_type\": \"\",\n        \"description\": \"\"\n      }\n    },\n    {\n      \"column\": \"URL\",\n      \"properties\": {\n        \"dtype\": \"category\",\n        \"num_unique_values\": 2,\n        \"samples\": [\n          \"yes\",\n          \"No\"\n        ],\n        \"semantic_type\": \"\",\n        \"description\": \"\"\n      }\n    },\n    {\n      \"column\": \"EMAIL\",\n      \"properties\": {\n        \"dtype\": \"category\",\n        \"num_unique_values\": 2,\n        \"samples\": [\n          \"yes\",\n          \"No\"\n        ],\n        \"semantic_type\": \"\",\n        \"description\": \"\"\n      }\n    },\n    {\n      \"column\": \"PHONE\",\n      \"properties\": {\n        \"dtype\": \"category\",\n        \"num_unique_values\": 2,\n        \"samples\": [\n          \"yes\",\n          \"No\"\n        ],\n        \"semantic_type\": \"\",\n        \"description\": \"\"\n      }\n    }\n  ]\n}"
            }
          },
          "metadata": {},
          "execution_count": 4
        }
      ]
    },
    {
      "cell_type": "markdown",
      "source": [
        "## 3.4 Dataset Overview and Basic Statistics\n",
        "\n",
        "We explore the number of messages and spam/ham distribution in each dataset before cleaning.\n"
      ],
      "metadata": {
        "id": "vmZQMStrSyN3"
      }
    },
    {
      "cell_type": "markdown",
      "source": [
        "### 3.4.1 Dataset 1 (Small)\n",
        "\n"
      ],
      "metadata": {
        "id": "UCybV3oTTCDO"
      }
    },
    {
      "cell_type": "code",
      "source": [
        "print(df_small.shape)\n",
        "print(df_small['label'].value_counts())"
      ],
      "metadata": {
        "colab": {
          "base_uri": "https://localhost:8080/"
        },
        "id": "YWasmKV1S10Z",
        "outputId": "ac3df497-4cf7-4e66-b390-21e5f619bd84"
      },
      "execution_count": 5,
      "outputs": [
        {
          "output_type": "stream",
          "name": "stdout",
          "text": [
            "(5572, 2)\n",
            "label\n",
            "ham     4825\n",
            "spam     747\n",
            "Name: count, dtype: int64\n"
          ]
        }
      ]
    },
    {
      "cell_type": "markdown",
      "source": [
        "### 3.4.2 Dataset 2 (Large)\n",
        "Note: The original label column in this dataset is called \"target\". We'll rename it in the cleaning phase.\n"
      ],
      "metadata": {
        "id": "ssZkPMH6TO7H"
      }
    },
    {
      "cell_type": "code",
      "source": [
        "print(df_large.shape)\n",
        "print(df_large['target'].value_counts())\n"
      ],
      "metadata": {
        "colab": {
          "base_uri": "https://localhost:8080/"
        },
        "id": "AwpDxNc-TLRq",
        "outputId": "3796324c-98b2-48cd-d4c4-c371680fa4c4"
      },
      "execution_count": 6,
      "outputs": [
        {
          "output_type": "stream",
          "name": "stdout",
          "text": [
            "(10961, 2)\n",
            "target\n",
            "ham     8555\n",
            "spam    2406\n",
            "Name: count, dtype: int64\n"
          ]
        }
      ]
    },
    {
      "cell_type": "markdown",
      "source": [
        "### 3.4.3 Dataset 3 (General)\n",
        "Note: This dataset uses \"LABEL\" for labels and \"TEXT\" for message content. These will be standardized later.\n"
      ],
      "metadata": {
        "id": "SqzqjUqyTWD5"
      }
    },
    {
      "cell_type": "code",
      "source": [
        "print(df_general.shape)\n",
        "print(df_general['LABEL'].value_counts())"
      ],
      "metadata": {
        "colab": {
          "base_uri": "https://localhost:8080/"
        },
        "id": "J8XwJ1p7TpRv",
        "outputId": "d3e9ed27-b132-4fab-8efd-aae866dbaf9c"
      },
      "execution_count": 7,
      "outputs": [
        {
          "output_type": "stream",
          "name": "stdout",
          "text": [
            "(5971, 5)\n",
            "LABEL\n",
            "ham         4844\n",
            "Smishing     616\n",
            "spam         466\n",
            "Spam          23\n",
            "smishing      22\n",
            "Name: count, dtype: int64\n"
          ]
        }
      ]
    },
    {
      "cell_type": "markdown",
      "source": [
        "# 4. Data Cleaning & Harmonization\n",
        "\n",
        "In this section, we clean and unify the structure of all three datasets to ensure compatibility across both training paths."
      ],
      "metadata": {
        "id": "V0zfNfTC_-Pe"
      }
    },
    {
      "cell_type": "markdown",
      "source": [
        "## 4.1 Standardize Column Names\n",
        "We ensure that all datasets have consistent structure: two columns named `label` and `message`,\n",
        "with all labels in lowercase and harmonized across datasets.\n"
      ],
      "metadata": {
        "id": "aHY94jRGYYRD"
      }
    },
    {
      "cell_type": "markdown",
      "source": [
        "### 4.1.1 Dataset 1 – Small\n",
        "Standard column names are already defined when loading the dataset, but we normalize label values for consistency.\n"
      ],
      "metadata": {
        "id": "1G6V-ID2Jx-9"
      }
    },
    {
      "cell_type": "code",
      "source": [
        "# Dataset 1 already has correct column names from initial load:\n",
        "# df_small.columns = ['label', 'message']\n",
        "\n",
        "# Normalize label values just in case\n",
        "df_small['label'] = df_small['label'].str.strip().str.lower()\n",
        "\n",
        "# No changes needed\n",
        "df_small.head()\n"
      ],
      "metadata": {
        "colab": {
          "base_uri": "https://localhost:8080/",
          "height": 0
        },
        "id": "-cqMXvjSJdS7",
        "outputId": "a7fba2e5-2807-4a06-cfea-36c719f845ad"
      },
      "execution_count": 8,
      "outputs": [
        {
          "output_type": "execute_result",
          "data": {
            "text/plain": [
              "  label                                            message\n",
              "0   ham  Go until jurong point, crazy.. Available only ...\n",
              "1   ham                      Ok lar... Joking wif u oni...\n",
              "2  spam  Free entry in 2 a wkly comp to win FA Cup fina...\n",
              "3   ham  U dun say so early hor... U c already then say...\n",
              "4   ham  Nah I don't think he goes to usf, he lives aro..."
            ],
            "text/html": [
              "\n",
              "  <div id=\"df-d056114e-563c-4b2f-9aca-48c9ac987bd9\" class=\"colab-df-container\">\n",
              "    <div>\n",
              "<style scoped>\n",
              "    .dataframe tbody tr th:only-of-type {\n",
              "        vertical-align: middle;\n",
              "    }\n",
              "\n",
              "    .dataframe tbody tr th {\n",
              "        vertical-align: top;\n",
              "    }\n",
              "\n",
              "    .dataframe thead th {\n",
              "        text-align: right;\n",
              "    }\n",
              "</style>\n",
              "<table border=\"1\" class=\"dataframe\">\n",
              "  <thead>\n",
              "    <tr style=\"text-align: right;\">\n",
              "      <th></th>\n",
              "      <th>label</th>\n",
              "      <th>message</th>\n",
              "    </tr>\n",
              "  </thead>\n",
              "  <tbody>\n",
              "    <tr>\n",
              "      <th>0</th>\n",
              "      <td>ham</td>\n",
              "      <td>Go until jurong point, crazy.. Available only ...</td>\n",
              "    </tr>\n",
              "    <tr>\n",
              "      <th>1</th>\n",
              "      <td>ham</td>\n",
              "      <td>Ok lar... Joking wif u oni...</td>\n",
              "    </tr>\n",
              "    <tr>\n",
              "      <th>2</th>\n",
              "      <td>spam</td>\n",
              "      <td>Free entry in 2 a wkly comp to win FA Cup fina...</td>\n",
              "    </tr>\n",
              "    <tr>\n",
              "      <th>3</th>\n",
              "      <td>ham</td>\n",
              "      <td>U dun say so early hor... U c already then say...</td>\n",
              "    </tr>\n",
              "    <tr>\n",
              "      <th>4</th>\n",
              "      <td>ham</td>\n",
              "      <td>Nah I don't think he goes to usf, he lives aro...</td>\n",
              "    </tr>\n",
              "  </tbody>\n",
              "</table>\n",
              "</div>\n",
              "    <div class=\"colab-df-buttons\">\n",
              "\n",
              "  <div class=\"colab-df-container\">\n",
              "    <button class=\"colab-df-convert\" onclick=\"convertToInteractive('df-d056114e-563c-4b2f-9aca-48c9ac987bd9')\"\n",
              "            title=\"Convert this dataframe to an interactive table.\"\n",
              "            style=\"display:none;\">\n",
              "\n",
              "  <svg xmlns=\"http://www.w3.org/2000/svg\" height=\"24px\" viewBox=\"0 -960 960 960\">\n",
              "    <path d=\"M120-120v-720h720v720H120Zm60-500h600v-160H180v160Zm220 220h160v-160H400v160Zm0 220h160v-160H400v160ZM180-400h160v-160H180v160Zm440 0h160v-160H620v160ZM180-180h160v-160H180v160Zm440 0h160v-160H620v160Z\"/>\n",
              "  </svg>\n",
              "    </button>\n",
              "\n",
              "  <style>\n",
              "    .colab-df-container {\n",
              "      display:flex;\n",
              "      gap: 12px;\n",
              "    }\n",
              "\n",
              "    .colab-df-convert {\n",
              "      background-color: #E8F0FE;\n",
              "      border: none;\n",
              "      border-radius: 50%;\n",
              "      cursor: pointer;\n",
              "      display: none;\n",
              "      fill: #1967D2;\n",
              "      height: 32px;\n",
              "      padding: 0 0 0 0;\n",
              "      width: 32px;\n",
              "    }\n",
              "\n",
              "    .colab-df-convert:hover {\n",
              "      background-color: #E2EBFA;\n",
              "      box-shadow: 0px 1px 2px rgba(60, 64, 67, 0.3), 0px 1px 3px 1px rgba(60, 64, 67, 0.15);\n",
              "      fill: #174EA6;\n",
              "    }\n",
              "\n",
              "    .colab-df-buttons div {\n",
              "      margin-bottom: 4px;\n",
              "    }\n",
              "\n",
              "    [theme=dark] .colab-df-convert {\n",
              "      background-color: #3B4455;\n",
              "      fill: #D2E3FC;\n",
              "    }\n",
              "\n",
              "    [theme=dark] .colab-df-convert:hover {\n",
              "      background-color: #434B5C;\n",
              "      box-shadow: 0px 1px 3px 1px rgba(0, 0, 0, 0.15);\n",
              "      filter: drop-shadow(0px 1px 2px rgba(0, 0, 0, 0.3));\n",
              "      fill: #FFFFFF;\n",
              "    }\n",
              "  </style>\n",
              "\n",
              "    <script>\n",
              "      const buttonEl =\n",
              "        document.querySelector('#df-d056114e-563c-4b2f-9aca-48c9ac987bd9 button.colab-df-convert');\n",
              "      buttonEl.style.display =\n",
              "        google.colab.kernel.accessAllowed ? 'block' : 'none';\n",
              "\n",
              "      async function convertToInteractive(key) {\n",
              "        const element = document.querySelector('#df-d056114e-563c-4b2f-9aca-48c9ac987bd9');\n",
              "        const dataTable =\n",
              "          await google.colab.kernel.invokeFunction('convertToInteractive',\n",
              "                                                    [key], {});\n",
              "        if (!dataTable) return;\n",
              "\n",
              "        const docLinkHtml = 'Like what you see? Visit the ' +\n",
              "          '<a target=\"_blank\" href=https://colab.research.google.com/notebooks/data_table.ipynb>data table notebook</a>'\n",
              "          + ' to learn more about interactive tables.';\n",
              "        element.innerHTML = '';\n",
              "        dataTable['output_type'] = 'display_data';\n",
              "        await google.colab.output.renderOutput(dataTable, element);\n",
              "        const docLink = document.createElement('div');\n",
              "        docLink.innerHTML = docLinkHtml;\n",
              "        element.appendChild(docLink);\n",
              "      }\n",
              "    </script>\n",
              "  </div>\n",
              "\n",
              "\n",
              "    <div id=\"df-bfdec245-fdb6-4d72-91c5-b2245548bfd6\">\n",
              "      <button class=\"colab-df-quickchart\" onclick=\"quickchart('df-bfdec245-fdb6-4d72-91c5-b2245548bfd6')\"\n",
              "                title=\"Suggest charts\"\n",
              "                style=\"display:none;\">\n",
              "\n",
              "<svg xmlns=\"http://www.w3.org/2000/svg\" height=\"24px\"viewBox=\"0 0 24 24\"\n",
              "     width=\"24px\">\n",
              "    <g>\n",
              "        <path d=\"M19 3H5c-1.1 0-2 .9-2 2v14c0 1.1.9 2 2 2h14c1.1 0 2-.9 2-2V5c0-1.1-.9-2-2-2zM9 17H7v-7h2v7zm4 0h-2V7h2v10zm4 0h-2v-4h2v4z\"/>\n",
              "    </g>\n",
              "</svg>\n",
              "      </button>\n",
              "\n",
              "<style>\n",
              "  .colab-df-quickchart {\n",
              "      --bg-color: #E8F0FE;\n",
              "      --fill-color: #1967D2;\n",
              "      --hover-bg-color: #E2EBFA;\n",
              "      --hover-fill-color: #174EA6;\n",
              "      --disabled-fill-color: #AAA;\n",
              "      --disabled-bg-color: #DDD;\n",
              "  }\n",
              "\n",
              "  [theme=dark] .colab-df-quickchart {\n",
              "      --bg-color: #3B4455;\n",
              "      --fill-color: #D2E3FC;\n",
              "      --hover-bg-color: #434B5C;\n",
              "      --hover-fill-color: #FFFFFF;\n",
              "      --disabled-bg-color: #3B4455;\n",
              "      --disabled-fill-color: #666;\n",
              "  }\n",
              "\n",
              "  .colab-df-quickchart {\n",
              "    background-color: var(--bg-color);\n",
              "    border: none;\n",
              "    border-radius: 50%;\n",
              "    cursor: pointer;\n",
              "    display: none;\n",
              "    fill: var(--fill-color);\n",
              "    height: 32px;\n",
              "    padding: 0;\n",
              "    width: 32px;\n",
              "  }\n",
              "\n",
              "  .colab-df-quickchart:hover {\n",
              "    background-color: var(--hover-bg-color);\n",
              "    box-shadow: 0 1px 2px rgba(60, 64, 67, 0.3), 0 1px 3px 1px rgba(60, 64, 67, 0.15);\n",
              "    fill: var(--button-hover-fill-color);\n",
              "  }\n",
              "\n",
              "  .colab-df-quickchart-complete:disabled,\n",
              "  .colab-df-quickchart-complete:disabled:hover {\n",
              "    background-color: var(--disabled-bg-color);\n",
              "    fill: var(--disabled-fill-color);\n",
              "    box-shadow: none;\n",
              "  }\n",
              "\n",
              "  .colab-df-spinner {\n",
              "    border: 2px solid var(--fill-color);\n",
              "    border-color: transparent;\n",
              "    border-bottom-color: var(--fill-color);\n",
              "    animation:\n",
              "      spin 1s steps(1) infinite;\n",
              "  }\n",
              "\n",
              "  @keyframes spin {\n",
              "    0% {\n",
              "      border-color: transparent;\n",
              "      border-bottom-color: var(--fill-color);\n",
              "      border-left-color: var(--fill-color);\n",
              "    }\n",
              "    20% {\n",
              "      border-color: transparent;\n",
              "      border-left-color: var(--fill-color);\n",
              "      border-top-color: var(--fill-color);\n",
              "    }\n",
              "    30% {\n",
              "      border-color: transparent;\n",
              "      border-left-color: var(--fill-color);\n",
              "      border-top-color: var(--fill-color);\n",
              "      border-right-color: var(--fill-color);\n",
              "    }\n",
              "    40% {\n",
              "      border-color: transparent;\n",
              "      border-right-color: var(--fill-color);\n",
              "      border-top-color: var(--fill-color);\n",
              "    }\n",
              "    60% {\n",
              "      border-color: transparent;\n",
              "      border-right-color: var(--fill-color);\n",
              "    }\n",
              "    80% {\n",
              "      border-color: transparent;\n",
              "      border-right-color: var(--fill-color);\n",
              "      border-bottom-color: var(--fill-color);\n",
              "    }\n",
              "    90% {\n",
              "      border-color: transparent;\n",
              "      border-bottom-color: var(--fill-color);\n",
              "    }\n",
              "  }\n",
              "</style>\n",
              "\n",
              "      <script>\n",
              "        async function quickchart(key) {\n",
              "          const quickchartButtonEl =\n",
              "            document.querySelector('#' + key + ' button');\n",
              "          quickchartButtonEl.disabled = true;  // To prevent multiple clicks.\n",
              "          quickchartButtonEl.classList.add('colab-df-spinner');\n",
              "          try {\n",
              "            const charts = await google.colab.kernel.invokeFunction(\n",
              "                'suggestCharts', [key], {});\n",
              "          } catch (error) {\n",
              "            console.error('Error during call to suggestCharts:', error);\n",
              "          }\n",
              "          quickchartButtonEl.classList.remove('colab-df-spinner');\n",
              "          quickchartButtonEl.classList.add('colab-df-quickchart-complete');\n",
              "        }\n",
              "        (() => {\n",
              "          let quickchartButtonEl =\n",
              "            document.querySelector('#df-bfdec245-fdb6-4d72-91c5-b2245548bfd6 button');\n",
              "          quickchartButtonEl.style.display =\n",
              "            google.colab.kernel.accessAllowed ? 'block' : 'none';\n",
              "        })();\n",
              "      </script>\n",
              "    </div>\n",
              "\n",
              "    </div>\n",
              "  </div>\n"
            ],
            "application/vnd.google.colaboratory.intrinsic+json": {
              "type": "dataframe",
              "variable_name": "df_small",
              "summary": "{\n  \"name\": \"df_small\",\n  \"rows\": 5572,\n  \"fields\": [\n    {\n      \"column\": \"label\",\n      \"properties\": {\n        \"dtype\": \"category\",\n        \"num_unique_values\": 2,\n        \"samples\": [\n          \"spam\",\n          \"ham\"\n        ],\n        \"semantic_type\": \"\",\n        \"description\": \"\"\n      }\n    },\n    {\n      \"column\": \"message\",\n      \"properties\": {\n        \"dtype\": \"string\",\n        \"num_unique_values\": 5169,\n        \"samples\": [\n          \"K, makes sense, btw carlos is being difficult so you guys are gonna smoke while I go pick up the second batch and get gas\",\n          \"URGENT! Your mobile No *********** WON a \\u00a32,000 Bonus Caller Prize on 02/06/03! This is the 2nd attempt to reach YOU! Call 09066362220 ASAP! BOX97N7QP, 150ppm\"\n        ],\n        \"semantic_type\": \"\",\n        \"description\": \"\"\n      }\n    }\n  ]\n}"
            }
          },
          "metadata": {},
          "execution_count": 8
        }
      ]
    },
    {
      "cell_type": "markdown",
      "source": [
        "### 4.1.2 Dataset 2 – Large (from Kaggle)\n",
        "We rename the original columns `target` → `label` and `text` → `message`.\n",
        "We also lowercase the labels to ensure consistency.\n"
      ],
      "metadata": {
        "id": "c5vtr6wjJ1pz"
      }
    },
    {
      "cell_type": "code",
      "source": [
        "# Rename columns to match standard names\n",
        "df_large = df_large.rename(columns={'target': 'label', 'text': 'message'})\n",
        "\n",
        "# Keep only relevant columns\n",
        "df_large = df_large[['label', 'message']]\n",
        "\n",
        "# Normalize label values\n",
        "df_large['label'] = df_large['label'].str.strip().str.lower()\n"
      ],
      "metadata": {
        "id": "RLFDOM1QFc98"
      },
      "execution_count": 9,
      "outputs": []
    },
    {
      "cell_type": "markdown",
      "source": [
        "### 4.1.3 Dataset 3 – Generalization Test Set\n",
        "We standardize the column names from `LABEL` and `TEXT` to `label` and `message`,\n",
        "and unify label values such as `smishing` → `spam`.\n"
      ],
      "metadata": {
        "id": "ZqtHQUPLJ7Ar"
      }
    },
    {
      "cell_type": "code",
      "source": [
        "# Rename and keep necessary columns\n",
        "df_general = df_general[['LABEL', 'TEXT']]\n",
        "df_general = df_general.rename(columns={'LABEL': 'label', 'TEXT': 'message'})\n",
        "df_general['label'] = df_general['label'].str.strip().str.lower()\n",
        "# Backup version with 'smishing' kept separately (optional)\n",
        "df_general_with_smishing = df_general.copy()\n",
        "\n",
        "# Convert all label types to unified 'spam'/'ham'\n",
        "df_general['label'] = df_general['label'].replace({'smishing': 'spam'})\n"
      ],
      "metadata": {
        "id": "mum69QptGWVo"
      },
      "execution_count": 10,
      "outputs": []
    },
    {
      "cell_type": "markdown",
      "source": [
        "### 4.1.4 Check Types and Nulls\n",
        "We verify that all datasets now have the correct types (`label`: string, `message`: string), and no missing values.\n"
      ],
      "metadata": {
        "id": "rh5WCdw6XEeC"
      }
    },
    {
      "cell_type": "code",
      "source": [
        "for name, df in zip(['Dataset 1', 'Dataset 2', 'Dataset 3'], [df_small, df_large, df_general]):\n",
        "    print(f\"--- {name} ---\")\n",
        "    print(df.dtypes)\n",
        "    print(\"Null values:\\n\", df.isnull().sum())\n",
        "    print(\"-\" * 40)\n"
      ],
      "metadata": {
        "colab": {
          "base_uri": "https://localhost:8080/"
        },
        "id": "2aFnhhL9XKu2",
        "outputId": "e707b3b9-944d-4882-896f-d8e759e4c25a"
      },
      "execution_count": 11,
      "outputs": [
        {
          "output_type": "stream",
          "name": "stdout",
          "text": [
            "--- Dataset 1 ---\n",
            "label      object\n",
            "message    object\n",
            "dtype: object\n",
            "Null values:\n",
            " label      0\n",
            "message    0\n",
            "dtype: int64\n",
            "----------------------------------------\n",
            "--- Dataset 2 ---\n",
            "label      object\n",
            "message    object\n",
            "dtype: object\n",
            "Null values:\n",
            " label      0\n",
            "message    0\n",
            "dtype: int64\n",
            "----------------------------------------\n",
            "--- Dataset 3 ---\n",
            "label      object\n",
            "message    object\n",
            "dtype: object\n",
            "Null values:\n",
            " label      0\n",
            "message    0\n",
            "dtype: int64\n",
            "----------------------------------------\n"
          ]
        }
      ]
    },
    {
      "cell_type": "markdown",
      "source": [
        "## 4.2 Remove Internal Duplicates\n",
        "We identify and remove duplicate rows *within* each dataset individually before merging or cross-evaluation.\n"
      ],
      "metadata": {
        "id": "dC6-nXQMKeNm"
      }
    },
    {
      "cell_type": "code",
      "source": [
        "def check_and_remove_duplicates(df):\n",
        "    \"\"\"\n",
        "    Checks for duplicate rows in the DataFrame.\n",
        "    If found, prints counts before/after and removes them.\n",
        "    Returns the cleaned DataFrame.\n",
        "    \"\"\"\n",
        "    duplicate_count = df.duplicated().sum()\n",
        "\n",
        "    if duplicate_count > 0:\n",
        "        print(f\"Number of duplicate rows: {duplicate_count}\")\n",
        "        print(\"\\nMessage counts BEFORE removing duplicates:\")\n",
        "        print(df['label'].value_counts())\n",
        "        print(\"Total rows BEFORE:\", len(df))\n",
        "\n",
        "        df = df.drop_duplicates()\n",
        "\n",
        "        print(\"\\nDuplicates removed.\\n\")\n",
        "        print(\"Message counts AFTER removing duplicates:\")\n",
        "        print(df['label'].value_counts())\n",
        "        print(\"Total rows AFTER:\", len(df))\n",
        "\n",
        "    else:\n",
        "        print(\"No duplicates found.\")\n",
        "        print(df['label'].value_counts())\n",
        "        print(\"Total rows:\", len(df))\n",
        "\n",
        "    return df\n"
      ],
      "metadata": {
        "id": "W1p02rbuT_Jw"
      },
      "execution_count": 12,
      "outputs": []
    },
    {
      "cell_type": "markdown",
      "source": [
        "### 4.2.1 Apply to Dataset 1"
      ],
      "metadata": {
        "id": "lljqFY4QKiE1"
      }
    },
    {
      "cell_type": "code",
      "execution_count": 13,
      "metadata": {
        "colab": {
          "base_uri": "https://localhost:8080/"
        },
        "id": "1iagDgFD7p7L",
        "outputId": "6ab5f9f3-b1ef-433e-b0f9-b671abd60c1f"
      },
      "outputs": [
        {
          "output_type": "stream",
          "name": "stdout",
          "text": [
            ">>> Dataset 1 (Small)\n",
            "Number of duplicate rows: 403\n",
            "\n",
            "Message counts BEFORE removing duplicates:\n",
            "label\n",
            "ham     4825\n",
            "spam     747\n",
            "Name: count, dtype: int64\n",
            "Total rows BEFORE: 5572\n",
            "\n",
            "Duplicates removed.\n",
            "\n",
            "Message counts AFTER removing duplicates:\n",
            "label\n",
            "ham     4516\n",
            "spam     653\n",
            "Name: count, dtype: int64\n",
            "Total rows AFTER: 5169\n"
          ]
        }
      ],
      "source": [
        "print(\">>> Dataset 1 (Small)\")\n",
        "df_small = check_and_remove_duplicates(df_small)"
      ]
    },
    {
      "cell_type": "markdown",
      "source": [
        "### 4.2.2 Apply to Dataset 2"
      ],
      "metadata": {
        "id": "Sf_jsouHU__p"
      }
    },
    {
      "cell_type": "code",
      "source": [
        "print(\"\\n>>> Dataset 2 (Large)\")\n",
        "df_large = check_and_remove_duplicates(df_large)"
      ],
      "metadata": {
        "colab": {
          "base_uri": "https://localhost:8080/"
        },
        "id": "JnA2oNoUVLEJ",
        "outputId": "cea4fdeb-8b18-4a3d-cd5e-44d4d1cf71b5"
      },
      "execution_count": 14,
      "outputs": [
        {
          "output_type": "stream",
          "name": "stdout",
          "text": [
            "\n",
            ">>> Dataset 2 (Large)\n",
            "Number of duplicate rows: 674\n",
            "\n",
            "Message counts BEFORE removing duplicates:\n",
            "label\n",
            "ham     8555\n",
            "spam    2406\n",
            "Name: count, dtype: int64\n",
            "Total rows BEFORE: 10961\n",
            "\n",
            "Duplicates removed.\n",
            "\n",
            "Message counts AFTER removing duplicates:\n",
            "label\n",
            "ham     8014\n",
            "spam    2273\n",
            "Name: count, dtype: int64\n",
            "Total rows AFTER: 10287\n"
          ]
        }
      ]
    },
    {
      "cell_type": "markdown",
      "source": [
        "### 4.2.3 Apply to Dataset 3"
      ],
      "metadata": {
        "id": "oiDeUtudVC1u"
      }
    },
    {
      "cell_type": "code",
      "source": [
        "print(\"\\n>>> Dataset 3 (General Test)\")\n",
        "df_general = check_and_remove_duplicates(df_general)\n"
      ],
      "metadata": {
        "colab": {
          "base_uri": "https://localhost:8080/"
        },
        "id": "AlcxofLwVPqm",
        "outputId": "df8770e0-2293-41c6-f458-7a2df083c9c4"
      },
      "execution_count": 15,
      "outputs": [
        {
          "output_type": "stream",
          "name": "stdout",
          "text": [
            "\n",
            ">>> Dataset 3 (General Test)\n",
            "Number of duplicate rows: 22\n",
            "\n",
            "Message counts BEFORE removing duplicates:\n",
            "label\n",
            "ham     4844\n",
            "spam    1127\n",
            "Name: count, dtype: int64\n",
            "Total rows BEFORE: 5971\n",
            "\n",
            "Duplicates removed.\n",
            "\n",
            "Message counts AFTER removing duplicates:\n",
            "label\n",
            "ham     4834\n",
            "spam    1115\n",
            "Name: count, dtype: int64\n",
            "Total rows AFTER: 5949\n"
          ]
        }
      ]
    },
    {
      "cell_type": "markdown",
      "source": [
        "## 4.3 Remove Overlapping Rows Between Datasets\n",
        "To avoid data leakage and ensure fair evaluation, we remove overlapping rows between datasets\n",
        "based on identical messages in the `message` column.\n"
      ],
      "metadata": {
        "id": "mxid5ZURVZh7"
      }
    },
    {
      "cell_type": "markdown",
      "source": [
        "### 4.3.1 Remove rows from Dataset 2 that also exist in Dataset 1\n",
        "We compare `message` columns and drop any duplicate messages from Dataset 2.\n",
        "We will also check how the number of spam/ham messages has changed after removing duplicates.\n"
      ],
      "metadata": {
        "id": "ATxkunu5Y4pP"
      }
    },
    {
      "cell_type": "code",
      "source": [
        "# Before\n",
        "counts_before_large = df_large['label'].value_counts()\n",
        "print(\"Before removing overlaps with Dataset 1:\")\n",
        "print(f\"Spam messages in Dataset 2: {counts_before_large.get('spam', 0)}\")\n",
        "print(f\"Ham messages in Dataset 2: {counts_before_large.get('ham', 0)}\")\n",
        "\n",
        "# Remove overlapping rows from df_large\n",
        "df_large_clean = df_large[~df_large['message'].isin(df_small['message'])].reset_index(drop=True)\n",
        "\n",
        "# After removing\n",
        "counts_after_large = df_large_clean['label'].value_counts()\n",
        "print(\"\\nAfter removing overlaps with Dataset 1:\")\n",
        "print(f\"Spam messages in Dataset 2: {counts_after_large.get('spam', 0)}\")\n",
        "print(f\"Ham messages in Dataset 2: {counts_after_large.get('ham', 0)}\")\n",
        "\n",
        "print(f\"Total rows before removal: {len(df_large)}\")\n",
        "print(f\"Total rows after removal: {len(df_large_clean)}\")\n"
      ],
      "metadata": {
        "colab": {
          "base_uri": "https://localhost:8080/"
        },
        "id": "hg1JBIsxY8St",
        "outputId": "8535492d-8255-4ae9-a1b1-e01896090603"
      },
      "execution_count": 16,
      "outputs": [
        {
          "output_type": "stream",
          "name": "stdout",
          "text": [
            "Before removing overlaps with Dataset 1:\n",
            "Spam messages in Dataset 2: 2273\n",
            "Ham messages in Dataset 2: 8014\n",
            "\n",
            "After removing overlaps with Dataset 1:\n",
            "Spam messages in Dataset 2: 1848\n",
            "Ham messages in Dataset 2: 3826\n",
            "Total rows before removal: 10287\n",
            "Total rows after removal: 5674\n"
          ]
        }
      ]
    },
    {
      "cell_type": "markdown",
      "source": [
        "### 4.3.2 Remove rows from Dataset 3 that also exist in Dataset 1 or Dataset 2\n",
        "After removing duplicates from Dataset 3, we'll check how the number of spam and ham messages have changed.\n"
      ],
      "metadata": {
        "id": "GVxywNKUaDHw"
      }
    },
    {
      "cell_type": "code",
      "source": [
        "# Combine messages from Dataset 1 and cleaned Dataset 2\n",
        "seen_messages = set(df_small['message']) | set(df_large_clean['message'])\n",
        "\n",
        "# Remove overlapping messages from Dataset 3\n",
        "df_general_clean = df_general[~df_general['message'].isin(seen_messages)].reset_index(drop=True)\n",
        "\n",
        "print(\"After removing overlaps with Dataset 1 and 2:\")\n",
        "print(f\"Original rows in Dataset 3: {len(df_general)}\")\n",
        "print(f\"Remaining rows in Dataset 3: {len(df_general_clean)}\")\n"
      ],
      "metadata": {
        "colab": {
          "base_uri": "https://localhost:8080/"
        },
        "id": "h_RVAiNHaKDq",
        "outputId": "a829acc4-ec9c-4e76-d8e6-7335261316ea"
      },
      "execution_count": 17,
      "outputs": [
        {
          "output_type": "stream",
          "name": "stdout",
          "text": [
            "After removing overlaps with Dataset 1 and 2:\n",
            "Original rows in Dataset 3: 5949\n",
            "Remaining rows in Dataset 3: 1148\n"
          ]
        }
      ]
    },
    {
      "cell_type": "markdown",
      "source": [
        "# 5. Text Preprocessing\n",
        "\n",
        "We clean and normalize the message texts to prepare them for vectorization.  \n",
        "This includes:\n",
        "- Lowercasing the text\n",
        "- Replacing URLs and numbers with tokens (`URL_TOKEN`, `NUM_TOKEN`)\n",
        "- Removing punctuation and extra spaces\n",
        "- Lemmatization using NLTK\n",
        "- Using a custom stopword list to **retain spam-indicative words** like `\"won\"`\n",
        "\n",
        "Finally, we also convert the text labels (`ham` and `spam`) into **numerical labels** (`0` and `1`) required by machine learning models.\n"
      ],
      "metadata": {
        "id": "blgQn5xMbagh"
      }
    },
    {
      "cell_type": "markdown",
      "source": [
        " ## 5.1 Setup"
      ],
      "metadata": {
        "id": "c81yjFH0be04"
      }
    },
    {
      "cell_type": "code",
      "source": [
        "# Define standard stopwords and lemmatizer\n",
        "stop_words = set(stopwords.words('english'))\n",
        "lemmatizer = WordNetLemmatizer()\n",
        "\n",
        "# Define spam-indicative words to **keep**\n",
        "important_words = {\"won\"}\n",
        "custom_stop_words = stop_words - important_words  # Exclude important words from removal\n"
      ],
      "metadata": {
        "id": "sp4VNVYMbbYR"
      },
      "execution_count": 18,
      "outputs": []
    },
    {
      "cell_type": "markdown",
      "source": [
        "## 5.2 Define the Preprocessing Function"
      ],
      "metadata": {
        "id": "kXicKwBoblK4"
      }
    },
    {
      "cell_type": "code",
      "source": [
        "def preprocess_text(text):\n",
        "    \"\"\"\n",
        "    Preprocesses a single message:\n",
        "    - Lowercases text\n",
        "    - Replaces URLs with a token\n",
        "    - Replaces numbers with a token\n",
        "    - Removes punctuation\n",
        "    - Lemmatizes each word\n",
        "    - Removes stopwords (except custom important words)\n",
        "\n",
        "    Returns cleaned text as a single string.\n",
        "    \"\"\"\n",
        "    text = text.lower()\n",
        "    text = re.sub(r\"http\\S+|www\\S+\", \"URL_TOKEN\", text)\n",
        "    text = re.sub(r\"\\d+\", \"NUM_TOKEN\", text)\n",
        "    text = re.sub(r\"[%s]\" % re.escape(string.punctuation), \"\", text)\n",
        "    text = re.sub(r\"\\s+\", \" \", text).strip()\n",
        "\n",
        "    words = text.split()\n",
        "    words = [lemmatizer.lemmatize(word) for word in words if word not in custom_stop_words]\n",
        "    return \" \".join(words)\n"
      ],
      "metadata": {
        "id": "m0bRf4YKbqjn"
      },
      "execution_count": 19,
      "outputs": []
    },
    {
      "cell_type": "markdown",
      "source": [
        "## 5.3 Apply Preprocessing to All Datasets"
      ],
      "metadata": {
        "id": "mCPQ2gSbbynB"
      }
    },
    {
      "cell_type": "code",
      "source": [
        "# Apply preprocessing to all datasets\n",
        "df_small['clean_message'] = df_small['message'].apply(preprocess_text)\n",
        "df_large_clean['clean_message'] = df_large_clean['message'].apply(preprocess_text)\n",
        "df_general_clean['clean_message'] = df_general_clean['message'].apply(preprocess_text)\n"
      ],
      "metadata": {
        "id": "qbwn1oXTb1lH"
      },
      "execution_count": 20,
      "outputs": []
    },
    {
      "cell_type": "markdown",
      "source": [
        "##5.4 Sample Output"
      ],
      "metadata": {
        "id": "UeRzqwy1cE9z"
      }
    },
    {
      "cell_type": "code",
      "source": [
        "# Show some examples\n",
        "df_small[['message', 'clean_message']].head(5)"
      ],
      "metadata": {
        "colab": {
          "base_uri": "https://localhost:8080/",
          "height": 0
        },
        "id": "6rFuy4wPcImk",
        "outputId": "912640b7-2bf4-4777-aa8d-0401ba46cd3b"
      },
      "execution_count": 21,
      "outputs": [
        {
          "output_type": "execute_result",
          "data": {
            "text/plain": [
              "                                             message  \\\n",
              "0  Go until jurong point, crazy.. Available only ...   \n",
              "1                      Ok lar... Joking wif u oni...   \n",
              "2  Free entry in 2 a wkly comp to win FA Cup fina...   \n",
              "3  U dun say so early hor... U c already then say...   \n",
              "4  Nah I don't think he goes to usf, he lives aro...   \n",
              "\n",
              "                                       clean_message  \n",
              "0  go jurong point crazy available bugis n great ...  \n",
              "1                            ok lar joking wif u oni  \n",
              "2  free entry NUMTOKEN wkly comp win fa cup final...  \n",
              "3                u dun say early hor u c already say  \n",
              "4           nah dont think go usf life around though  "
            ],
            "text/html": [
              "\n",
              "  <div id=\"df-747f9403-6c8d-4522-a437-c0de440ce637\" class=\"colab-df-container\">\n",
              "    <div>\n",
              "<style scoped>\n",
              "    .dataframe tbody tr th:only-of-type {\n",
              "        vertical-align: middle;\n",
              "    }\n",
              "\n",
              "    .dataframe tbody tr th {\n",
              "        vertical-align: top;\n",
              "    }\n",
              "\n",
              "    .dataframe thead th {\n",
              "        text-align: right;\n",
              "    }\n",
              "</style>\n",
              "<table border=\"1\" class=\"dataframe\">\n",
              "  <thead>\n",
              "    <tr style=\"text-align: right;\">\n",
              "      <th></th>\n",
              "      <th>message</th>\n",
              "      <th>clean_message</th>\n",
              "    </tr>\n",
              "  </thead>\n",
              "  <tbody>\n",
              "    <tr>\n",
              "      <th>0</th>\n",
              "      <td>Go until jurong point, crazy.. Available only ...</td>\n",
              "      <td>go jurong point crazy available bugis n great ...</td>\n",
              "    </tr>\n",
              "    <tr>\n",
              "      <th>1</th>\n",
              "      <td>Ok lar... Joking wif u oni...</td>\n",
              "      <td>ok lar joking wif u oni</td>\n",
              "    </tr>\n",
              "    <tr>\n",
              "      <th>2</th>\n",
              "      <td>Free entry in 2 a wkly comp to win FA Cup fina...</td>\n",
              "      <td>free entry NUMTOKEN wkly comp win fa cup final...</td>\n",
              "    </tr>\n",
              "    <tr>\n",
              "      <th>3</th>\n",
              "      <td>U dun say so early hor... U c already then say...</td>\n",
              "      <td>u dun say early hor u c already say</td>\n",
              "    </tr>\n",
              "    <tr>\n",
              "      <th>4</th>\n",
              "      <td>Nah I don't think he goes to usf, he lives aro...</td>\n",
              "      <td>nah dont think go usf life around though</td>\n",
              "    </tr>\n",
              "  </tbody>\n",
              "</table>\n",
              "</div>\n",
              "    <div class=\"colab-df-buttons\">\n",
              "\n",
              "  <div class=\"colab-df-container\">\n",
              "    <button class=\"colab-df-convert\" onclick=\"convertToInteractive('df-747f9403-6c8d-4522-a437-c0de440ce637')\"\n",
              "            title=\"Convert this dataframe to an interactive table.\"\n",
              "            style=\"display:none;\">\n",
              "\n",
              "  <svg xmlns=\"http://www.w3.org/2000/svg\" height=\"24px\" viewBox=\"0 -960 960 960\">\n",
              "    <path d=\"M120-120v-720h720v720H120Zm60-500h600v-160H180v160Zm220 220h160v-160H400v160Zm0 220h160v-160H400v160ZM180-400h160v-160H180v160Zm440 0h160v-160H620v160ZM180-180h160v-160H180v160Zm440 0h160v-160H620v160Z\"/>\n",
              "  </svg>\n",
              "    </button>\n",
              "\n",
              "  <style>\n",
              "    .colab-df-container {\n",
              "      display:flex;\n",
              "      gap: 12px;\n",
              "    }\n",
              "\n",
              "    .colab-df-convert {\n",
              "      background-color: #E8F0FE;\n",
              "      border: none;\n",
              "      border-radius: 50%;\n",
              "      cursor: pointer;\n",
              "      display: none;\n",
              "      fill: #1967D2;\n",
              "      height: 32px;\n",
              "      padding: 0 0 0 0;\n",
              "      width: 32px;\n",
              "    }\n",
              "\n",
              "    .colab-df-convert:hover {\n",
              "      background-color: #E2EBFA;\n",
              "      box-shadow: 0px 1px 2px rgba(60, 64, 67, 0.3), 0px 1px 3px 1px rgba(60, 64, 67, 0.15);\n",
              "      fill: #174EA6;\n",
              "    }\n",
              "\n",
              "    .colab-df-buttons div {\n",
              "      margin-bottom: 4px;\n",
              "    }\n",
              "\n",
              "    [theme=dark] .colab-df-convert {\n",
              "      background-color: #3B4455;\n",
              "      fill: #D2E3FC;\n",
              "    }\n",
              "\n",
              "    [theme=dark] .colab-df-convert:hover {\n",
              "      background-color: #434B5C;\n",
              "      box-shadow: 0px 1px 3px 1px rgba(0, 0, 0, 0.15);\n",
              "      filter: drop-shadow(0px 1px 2px rgba(0, 0, 0, 0.3));\n",
              "      fill: #FFFFFF;\n",
              "    }\n",
              "  </style>\n",
              "\n",
              "    <script>\n",
              "      const buttonEl =\n",
              "        document.querySelector('#df-747f9403-6c8d-4522-a437-c0de440ce637 button.colab-df-convert');\n",
              "      buttonEl.style.display =\n",
              "        google.colab.kernel.accessAllowed ? 'block' : 'none';\n",
              "\n",
              "      async function convertToInteractive(key) {\n",
              "        const element = document.querySelector('#df-747f9403-6c8d-4522-a437-c0de440ce637');\n",
              "        const dataTable =\n",
              "          await google.colab.kernel.invokeFunction('convertToInteractive',\n",
              "                                                    [key], {});\n",
              "        if (!dataTable) return;\n",
              "\n",
              "        const docLinkHtml = 'Like what you see? Visit the ' +\n",
              "          '<a target=\"_blank\" href=https://colab.research.google.com/notebooks/data_table.ipynb>data table notebook</a>'\n",
              "          + ' to learn more about interactive tables.';\n",
              "        element.innerHTML = '';\n",
              "        dataTable['output_type'] = 'display_data';\n",
              "        await google.colab.output.renderOutput(dataTable, element);\n",
              "        const docLink = document.createElement('div');\n",
              "        docLink.innerHTML = docLinkHtml;\n",
              "        element.appendChild(docLink);\n",
              "      }\n",
              "    </script>\n",
              "  </div>\n",
              "\n",
              "\n",
              "    <div id=\"df-3c7dbc89-2d93-4c82-8098-e11ff044a93d\">\n",
              "      <button class=\"colab-df-quickchart\" onclick=\"quickchart('df-3c7dbc89-2d93-4c82-8098-e11ff044a93d')\"\n",
              "                title=\"Suggest charts\"\n",
              "                style=\"display:none;\">\n",
              "\n",
              "<svg xmlns=\"http://www.w3.org/2000/svg\" height=\"24px\"viewBox=\"0 0 24 24\"\n",
              "     width=\"24px\">\n",
              "    <g>\n",
              "        <path d=\"M19 3H5c-1.1 0-2 .9-2 2v14c0 1.1.9 2 2 2h14c1.1 0 2-.9 2-2V5c0-1.1-.9-2-2-2zM9 17H7v-7h2v7zm4 0h-2V7h2v10zm4 0h-2v-4h2v4z\"/>\n",
              "    </g>\n",
              "</svg>\n",
              "      </button>\n",
              "\n",
              "<style>\n",
              "  .colab-df-quickchart {\n",
              "      --bg-color: #E8F0FE;\n",
              "      --fill-color: #1967D2;\n",
              "      --hover-bg-color: #E2EBFA;\n",
              "      --hover-fill-color: #174EA6;\n",
              "      --disabled-fill-color: #AAA;\n",
              "      --disabled-bg-color: #DDD;\n",
              "  }\n",
              "\n",
              "  [theme=dark] .colab-df-quickchart {\n",
              "      --bg-color: #3B4455;\n",
              "      --fill-color: #D2E3FC;\n",
              "      --hover-bg-color: #434B5C;\n",
              "      --hover-fill-color: #FFFFFF;\n",
              "      --disabled-bg-color: #3B4455;\n",
              "      --disabled-fill-color: #666;\n",
              "  }\n",
              "\n",
              "  .colab-df-quickchart {\n",
              "    background-color: var(--bg-color);\n",
              "    border: none;\n",
              "    border-radius: 50%;\n",
              "    cursor: pointer;\n",
              "    display: none;\n",
              "    fill: var(--fill-color);\n",
              "    height: 32px;\n",
              "    padding: 0;\n",
              "    width: 32px;\n",
              "  }\n",
              "\n",
              "  .colab-df-quickchart:hover {\n",
              "    background-color: var(--hover-bg-color);\n",
              "    box-shadow: 0 1px 2px rgba(60, 64, 67, 0.3), 0 1px 3px 1px rgba(60, 64, 67, 0.15);\n",
              "    fill: var(--button-hover-fill-color);\n",
              "  }\n",
              "\n",
              "  .colab-df-quickchart-complete:disabled,\n",
              "  .colab-df-quickchart-complete:disabled:hover {\n",
              "    background-color: var(--disabled-bg-color);\n",
              "    fill: var(--disabled-fill-color);\n",
              "    box-shadow: none;\n",
              "  }\n",
              "\n",
              "  .colab-df-spinner {\n",
              "    border: 2px solid var(--fill-color);\n",
              "    border-color: transparent;\n",
              "    border-bottom-color: var(--fill-color);\n",
              "    animation:\n",
              "      spin 1s steps(1) infinite;\n",
              "  }\n",
              "\n",
              "  @keyframes spin {\n",
              "    0% {\n",
              "      border-color: transparent;\n",
              "      border-bottom-color: var(--fill-color);\n",
              "      border-left-color: var(--fill-color);\n",
              "    }\n",
              "    20% {\n",
              "      border-color: transparent;\n",
              "      border-left-color: var(--fill-color);\n",
              "      border-top-color: var(--fill-color);\n",
              "    }\n",
              "    30% {\n",
              "      border-color: transparent;\n",
              "      border-left-color: var(--fill-color);\n",
              "      border-top-color: var(--fill-color);\n",
              "      border-right-color: var(--fill-color);\n",
              "    }\n",
              "    40% {\n",
              "      border-color: transparent;\n",
              "      border-right-color: var(--fill-color);\n",
              "      border-top-color: var(--fill-color);\n",
              "    }\n",
              "    60% {\n",
              "      border-color: transparent;\n",
              "      border-right-color: var(--fill-color);\n",
              "    }\n",
              "    80% {\n",
              "      border-color: transparent;\n",
              "      border-right-color: var(--fill-color);\n",
              "      border-bottom-color: var(--fill-color);\n",
              "    }\n",
              "    90% {\n",
              "      border-color: transparent;\n",
              "      border-bottom-color: var(--fill-color);\n",
              "    }\n",
              "  }\n",
              "</style>\n",
              "\n",
              "      <script>\n",
              "        async function quickchart(key) {\n",
              "          const quickchartButtonEl =\n",
              "            document.querySelector('#' + key + ' button');\n",
              "          quickchartButtonEl.disabled = true;  // To prevent multiple clicks.\n",
              "          quickchartButtonEl.classList.add('colab-df-spinner');\n",
              "          try {\n",
              "            const charts = await google.colab.kernel.invokeFunction(\n",
              "                'suggestCharts', [key], {});\n",
              "          } catch (error) {\n",
              "            console.error('Error during call to suggestCharts:', error);\n",
              "          }\n",
              "          quickchartButtonEl.classList.remove('colab-df-spinner');\n",
              "          quickchartButtonEl.classList.add('colab-df-quickchart-complete');\n",
              "        }\n",
              "        (() => {\n",
              "          let quickchartButtonEl =\n",
              "            document.querySelector('#df-3c7dbc89-2d93-4c82-8098-e11ff044a93d button');\n",
              "          quickchartButtonEl.style.display =\n",
              "            google.colab.kernel.accessAllowed ? 'block' : 'none';\n",
              "        })();\n",
              "      </script>\n",
              "    </div>\n",
              "\n",
              "    </div>\n",
              "  </div>\n"
            ],
            "application/vnd.google.colaboratory.intrinsic+json": {
              "type": "dataframe",
              "summary": "{\n  \"name\": \"df_small[['message', 'clean_message']]\",\n  \"rows\": 5,\n  \"fields\": [\n    {\n      \"column\": \"message\",\n      \"properties\": {\n        \"dtype\": \"string\",\n        \"num_unique_values\": 5,\n        \"samples\": [\n          \"Ok lar... Joking wif u oni...\",\n          \"Nah I don't think he goes to usf, he lives around here though\",\n          \"Free entry in 2 a wkly comp to win FA Cup final tkts 21st May 2005. Text FA to 87121 to receive entry question(std txt rate)T&C's apply 08452810075over18's\"\n        ],\n        \"semantic_type\": \"\",\n        \"description\": \"\"\n      }\n    },\n    {\n      \"column\": \"clean_message\",\n      \"properties\": {\n        \"dtype\": \"string\",\n        \"num_unique_values\": 5,\n        \"samples\": [\n          \"ok lar joking wif u oni\",\n          \"nah dont think go usf life around though\",\n          \"free entry NUMTOKEN wkly comp win fa cup final tkts NUMTOKENst may NUMTOKEN text fa NUMTOKEN receive entry questionstd txt ratetcs apply NUMTOKENoverNUMTOKENs\"\n        ],\n        \"semantic_type\": \"\",\n        \"description\": \"\"\n      }\n    }\n  ]\n}"
            }
          },
          "metadata": {},
          "execution_count": 21
        }
      ]
    },
    {
      "cell_type": "markdown",
      "source": [
        "## 5.5 Convert Labels to Numerical Format\n",
        "\n",
        "To prepare the datasets for training, we convert the categorical labels ('ham', 'spam') into numerical values:  \n",
        "- `ham` → `0`  \n",
        "- `spam` → `1`  \n",
        "This is necessary for most machine learning models that require numeric targets.\n"
      ],
      "metadata": {
        "id": "_ouk3JFTildt"
      }
    },
    {
      "cell_type": "code",
      "source": [
        "df_small['label_num'] = df_small['label'].map({'ham': 0, 'spam': 1})\n",
        "df_large_clean['label_num'] = df_large_clean['label'].map({'ham': 0, 'spam': 1})\n",
        "df_general_clean['label_num'] = df_general_clean['label'].map({'ham': 0, 'spam': 1})\n"
      ],
      "metadata": {
        "id": "XB0ysYR2itPz"
      },
      "execution_count": 22,
      "outputs": []
    },
    {
      "cell_type": "markdown",
      "source": [
        "# 6. Dataset Splitting\n",
        "\n",
        "We split the cleaned and preprocessed dataset into training, validation, and test sets.  \n",
        "This allows us to train models, tune hyperparameters, and evaluate generalization performance independently.\n",
        "\n",
        "We use stratified sampling to ensure the **spam/ham distribution** remains consistent across splits:\n",
        "- 70% training\n",
        "- 15% validation\n",
        "- 15% test\n"
      ],
      "metadata": {
        "id": "NGaUXi9cgB-r"
      }
    },
    {
      "cell_type": "code",
      "source": [
        "def split_data(X_text, y, test_size=0.3, val_ratio=0.5):\n",
        "    \"\"\"\n",
        "    Splits the dataset into train/validation/test sets using stratified sampling.\n",
        "    - test_size: portion of data held out for validation + test (e.g. 0.3)\n",
        "    - val_ratio: ratio of validation to (validation + test) (e.g. 0.5 = 50/50 split)\n",
        "\n",
        "    Returns:\n",
        "        X_train, X_val, X_test, y_train, y_val, y_test\n",
        "    \"\"\"\n",
        "    X_train, X_temp, y_train, y_temp = train_test_split(X_text, y, test_size=test_size, stratify=y, random_state=42)\n",
        "    X_val, X_test, y_val, y_test = train_test_split(X_temp, y_temp, test_size=val_ratio, stratify=y_temp, random_state=42)\n",
        "    return X_train, X_val, X_test, y_train, y_val, y_test\n"
      ],
      "metadata": {
        "id": "f8DdkgK-gNz8"
      },
      "execution_count": 23,
      "outputs": []
    },
    {
      "cell_type": "markdown",
      "source": [
        "## Apply to Small Dataset"
      ],
      "metadata": {
        "id": "5pZ2YbwiU06N"
      }
    },
    {
      "cell_type": "code",
      "source": [
        "# Prepare inputs for splitting\n",
        "X_small = df_small['clean_message']\n",
        "y_small = df_small['label_num']\n",
        "\n",
        "# Perform the split\n",
        "X_text_train, X_text_val, X_text_test, y_train, y_val, y_test = split_data(X_small, y_small)\n",
        "\n",
        "# Display sizes\n",
        "print(f\"Train size: {len(X_text_train)}\")\n",
        "print(f\"Validation size: {len(X_text_val)}\")\n",
        "print(f\"Test size: {len(X_text_test)}\")\n"
      ],
      "metadata": {
        "colab": {
          "base_uri": "https://localhost:8080/"
        },
        "id": "9Mhel3Wwg7wa",
        "outputId": "5352a801-15b8-4201-c827-c1001fa4cfa0"
      },
      "execution_count": 24,
      "outputs": [
        {
          "output_type": "stream",
          "name": "stdout",
          "text": [
            "Train size: 3618\n",
            "Validation size: 775\n",
            "Test size: 776\n"
          ]
        }
      ]
    },
    {
      "cell_type": "code",
      "source": [
        "print(\"Label distribution in train set:\")\n",
        "print(y_train.value_counts(normalize=True))\n",
        "\n",
        "print(\"\\nLabel distribution in validation set:\")\n",
        "print(y_val.value_counts(normalize=True))\n",
        "\n",
        "print(\"\\nLabel distribution in test set:\")\n",
        "print(y_test.value_counts(normalize=True))\n"
      ],
      "metadata": {
        "colab": {
          "base_uri": "https://localhost:8080/"
        },
        "id": "d251rSzRVCtd",
        "outputId": "5dda72d2-ecb1-412d-f9f5-ba511cddf5fa"
      },
      "execution_count": 25,
      "outputs": [
        {
          "output_type": "stream",
          "name": "stdout",
          "text": [
            "Label distribution in train set:\n",
            "label_num\n",
            "0    0.873687\n",
            "1    0.126313\n",
            "Name: proportion, dtype: float64\n",
            "\n",
            "Label distribution in validation set:\n",
            "label_num\n",
            "0    0.873548\n",
            "1    0.126452\n",
            "Name: proportion, dtype: float64\n",
            "\n",
            "Label distribution in test set:\n",
            "label_num\n",
            "0    0.873711\n",
            "1    0.126289\n",
            "Name: proportion, dtype: float64\n"
          ]
        }
      ]
    },
    {
      "cell_type": "markdown",
      "source": [
        "# 7. Vectorization Setup\n",
        "\n",
        "We convert preprocessed text data into numerical features using **TF-IDF vectorization**.  \n",
        "This transforms each message into a vector of word importance scores.\n",
        "\n",
        "We use the following parameters:\n",
        "- `max_features=3000`: to reduce dimensionality and avoid overfitting.\n",
        "\n",
        "We fit the vectorizer **only on the training set** to avoid data leakage."
      ],
      "metadata": {
        "id": "GGZ7uImEf3a6"
      }
    },
    {
      "cell_type": "markdown",
      "source": [
        "## 7.1 Vectorizer Definition"
      ],
      "metadata": {
        "id": "q-BnkIAhXXa6"
      }
    },
    {
      "cell_type": "code",
      "source": [
        "vectorizer = TfidfVectorizer(\n",
        "    max_features=3000,  # Limit dimensionality\n",
        ")"
      ],
      "metadata": {
        "id": "Hbfs4fCbdbql"
      },
      "execution_count": 26,
      "outputs": []
    },
    {
      "cell_type": "markdown",
      "source": [
        "## 7.2 Apply TF-IDF Vectorizer\n",
        "\n",
        "We transform each dataset into TF-IDF vectors using the `vectorizer` defined above.\n"
      ],
      "metadata": {
        "id": "j4ZAEz7RkYqq"
      }
    },
    {
      "cell_type": "markdown",
      "source": [
        "### 7.2.1 Dataset 1 (small – split into train/val/test)"
      ],
      "metadata": {
        "id": "0QBjAtO7kiyB"
      }
    },
    {
      "cell_type": "code",
      "source": [
        "X_train = vectorizer.fit_transform(X_text_train)\n",
        "X_val = vectorizer.transform(X_text_val)\n",
        "X_test = vectorizer.transform(X_text_test)"
      ],
      "metadata": {
        "id": "VnKzZUU3kYOc"
      },
      "execution_count": 27,
      "outputs": []
    },
    {
      "cell_type": "code",
      "source": [
        "print(\"Shape of TF-IDF vectors (train):\", X_train.shape)"
      ],
      "metadata": {
        "colab": {
          "base_uri": "https://localhost:8080/"
        },
        "id": "3Cp5HiQLX7dt",
        "outputId": "f622dc05-1595-42fb-c4a4-48f73b369a9f"
      },
      "execution_count": 28,
      "outputs": [
        {
          "output_type": "stream",
          "name": "stdout",
          "text": [
            "Shape of TF-IDF vectors (train): (3618, 3000)\n"
          ]
        }
      ]
    },
    {
      "cell_type": "markdown",
      "source": [
        "### 7.2.2 Dataset 2 (large – only transform)"
      ],
      "metadata": {
        "id": "JWqtV1SRk2U5"
      }
    },
    {
      "cell_type": "code",
      "source": [
        "X_large = vectorizer.transform(df_large_clean['clean_message'])\n",
        "y_large= df_large_clean['label_num']"
      ],
      "metadata": {
        "id": "6lWWRXU_lLwC"
      },
      "execution_count": 29,
      "outputs": []
    },
    {
      "cell_type": "markdown",
      "source": [
        "### 7.2.3 Dataset 3 (general – only transform)"
      ],
      "metadata": {
        "id": "B24mTpojlC-8"
      }
    },
    {
      "cell_type": "code",
      "source": [
        "# Save for future evaluation in path 3\n",
        "joblib.dump(df_general_clean, \"df_general_clean.pkl\")"
      ],
      "metadata": {
        "colab": {
          "base_uri": "https://localhost:8080/"
        },
        "id": "fPSzAcMlE1D3",
        "outputId": "ea2887c8-9180-47b2-e0ab-2411152cca91"
      },
      "execution_count": 30,
      "outputs": [
        {
          "output_type": "execute_result",
          "data": {
            "text/plain": [
              "['df_general_clean.pkl']"
            ]
          },
          "metadata": {},
          "execution_count": 30
        }
      ]
    },
    {
      "cell_type": "code",
      "source": [
        "X_general = vectorizer.transform(df_general_clean['clean_message'])\n",
        "y_general= df_general_clean['label_num']"
      ],
      "metadata": {
        "id": "CWp2dgJIl25n"
      },
      "execution_count": 31,
      "outputs": []
    },
    {
      "cell_type": "markdown",
      "source": [
        "## optionally"
      ],
      "metadata": {
        "id": "VhI3cirsYbbc"
      }
    },
    {
      "cell_type": "code",
      "source": [
        "print(f\"Train set shape: {X_train.shape}\")\n",
        "print(f\"Validation set shape: {X_val.shape}\")\n",
        "print(f\"Test set shape: {X_test.shape}\")\n",
        "print(f\"Large dataset shape: {X_large.shape}\")\n",
        "print(f\"General dataset shape: {X_general.shape}\")\n"
      ],
      "metadata": {
        "colab": {
          "base_uri": "https://localhost:8080/"
        },
        "id": "wpCr5L94YVgb",
        "outputId": "040a4a6a-3d66-445f-fb17-88643132fd4c"
      },
      "execution_count": 32,
      "outputs": [
        {
          "output_type": "stream",
          "name": "stdout",
          "text": [
            "Train set shape: (3618, 3000)\n",
            "Validation set shape: (775, 3000)\n",
            "Test set shape: (776, 3000)\n",
            "Large dataset shape: (5674, 3000)\n",
            "General dataset shape: (1148, 3000)\n"
          ]
        }
      ]
    },
    {
      "cell_type": "markdown",
      "source": [
        "# 8. Model Training and Evaluation\n",
        "We train and evaluate two classification models — Naive Bayes and Linear Support Vector Machine — using the small dataset.\n",
        "Evaluation is performed first on the validation set and then on the final test set. We report standard metrics such as accuracy, F1-score, and confusion matrix.\n"
      ],
      "metadata": {
        "id": "ffYjt7g2grmg"
      }
    },
    {
      "cell_type": "markdown",
      "source": [
        "## 8.1 Define and Train Models"
      ],
      "metadata": {
        "id": "8uDodWTqoOU3"
      }
    },
    {
      "cell_type": "code",
      "source": [
        "# Define models\n",
        "models = {\n",
        "    \"NB-1\": MultinomialNB(),   # Naive Bayes model\n",
        "    \"SVM-1\": LinearSVC()       # Linear Support Vector Machine model\n",
        "}\n",
        "\n",
        "# Store trained models\n",
        "trained_models = {}\n",
        "\n",
        "print(\" Evaluating Models on Validation Set\")\n",
        "for name, model in models.items():\n",
        "    print(f\"\\n=== {name} ===\")\n",
        "\n",
        "    # Train the model on the small training dataset\n",
        "    model.fit(X_train, y_train)\n",
        "\n",
        "    # Save the trained model\n",
        "    trained_models[name] = model\n",
        "\n",
        "    # Predict on the small validation set\n",
        "    y_val_pred = model.predict(X_val)\n",
        "\n",
        "    # Calculate evaluation metrics\n",
        "    acc_val = accuracy_score(y_val, y_val_pred)\n",
        "    f1_val = f1_score(y_val, y_val_pred)\n",
        "    cm_val = confusion_matrix(y_val, y_val_pred)\n",
        "\n",
        "    # Display evaluation results\n",
        "    print(f\"Validation Accuracy: {acc_val:.4f}\")\n",
        "    print(f\"Validation F1 Score: {f1_val:.4f}\")\n",
        "    print(\"Validation Confusion Matrix:\\n\", cm_val)\n",
        "    print(\"Validation Classification Report:\\n\", classification_report(y_val, y_val_pred))"
      ],
      "metadata": {
        "colab": {
          "base_uri": "https://localhost:8080/"
        },
        "id": "AoM-tv_OgrP-",
        "outputId": "07ce8693-9baa-49a2-c90a-04912eb7128c"
      },
      "execution_count": 33,
      "outputs": [
        {
          "output_type": "stream",
          "name": "stdout",
          "text": [
            " Evaluating Models on Validation Set\n",
            "\n",
            "=== NB-1 ===\n",
            "Validation Accuracy: 0.9652\n",
            "Validation F1 Score: 0.8402\n",
            "Validation Confusion Matrix:\n",
            " [[677   0]\n",
            " [ 27  71]]\n",
            "Validation Classification Report:\n",
            "               precision    recall  f1-score   support\n",
            "\n",
            "           0       0.96      1.00      0.98       677\n",
            "           1       1.00      0.72      0.84        98\n",
            "\n",
            "    accuracy                           0.97       775\n",
            "   macro avg       0.98      0.86      0.91       775\n",
            "weighted avg       0.97      0.97      0.96       775\n",
            "\n",
            "\n",
            "=== SVM-1 ===\n",
            "Validation Accuracy: 0.9768\n",
            "Validation F1 Score: 0.9032\n",
            "Validation Confusion Matrix:\n",
            " [[673   4]\n",
            " [ 14  84]]\n",
            "Validation Classification Report:\n",
            "               precision    recall  f1-score   support\n",
            "\n",
            "           0       0.98      0.99      0.99       677\n",
            "           1       0.95      0.86      0.90        98\n",
            "\n",
            "    accuracy                           0.98       775\n",
            "   macro avg       0.97      0.93      0.95       775\n",
            "weighted avg       0.98      0.98      0.98       775\n",
            "\n"
          ]
        }
      ]
    },
    {
      "cell_type": "markdown",
      "source": [
        "## 8.2 Final Evaluation on Test Set\n",
        "After selecting models based on validation performance, we report final evaluation metrics on the unseen test set.\n"
      ],
      "metadata": {
        "id": "kEOC5Xt_aGKl"
      }
    },
    {
      "cell_type": "code",
      "source": [
        "for name, model in trained_models.items():\n",
        "    print(f\"\\n=== {name} (Final Test Evaluation) ===\")\n",
        "    y_test_pred = model.predict(X_test)\n",
        "\n",
        "    acc_test = accuracy_score(y_test, y_test_pred)\n",
        "    f1_test = f1_score(y_test, y_test_pred)\n",
        "    cm_test = confusion_matrix(y_test, y_test_pred)\n",
        "\n",
        "    print(f\"Test Accuracy: {acc_test:.4f}\")\n",
        "    print(f\"Test F1 Score: {f1_test:.4f}\")\n",
        "    print(\"Confusion Matrix:\\n\", cm_test)\n",
        "    print(\"Classification Report:\\n\", classification_report(y_test, y_test_pred))\n"
      ],
      "metadata": {
        "colab": {
          "base_uri": "https://localhost:8080/"
        },
        "id": "aERNhVXTaNNl",
        "outputId": "11bc0b23-115f-4310-eda1-dfa053a209aa"
      },
      "execution_count": 34,
      "outputs": [
        {
          "output_type": "stream",
          "name": "stdout",
          "text": [
            "\n",
            "=== NB-1 (Final Test Evaluation) ===\n",
            "Test Accuracy: 0.9781\n",
            "Test F1 Score: 0.9050\n",
            "Confusion Matrix:\n",
            " [[678   0]\n",
            " [ 17  81]]\n",
            "Classification Report:\n",
            "               precision    recall  f1-score   support\n",
            "\n",
            "           0       0.98      1.00      0.99       678\n",
            "           1       1.00      0.83      0.91        98\n",
            "\n",
            "    accuracy                           0.98       776\n",
            "   macro avg       0.99      0.91      0.95       776\n",
            "weighted avg       0.98      0.98      0.98       776\n",
            "\n",
            "\n",
            "=== SVM-1 (Final Test Evaluation) ===\n",
            "Test Accuracy: 0.9897\n",
            "Test F1 Score: 0.9579\n",
            "Confusion Matrix:\n",
            " [[677   1]\n",
            " [  7  91]]\n",
            "Classification Report:\n",
            "               precision    recall  f1-score   support\n",
            "\n",
            "           0       0.99      1.00      0.99       678\n",
            "           1       0.99      0.93      0.96        98\n",
            "\n",
            "    accuracy                           0.99       776\n",
            "   macro avg       0.99      0.96      0.98       776\n",
            "weighted avg       0.99      0.99      0.99       776\n",
            "\n"
          ]
        }
      ]
    },
    {
      "cell_type": "markdown",
      "source": [
        "# 9. Evaluation on External Datasets\n",
        "\n",
        "To assess the generalization ability of our trained models, we evaluate them on two external datasets:\n",
        "- **Dataset 2:** Cleaned version of the larger dataset.\n",
        "- **Dataset 3:** Manually created general dataset.\n"
      ],
      "metadata": {
        "id": "mUbB-nBzps4D"
      }
    },
    {
      "cell_type": "markdown",
      "source": [
        "## 9.1 Evaluate on Clean Large Dataset"
      ],
      "metadata": {
        "id": "wlRkxZonpwtQ"
      }
    },
    {
      "cell_type": "code",
      "source": [
        "print(\"\\n Evaluating Pretrained Models on 2nd Dataset (Clean Large Dataset)\")\n",
        "\n",
        "for name, model in trained_models.items():\n",
        "    print(f\"\\n=== {name} on 2nd Dataset ===\")\n",
        "    y_large_pred = model.predict(X_large)\n",
        "\n",
        "    acc_2nd = accuracy_score(y_large, y_large_pred)\n",
        "    f1_2nd = f1_score(y_large, y_large_pred)\n",
        "    cm_2nd = confusion_matrix(y_large, y_large_pred)\n",
        "\n",
        "    print(f\"Accuracy: {acc_2nd:.4f}\")\n",
        "    print(f\"F1 Score: {f1_2nd:.4f}\")\n",
        "    print(\"Confusion Matrix:\\n\", cm_2nd)\n",
        "    print(\"Classification Report:\\n\", classification_report(y_large, y_large_pred))\n"
      ],
      "metadata": {
        "colab": {
          "base_uri": "https://localhost:8080/"
        },
        "id": "CHriJ2t2puDB",
        "outputId": "3a883e75-1aaf-4c87-fb6a-c11fe1b82470"
      },
      "execution_count": 35,
      "outputs": [
        {
          "output_type": "stream",
          "name": "stdout",
          "text": [
            "\n",
            " Evaluating Pretrained Models on 2nd Dataset (Clean Large Dataset)\n",
            "\n",
            "=== NB-1 on 2nd Dataset ===\n",
            "Accuracy: 0.7224\n",
            "F1 Score: 0.3368\n",
            "Confusion Matrix:\n",
            " [[3699  127]\n",
            " [1448  400]]\n",
            "Classification Report:\n",
            "               precision    recall  f1-score   support\n",
            "\n",
            "           0       0.72      0.97      0.82      3826\n",
            "           1       0.76      0.22      0.34      1848\n",
            "\n",
            "    accuracy                           0.72      5674\n",
            "   macro avg       0.74      0.59      0.58      5674\n",
            "weighted avg       0.73      0.72      0.67      5674\n",
            "\n",
            "\n",
            "=== SVM-1 on 2nd Dataset ===\n",
            "Accuracy: 0.4605\n",
            "F1 Score: 0.3407\n",
            "Confusion Matrix:\n",
            " [[1822 2004]\n",
            " [1057  791]]\n",
            "Classification Report:\n",
            "               precision    recall  f1-score   support\n",
            "\n",
            "           0       0.63      0.48      0.54      3826\n",
            "           1       0.28      0.43      0.34      1848\n",
            "\n",
            "    accuracy                           0.46      5674\n",
            "   macro avg       0.46      0.45      0.44      5674\n",
            "weighted avg       0.52      0.46      0.48      5674\n",
            "\n"
          ]
        }
      ]
    },
    {
      "cell_type": "markdown",
      "source": [
        "## 9.2 Evaluate on General Dataset"
      ],
      "metadata": {
        "id": "5sJy0toGs8zt"
      }
    },
    {
      "cell_type": "code",
      "source": [
        "print(\"\\n Evaluating Pretrained Models on 3rd Dataset (General Dataset)\")\n",
        "\n",
        "for name, model in trained_models.items():\n",
        "    print(f\"\\n=== {name} on 3rd Dataset ===\")\n",
        "    y_pred = model.predict(X_general)\n",
        "\n",
        "    acc_gen = accuracy_score(y_general, y_pred)\n",
        "    f1_gen = f1_score(y_general, y_pred)\n",
        "    cm_gen = confusion_matrix(y_general, y_pred)\n",
        "\n",
        "    print(f\"Accuracy: {acc_gen:.4f}\")\n",
        "    print(f\"F1 Score: {f1_gen:.4f}\")\n",
        "    print(\"Confusion Matrix:\\n\", cm_gen)\n",
        "    print(\"Classification Report:\\n\", classification_report(y_general, y_pred))\n"
      ],
      "metadata": {
        "colab": {
          "base_uri": "https://localhost:8080/"
        },
        "id": "Xy6ETlYftA_5",
        "outputId": "0657a8da-6efe-43a6-a28d-bac557830212"
      },
      "execution_count": 36,
      "outputs": [
        {
          "output_type": "stream",
          "name": "stdout",
          "text": [
            "\n",
            " Evaluating Pretrained Models on 3rd Dataset (General Dataset)\n",
            "\n",
            "=== NB-1 on 3rd Dataset ===\n",
            "Accuracy: 0.8711\n",
            "F1 Score: 0.8474\n",
            "Confusion Matrix:\n",
            " [[589   0]\n",
            " [148 411]]\n",
            "Classification Report:\n",
            "               precision    recall  f1-score   support\n",
            "\n",
            "           0       0.80      1.00      0.89       589\n",
            "           1       1.00      0.74      0.85       559\n",
            "\n",
            "    accuracy                           0.87      1148\n",
            "   macro avg       0.90      0.87      0.87      1148\n",
            "weighted avg       0.90      0.87      0.87      1148\n",
            "\n",
            "\n",
            "=== SVM-1 on 3rd Dataset ===\n",
            "Accuracy: 0.9007\n",
            "F1 Score: 0.8878\n",
            "Confusion Matrix:\n",
            " [[583   6]\n",
            " [108 451]]\n",
            "Classification Report:\n",
            "               precision    recall  f1-score   support\n",
            "\n",
            "           0       0.84      0.99      0.91       589\n",
            "           1       0.99      0.81      0.89       559\n",
            "\n",
            "    accuracy                           0.90      1148\n",
            "   macro avg       0.92      0.90      0.90      1148\n",
            "weighted avg       0.91      0.90      0.90      1148\n",
            "\n"
          ]
        }
      ]
    },
    {
      "cell_type": "markdown",
      "source": [
        "### 9.3 Save Trained Models and Vectorizer\n",
        "\n",
        "To facilitate future use — such as batch predictions, deployment in production, or further experimentation — we save the trained models and the TF-IDF vectorizer using `joblib`. This ensures consistency between the training pipeline and downstream inference.\n"
      ],
      "metadata": {
        "id": "voTBDT2p3nxs"
      }
    },
    {
      "cell_type": "code",
      "source": [
        "\n",
        "# Save Naive Bayes model\n",
        "joblib.dump(trained_models[\"NB-1\"], \"nb1_model.pkl\")\n",
        "\n",
        "# Save SVM model\n",
        "joblib.dump(trained_models[\"SVM-1\"], \"svm1_model.pkl\")\n",
        "\n",
        "# Save the TF-IDF vectorizer\n",
        "joblib.dump(vectorizer, \"tfidf_vectorizer_path1.pkl\")\n",
        "\n",
        "print(\" Models and vectorizer saved successfully.\")\n"
      ],
      "metadata": {
        "colab": {
          "base_uri": "https://localhost:8080/"
        },
        "id": "4E8tq0Op5c05",
        "outputId": "598977aa-eafc-4f3d-c0d1-cabb69170996"
      },
      "execution_count": 37,
      "outputs": [
        {
          "output_type": "stream",
          "name": "stdout",
          "text": [
            " Models and vectorizer saved successfully.\n"
          ]
        }
      ]
    },
    {
      "cell_type": "markdown",
      "source": [
        "# 10. Predicting New Messages\n",
        "\n",
        "We now test the trained models on unseen, realistic messages to simulate a real-world spam filtering scenario. First, we load the saved models and vectorizer, then classify new messages using the same preprocessing and vectorization steps as during training.\n"
      ],
      "metadata": {
        "id": "Hwp0rLARtsX9"
      }
    },
    {
      "cell_type": "code",
      "source": [
        "# 10.1 Load Saved Models and Vectorizer for Prediction\n",
        "\n",
        "# Load saved models\n",
        "trained_models = {\n",
        "    \"NB-1\": joblib.load(\"nb1_model.pkl\"),\n",
        "    \"SVM-1\": joblib.load(\"svm1_model.pkl\")\n",
        "}\n",
        "\n",
        "# Load the saved TF-IDF vectorizer\n",
        "vectorizer = joblib.load(\"tfidf_vectorizer_path1.pkl\")\n",
        "\n",
        "# Define classification function\n",
        "def classify_message(msg, model=trained_models[\"NB-1\"]):\n",
        "    cleaned = preprocess_text(msg)\n",
        "    vector = vectorizer.transform([cleaned])\n",
        "    prediction = model.predict(vector)[0]\n",
        "    return \"Spam\" if prediction else \"Legitimate\"\n"
      ],
      "metadata": {
        "id": "jVVOSKlT59zx"
      },
      "execution_count": 38,
      "outputs": []
    },
    {
      "cell_type": "code",
      "source": [
        "# 10.2 Real-World Test Messages\n",
        "test_messages = [\n",
        "    # Likely Spam\n",
        "    \"URGENT! Your account has been locked. Verify your identity at http://fakebanklogin.com now.\",\n",
        "    \"Win a brand new iPhone 15! Just reply YES to enter the contest.\",\n",
        "    \"You have received a cash reward of $2000. Claim here: rewardz.co/claim\",\n",
        "    \"Congratulations! You've been selected for a free cruise to the Bahamas.\",\n",
        "\n",
        "    # Likely Ham (legitimate)\n",
        "    \"Don’t forget your doctor’s appointment tomorrow at 10am.\",\n",
        "    \"Are we still on for dinner this Friday night?\",\n",
        "    \"Here's the PDF for the meeting agenda. Let me know if you have any questions.\",\n",
        "    \"Thanks for your payment. Your subscription has been renewed.\"\n",
        "]\n",
        "\n",
        "# 11.3 Classify Each Message Using All Models\n",
        "for msg in test_messages:\n",
        "    print(f\"\\n🔍 Test Message: {msg}\")\n",
        "    for name, model in trained_models.items():\n",
        "        label = classify_message(msg, model=model)\n",
        "        print(f\"{name} Prediction: {label}\")\n"
      ],
      "metadata": {
        "colab": {
          "base_uri": "https://localhost:8080/"
        },
        "id": "xYW6-aZit4HF",
        "outputId": "12a290bd-a4e2-47ce-97d6-977ee0c51235"
      },
      "execution_count": 39,
      "outputs": [
        {
          "output_type": "stream",
          "name": "stdout",
          "text": [
            "\n",
            "🔍 Test Message: URGENT! Your account has been locked. Verify your identity at http://fakebanklogin.com now.\n",
            "NB-1 Prediction: Spam\n",
            "SVM-1 Prediction: Spam\n",
            "\n",
            "🔍 Test Message: Win a brand new iPhone 15! Just reply YES to enter the contest.\n",
            "NB-1 Prediction: Spam\n",
            "SVM-1 Prediction: Spam\n",
            "\n",
            "🔍 Test Message: You have received a cash reward of $2000. Claim here: rewardz.co/claim\n",
            "NB-1 Prediction: Spam\n",
            "SVM-1 Prediction: Spam\n",
            "\n",
            "🔍 Test Message: Congratulations! You've been selected for a free cruise to the Bahamas.\n",
            "NB-1 Prediction: Spam\n",
            "SVM-1 Prediction: Spam\n",
            "\n",
            "🔍 Test Message: Don’t forget your doctor’s appointment tomorrow at 10am.\n",
            "NB-1 Prediction: Legitimate\n",
            "SVM-1 Prediction: Legitimate\n",
            "\n",
            "🔍 Test Message: Are we still on for dinner this Friday night?\n",
            "NB-1 Prediction: Legitimate\n",
            "SVM-1 Prediction: Legitimate\n",
            "\n",
            "🔍 Test Message: Here's the PDF for the meeting agenda. Let me know if you have any questions.\n",
            "NB-1 Prediction: Legitimate\n",
            "SVM-1 Prediction: Legitimate\n",
            "\n",
            "🔍 Test Message: Thanks for your payment. Your subscription has been renewed.\n",
            "NB-1 Prediction: Legitimate\n",
            "SVM-1 Prediction: Legitimate\n"
          ]
        }
      ]
    },
    {
      "cell_type": "markdown",
      "source": [
        "# 11. Result Summary\n",
        "\n",
        "In this section, we summarize and compare the performance of the two models — Naive Bayes (NB-1) and Support Vector Machine (SVM-1) — across four evaluation datasets. We report both accuracy and F1 score metrics, and visualize the results to support interpretation.\n"
      ],
      "metadata": {
        "id": "qyq1JuETtpPY"
      }
    },
    {
      "cell_type": "markdown",
      "source": [
        "## 11.1 Comparison of Model Performance"
      ],
      "metadata": {
        "id": "fmzbB_vyxm4f"
      }
    },
    {
      "cell_type": "code",
      "source": [
        "# Collect model performance results\n",
        "results = {\n",
        "    \"Dataset\": [\"Validation Set\", \"Test Set\", \"Large Dataset\", \"General Dataset\"],\n",
        "    \"NB-1 Accuracy\": [],\n",
        "    \"SVM-1 Accuracy\": [],\n",
        "    \"NB-1 F1\": [],\n",
        "    \"SVM-1 F1\": []\n",
        "}\n",
        "\n",
        "# Evaluate and append results\n",
        "def evaluate_and_append(model, X, y):\n",
        "    y_pred = model.predict(X)\n",
        "    return accuracy_score(y, y_pred), f1_score(y, y_pred)\n",
        "\n",
        "# Loop over datasets\n",
        "datasets_eval = [\n",
        "    (\"Validation Set\", X_val, y_val),\n",
        "    (\"Test Set\", X_test, y_test),\n",
        "    (\"Large Dataset\", X_large, y_large),\n",
        "    (\"General Dataset\", X_general, y_general)\n",
        "]\n",
        "\n",
        "for label, X_eval, y_eval in datasets_eval:\n",
        "    nb_acc, nb_f1 = evaluate_and_append(trained_models[\"NB-1\"], X_eval, y_eval)\n",
        "    svm_acc, svm_f1 = evaluate_and_append(trained_models[\"SVM-1\"], X_eval, y_eval)\n",
        "\n",
        "    results[\"NB-1 Accuracy\"].append(nb_acc)\n",
        "    results[\"SVM-1 Accuracy\"].append(svm_acc)\n",
        "    results[\"NB-1 F1\"].append(nb_f1)\n",
        "    results[\"SVM-1 F1\"].append(svm_f1)\n",
        "\n",
        "# Convert to DataFrame\n",
        "results_df = pd.DataFrame(results)\n",
        "display(results_df)\n"
      ],
      "metadata": {
        "colab": {
          "base_uri": "https://localhost:8080/",
          "height": 0
        },
        "id": "q3YYGLO-toW4",
        "outputId": "e9e846e8-18ef-4d93-d6cc-b8f845b30376"
      },
      "execution_count": 40,
      "outputs": [
        {
          "output_type": "display_data",
          "data": {
            "text/plain": [
              "           Dataset  NB-1 Accuracy  SVM-1 Accuracy   NB-1 F1  SVM-1 F1\n",
              "0   Validation Set       0.965161        0.976774  0.840237  0.903226\n",
              "1         Test Set       0.978093        0.989691  0.905028  0.957895\n",
              "2    Large Dataset       0.722418        0.460522  0.336842  0.340728\n",
              "3  General Dataset       0.871080        0.900697  0.847423  0.887795"
            ],
            "text/html": [
              "\n",
              "  <div id=\"df-4243c813-f3f0-43f2-8bbd-f6470a82cc16\" class=\"colab-df-container\">\n",
              "    <div>\n",
              "<style scoped>\n",
              "    .dataframe tbody tr th:only-of-type {\n",
              "        vertical-align: middle;\n",
              "    }\n",
              "\n",
              "    .dataframe tbody tr th {\n",
              "        vertical-align: top;\n",
              "    }\n",
              "\n",
              "    .dataframe thead th {\n",
              "        text-align: right;\n",
              "    }\n",
              "</style>\n",
              "<table border=\"1\" class=\"dataframe\">\n",
              "  <thead>\n",
              "    <tr style=\"text-align: right;\">\n",
              "      <th></th>\n",
              "      <th>Dataset</th>\n",
              "      <th>NB-1 Accuracy</th>\n",
              "      <th>SVM-1 Accuracy</th>\n",
              "      <th>NB-1 F1</th>\n",
              "      <th>SVM-1 F1</th>\n",
              "    </tr>\n",
              "  </thead>\n",
              "  <tbody>\n",
              "    <tr>\n",
              "      <th>0</th>\n",
              "      <td>Validation Set</td>\n",
              "      <td>0.965161</td>\n",
              "      <td>0.976774</td>\n",
              "      <td>0.840237</td>\n",
              "      <td>0.903226</td>\n",
              "    </tr>\n",
              "    <tr>\n",
              "      <th>1</th>\n",
              "      <td>Test Set</td>\n",
              "      <td>0.978093</td>\n",
              "      <td>0.989691</td>\n",
              "      <td>0.905028</td>\n",
              "      <td>0.957895</td>\n",
              "    </tr>\n",
              "    <tr>\n",
              "      <th>2</th>\n",
              "      <td>Large Dataset</td>\n",
              "      <td>0.722418</td>\n",
              "      <td>0.460522</td>\n",
              "      <td>0.336842</td>\n",
              "      <td>0.340728</td>\n",
              "    </tr>\n",
              "    <tr>\n",
              "      <th>3</th>\n",
              "      <td>General Dataset</td>\n",
              "      <td>0.871080</td>\n",
              "      <td>0.900697</td>\n",
              "      <td>0.847423</td>\n",
              "      <td>0.887795</td>\n",
              "    </tr>\n",
              "  </tbody>\n",
              "</table>\n",
              "</div>\n",
              "    <div class=\"colab-df-buttons\">\n",
              "\n",
              "  <div class=\"colab-df-container\">\n",
              "    <button class=\"colab-df-convert\" onclick=\"convertToInteractive('df-4243c813-f3f0-43f2-8bbd-f6470a82cc16')\"\n",
              "            title=\"Convert this dataframe to an interactive table.\"\n",
              "            style=\"display:none;\">\n",
              "\n",
              "  <svg xmlns=\"http://www.w3.org/2000/svg\" height=\"24px\" viewBox=\"0 -960 960 960\">\n",
              "    <path d=\"M120-120v-720h720v720H120Zm60-500h600v-160H180v160Zm220 220h160v-160H400v160Zm0 220h160v-160H400v160ZM180-400h160v-160H180v160Zm440 0h160v-160H620v160ZM180-180h160v-160H180v160Zm440 0h160v-160H620v160Z\"/>\n",
              "  </svg>\n",
              "    </button>\n",
              "\n",
              "  <style>\n",
              "    .colab-df-container {\n",
              "      display:flex;\n",
              "      gap: 12px;\n",
              "    }\n",
              "\n",
              "    .colab-df-convert {\n",
              "      background-color: #E8F0FE;\n",
              "      border: none;\n",
              "      border-radius: 50%;\n",
              "      cursor: pointer;\n",
              "      display: none;\n",
              "      fill: #1967D2;\n",
              "      height: 32px;\n",
              "      padding: 0 0 0 0;\n",
              "      width: 32px;\n",
              "    }\n",
              "\n",
              "    .colab-df-convert:hover {\n",
              "      background-color: #E2EBFA;\n",
              "      box-shadow: 0px 1px 2px rgba(60, 64, 67, 0.3), 0px 1px 3px 1px rgba(60, 64, 67, 0.15);\n",
              "      fill: #174EA6;\n",
              "    }\n",
              "\n",
              "    .colab-df-buttons div {\n",
              "      margin-bottom: 4px;\n",
              "    }\n",
              "\n",
              "    [theme=dark] .colab-df-convert {\n",
              "      background-color: #3B4455;\n",
              "      fill: #D2E3FC;\n",
              "    }\n",
              "\n",
              "    [theme=dark] .colab-df-convert:hover {\n",
              "      background-color: #434B5C;\n",
              "      box-shadow: 0px 1px 3px 1px rgba(0, 0, 0, 0.15);\n",
              "      filter: drop-shadow(0px 1px 2px rgba(0, 0, 0, 0.3));\n",
              "      fill: #FFFFFF;\n",
              "    }\n",
              "  </style>\n",
              "\n",
              "    <script>\n",
              "      const buttonEl =\n",
              "        document.querySelector('#df-4243c813-f3f0-43f2-8bbd-f6470a82cc16 button.colab-df-convert');\n",
              "      buttonEl.style.display =\n",
              "        google.colab.kernel.accessAllowed ? 'block' : 'none';\n",
              "\n",
              "      async function convertToInteractive(key) {\n",
              "        const element = document.querySelector('#df-4243c813-f3f0-43f2-8bbd-f6470a82cc16');\n",
              "        const dataTable =\n",
              "          await google.colab.kernel.invokeFunction('convertToInteractive',\n",
              "                                                    [key], {});\n",
              "        if (!dataTable) return;\n",
              "\n",
              "        const docLinkHtml = 'Like what you see? Visit the ' +\n",
              "          '<a target=\"_blank\" href=https://colab.research.google.com/notebooks/data_table.ipynb>data table notebook</a>'\n",
              "          + ' to learn more about interactive tables.';\n",
              "        element.innerHTML = '';\n",
              "        dataTable['output_type'] = 'display_data';\n",
              "        await google.colab.output.renderOutput(dataTable, element);\n",
              "        const docLink = document.createElement('div');\n",
              "        docLink.innerHTML = docLinkHtml;\n",
              "        element.appendChild(docLink);\n",
              "      }\n",
              "    </script>\n",
              "  </div>\n",
              "\n",
              "\n",
              "    <div id=\"df-fe7dd17c-b05f-4ef7-ab1c-472fcd67aea0\">\n",
              "      <button class=\"colab-df-quickchart\" onclick=\"quickchart('df-fe7dd17c-b05f-4ef7-ab1c-472fcd67aea0')\"\n",
              "                title=\"Suggest charts\"\n",
              "                style=\"display:none;\">\n",
              "\n",
              "<svg xmlns=\"http://www.w3.org/2000/svg\" height=\"24px\"viewBox=\"0 0 24 24\"\n",
              "     width=\"24px\">\n",
              "    <g>\n",
              "        <path d=\"M19 3H5c-1.1 0-2 .9-2 2v14c0 1.1.9 2 2 2h14c1.1 0 2-.9 2-2V5c0-1.1-.9-2-2-2zM9 17H7v-7h2v7zm4 0h-2V7h2v10zm4 0h-2v-4h2v4z\"/>\n",
              "    </g>\n",
              "</svg>\n",
              "      </button>\n",
              "\n",
              "<style>\n",
              "  .colab-df-quickchart {\n",
              "      --bg-color: #E8F0FE;\n",
              "      --fill-color: #1967D2;\n",
              "      --hover-bg-color: #E2EBFA;\n",
              "      --hover-fill-color: #174EA6;\n",
              "      --disabled-fill-color: #AAA;\n",
              "      --disabled-bg-color: #DDD;\n",
              "  }\n",
              "\n",
              "  [theme=dark] .colab-df-quickchart {\n",
              "      --bg-color: #3B4455;\n",
              "      --fill-color: #D2E3FC;\n",
              "      --hover-bg-color: #434B5C;\n",
              "      --hover-fill-color: #FFFFFF;\n",
              "      --disabled-bg-color: #3B4455;\n",
              "      --disabled-fill-color: #666;\n",
              "  }\n",
              "\n",
              "  .colab-df-quickchart {\n",
              "    background-color: var(--bg-color);\n",
              "    border: none;\n",
              "    border-radius: 50%;\n",
              "    cursor: pointer;\n",
              "    display: none;\n",
              "    fill: var(--fill-color);\n",
              "    height: 32px;\n",
              "    padding: 0;\n",
              "    width: 32px;\n",
              "  }\n",
              "\n",
              "  .colab-df-quickchart:hover {\n",
              "    background-color: var(--hover-bg-color);\n",
              "    box-shadow: 0 1px 2px rgba(60, 64, 67, 0.3), 0 1px 3px 1px rgba(60, 64, 67, 0.15);\n",
              "    fill: var(--button-hover-fill-color);\n",
              "  }\n",
              "\n",
              "  .colab-df-quickchart-complete:disabled,\n",
              "  .colab-df-quickchart-complete:disabled:hover {\n",
              "    background-color: var(--disabled-bg-color);\n",
              "    fill: var(--disabled-fill-color);\n",
              "    box-shadow: none;\n",
              "  }\n",
              "\n",
              "  .colab-df-spinner {\n",
              "    border: 2px solid var(--fill-color);\n",
              "    border-color: transparent;\n",
              "    border-bottom-color: var(--fill-color);\n",
              "    animation:\n",
              "      spin 1s steps(1) infinite;\n",
              "  }\n",
              "\n",
              "  @keyframes spin {\n",
              "    0% {\n",
              "      border-color: transparent;\n",
              "      border-bottom-color: var(--fill-color);\n",
              "      border-left-color: var(--fill-color);\n",
              "    }\n",
              "    20% {\n",
              "      border-color: transparent;\n",
              "      border-left-color: var(--fill-color);\n",
              "      border-top-color: var(--fill-color);\n",
              "    }\n",
              "    30% {\n",
              "      border-color: transparent;\n",
              "      border-left-color: var(--fill-color);\n",
              "      border-top-color: var(--fill-color);\n",
              "      border-right-color: var(--fill-color);\n",
              "    }\n",
              "    40% {\n",
              "      border-color: transparent;\n",
              "      border-right-color: var(--fill-color);\n",
              "      border-top-color: var(--fill-color);\n",
              "    }\n",
              "    60% {\n",
              "      border-color: transparent;\n",
              "      border-right-color: var(--fill-color);\n",
              "    }\n",
              "    80% {\n",
              "      border-color: transparent;\n",
              "      border-right-color: var(--fill-color);\n",
              "      border-bottom-color: var(--fill-color);\n",
              "    }\n",
              "    90% {\n",
              "      border-color: transparent;\n",
              "      border-bottom-color: var(--fill-color);\n",
              "    }\n",
              "  }\n",
              "</style>\n",
              "\n",
              "      <script>\n",
              "        async function quickchart(key) {\n",
              "          const quickchartButtonEl =\n",
              "            document.querySelector('#' + key + ' button');\n",
              "          quickchartButtonEl.disabled = true;  // To prevent multiple clicks.\n",
              "          quickchartButtonEl.classList.add('colab-df-spinner');\n",
              "          try {\n",
              "            const charts = await google.colab.kernel.invokeFunction(\n",
              "                'suggestCharts', [key], {});\n",
              "          } catch (error) {\n",
              "            console.error('Error during call to suggestCharts:', error);\n",
              "          }\n",
              "          quickchartButtonEl.classList.remove('colab-df-spinner');\n",
              "          quickchartButtonEl.classList.add('colab-df-quickchart-complete');\n",
              "        }\n",
              "        (() => {\n",
              "          let quickchartButtonEl =\n",
              "            document.querySelector('#df-fe7dd17c-b05f-4ef7-ab1c-472fcd67aea0 button');\n",
              "          quickchartButtonEl.style.display =\n",
              "            google.colab.kernel.accessAllowed ? 'block' : 'none';\n",
              "        })();\n",
              "      </script>\n",
              "    </div>\n",
              "\n",
              "  <div id=\"id_228a4378-2956-406a-b973-c4d33d3e2a06\">\n",
              "    <style>\n",
              "      .colab-df-generate {\n",
              "        background-color: #E8F0FE;\n",
              "        border: none;\n",
              "        border-radius: 50%;\n",
              "        cursor: pointer;\n",
              "        display: none;\n",
              "        fill: #1967D2;\n",
              "        height: 32px;\n",
              "        padding: 0 0 0 0;\n",
              "        width: 32px;\n",
              "      }\n",
              "\n",
              "      .colab-df-generate:hover {\n",
              "        background-color: #E2EBFA;\n",
              "        box-shadow: 0px 1px 2px rgba(60, 64, 67, 0.3), 0px 1px 3px 1px rgba(60, 64, 67, 0.15);\n",
              "        fill: #174EA6;\n",
              "      }\n",
              "\n",
              "      [theme=dark] .colab-df-generate {\n",
              "        background-color: #3B4455;\n",
              "        fill: #D2E3FC;\n",
              "      }\n",
              "\n",
              "      [theme=dark] .colab-df-generate:hover {\n",
              "        background-color: #434B5C;\n",
              "        box-shadow: 0px 1px 3px 1px rgba(0, 0, 0, 0.15);\n",
              "        filter: drop-shadow(0px 1px 2px rgba(0, 0, 0, 0.3));\n",
              "        fill: #FFFFFF;\n",
              "      }\n",
              "    </style>\n",
              "    <button class=\"colab-df-generate\" onclick=\"generateWithVariable('results_df')\"\n",
              "            title=\"Generate code using this dataframe.\"\n",
              "            style=\"display:none;\">\n",
              "\n",
              "  <svg xmlns=\"http://www.w3.org/2000/svg\" height=\"24px\"viewBox=\"0 0 24 24\"\n",
              "       width=\"24px\">\n",
              "    <path d=\"M7,19H8.4L18.45,9,17,7.55,7,17.6ZM5,21V16.75L18.45,3.32a2,2,0,0,1,2.83,0l1.4,1.43a1.91,1.91,0,0,1,.58,1.4,1.91,1.91,0,0,1-.58,1.4L9.25,21ZM18.45,9,17,7.55Zm-12,3A5.31,5.31,0,0,0,4.9,8.1,5.31,5.31,0,0,0,1,6.5,5.31,5.31,0,0,0,4.9,4.9,5.31,5.31,0,0,0,6.5,1,5.31,5.31,0,0,0,8.1,4.9,5.31,5.31,0,0,0,12,6.5,5.46,5.46,0,0,0,6.5,12Z\"/>\n",
              "  </svg>\n",
              "    </button>\n",
              "    <script>\n",
              "      (() => {\n",
              "      const buttonEl =\n",
              "        document.querySelector('#id_228a4378-2956-406a-b973-c4d33d3e2a06 button.colab-df-generate');\n",
              "      buttonEl.style.display =\n",
              "        google.colab.kernel.accessAllowed ? 'block' : 'none';\n",
              "\n",
              "      buttonEl.onclick = () => {\n",
              "        google.colab.notebook.generateWithVariable('results_df');\n",
              "      }\n",
              "      })();\n",
              "    </script>\n",
              "  </div>\n",
              "\n",
              "    </div>\n",
              "  </div>\n"
            ],
            "application/vnd.google.colaboratory.intrinsic+json": {
              "type": "dataframe",
              "variable_name": "results_df",
              "summary": "{\n  \"name\": \"results_df\",\n  \"rows\": 4,\n  \"fields\": [\n    {\n      \"column\": \"Dataset\",\n      \"properties\": {\n        \"dtype\": \"string\",\n        \"num_unique_values\": 4,\n        \"samples\": [\n          \"Test Set\",\n          \"General Dataset\",\n          \"Validation Set\"\n        ],\n        \"semantic_type\": \"\",\n        \"description\": \"\"\n      }\n    },\n    {\n      \"column\": \"NB-1 Accuracy\",\n      \"properties\": {\n        \"dtype\": \"number\",\n        \"std\": 0.11792104101086633,\n        \"min\": 0.7224180472329926,\n        \"max\": 0.9780927835051546,\n        \"num_unique_values\": 4,\n        \"samples\": [\n          0.9780927835051546,\n          0.8710801393728222,\n          0.9651612903225807\n        ],\n        \"semantic_type\": \"\",\n        \"description\": \"\"\n      }\n    },\n    {\n      \"column\": \"SVM-1 Accuracy\",\n      \"properties\": {\n        \"dtype\": \"number\",\n        \"std\": 0.2506932446530612,\n        \"min\": 0.4605216778286923,\n        \"max\": 0.9896907216494846,\n        \"num_unique_values\": 4,\n        \"samples\": [\n          0.9896907216494846,\n          0.9006968641114983,\n          0.9767741935483871\n        ],\n        \"semantic_type\": \"\",\n        \"description\": \"\"\n      }\n    },\n    {\n      \"column\": \"NB-1 F1\",\n      \"properties\": {\n        \"dtype\": \"number\",\n        \"std\": 0.265283130524111,\n        \"min\": 0.3368421052631579,\n        \"max\": 0.9050279329608939,\n        \"num_unique_values\": 4,\n        \"samples\": [\n          0.9050279329608939,\n          0.8474226804123711,\n          0.8402366863905325\n        ],\n        \"semantic_type\": \"\",\n        \"description\": \"\"\n      }\n    },\n    {\n      \"column\": \"SVM-1 F1\",\n      \"properties\": {\n        \"dtype\": \"number\",\n        \"std\": 0.2893558899240599,\n        \"min\": 0.34072797760068924,\n        \"max\": 0.9578947368421052,\n        \"num_unique_values\": 4,\n        \"samples\": [\n          0.9578947368421052,\n          0.8877952755905512,\n          0.9032258064516129\n        ],\n        \"semantic_type\": \"\",\n        \"description\": \"\"\n      }\n    }\n  ]\n}"
            }
          },
          "metadata": {}
        }
      ]
    },
    {
      "cell_type": "code",
      "source": [
        "# Save results to CSV for later combination\n",
        "results_df.to_csv(\"results_path1.csv\", index=False)"
      ],
      "metadata": {
        "id": "GDBcg5G8_rss"
      },
      "execution_count": 41,
      "outputs": []
    },
    {
      "cell_type": "markdown",
      "source": [
        "## 11.2 Visualization of Performance Comparison"
      ],
      "metadata": {
        "id": "p3ooGnEfwVv8"
      }
    },
    {
      "cell_type": "code",
      "source": [
        "# 12.2 Visualization of Performance Comparison\n",
        "fig, axes = plt.subplots(1, 2, figsize=(14, 5))\n",
        "\n",
        "# Accuracy plot\n",
        "results_df.plot(x=\"Dataset\", y=[\"NB-1 Accuracy\", \"SVM-1 Accuracy\"], kind=\"bar\", ax=axes[0],\n",
        "                color=[\"skyblue\", \"orange\"], legend=False)\n",
        "axes[0].set_title(\"Accuracy Comparison across Datasets\")\n",
        "axes[0].set_ylabel(\"Accuracy\")\n",
        "axes[0].set_ylim(0.3, 1.0)\n",
        "axes[0].legend([\"NB-1 Accuracy\", \"SVM-1 Accuracy\"], loc='upper left', bbox_to_anchor=(1.0, 1.0))\n",
        "\n",
        "# F1 score plot\n",
        "results_df.plot(x=\"Dataset\", y=[\"NB-1 F1\", \"SVM-1 F1\"], kind=\"bar\", ax=axes[1],\n",
        "                color=[\"lightgreen\", \"salmon\"], legend=False)\n",
        "axes[1].set_title(\"F1 Score Comparison across Datasets\")\n",
        "axes[1].set_ylabel(\"F1 Score\")\n",
        "axes[1].set_ylim(0.3, 1.0)\n",
        "axes[1].legend([\"NB-1 F1\", \"SVM-1 F1\"], loc='upper left', bbox_to_anchor=(1.0, 1.0))\n",
        "\n",
        "plt.tight_layout()\n",
        "plt.show()\n"
      ],
      "metadata": {
        "colab": {
          "base_uri": "https://localhost:8080/",
          "height": 262
        },
        "id": "78PcRmGb2Syt",
        "outputId": "bc8029a3-d33c-490c-d770-7e906ff93327"
      },
      "execution_count": 42,
      "outputs": [
        {
          "output_type": "display_data",
          "data": {
            "text/plain": [
              "<Figure size 1400x500 with 2 Axes>"
            ],
            "image/png": "[encoded data removed]"
          },
          "metadata": {}
        }
      ]
    },
    {
      "cell_type": "markdown",
      "source": [
        "# 12. Which Model Performed Better in Path 1?\n",
        "\n",
        "In Path 1, both models—NB-1 and SVM-1—were trained on a smaller dataset. Across the validation and final test sets, SVM-1 consistently outperformed NB-1, particularly in detecting spam messages.\n",
        "\n",
        "On the validation set, SVM-1 achieved a higher F1 score (0.9032 vs. 0.8402), demonstrating stronger balance between precision and recall. This performance gap widened on the final test set, where SVM-1 reached an F1 score of 0.9579, significantly surpassing NB-1’s 0.9050. SVM-1 also maintained better spam recall and lower false negatives.\n",
        "\n",
        "However, when tested on the large clean external dataset (Dataset 2), both models underperformed—especially SVM-1, which dropped to an accuracy of 46.05% and an F1 score of 0.3407. NB-1 performed slightly better with 72.24% accuracy and a similar F1 score of 0.3368, showing that both models struggled to generalize from small-scale training.\n",
        "\n",
        "On the general third dataset (Dataset 3), SVM-1 again outperformed NB-1 with an F1 score of 0.8878 compared to 0.8474, indicating stronger robustness and spam detection accuracy in more realistic conditions.\n",
        "\n",
        "In summary, **SVM-1** performed better than NB-1 on both internal evaluations and external datasets, with higher F1 scores and better spam classification. Yet, both models showed limitations when evaluated on a much larger and more complex dataset, underscoring the constraints of training on limited data in Path 1.\n",
        "\n",
        "---\n",
        "\n",
        "## Additional Note:\n",
        "\n",
        "In Section **10. Predicting New Messages**, both models correctly classified real-world spam and ham messages, confirming their practical applicability and robustness in production environments.\n"
      ],
      "metadata": {
        "id": "FBYNI1lmyK3M"
      }
    }
  ]
}